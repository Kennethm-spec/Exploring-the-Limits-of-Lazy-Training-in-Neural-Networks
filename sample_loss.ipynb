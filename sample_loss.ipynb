{
 "cells": [
  {
   "cell_type": "code",
   "execution_count": 2,
   "metadata": {},
   "outputs": [
    {
     "name": "stderr",
     "output_type": "stream",
     "text": [
      "2023-04-27 09:45:32.342517: I tensorflow/core/platform/cpu_feature_guard.cc:193] This TensorFlow binary is optimized with oneAPI Deep Neural Network Library (oneDNN) to use the following CPU instructions in performance-critical operations:  AVX2 FMA\n",
      "To enable them in other operations, rebuild TensorFlow with the appropriate compiler flags.\n"
     ]
    }
   ],
   "source": [
    "import tensorflow as tf \n",
    "import numpy as np \n",
    "from matplotlib import pyplot as plt "
   ]
  },
  {
   "cell_type": "code",
   "execution_count": 3,
   "metadata": {},
   "outputs": [],
   "source": [
    "class MyThresholdCallback(tf.keras.callbacks.Callback):\n",
    "    def __init__(self, threshold):\n",
    "        super(MyThresholdCallback, self).__init__()\n",
    "        self.threshold = threshold\n",
    "\n",
    "    def on_epoch_end(self, epoch, logs=None):\n",
    "        loss = logs[\"loss\"]\n",
    "        if loss <= self.threshold:\n",
    "            self.model.stop_training = True\n"
   ]
  },
  {
   "cell_type": "code",
   "execution_count": 4,
   "metadata": {},
   "outputs": [],
   "source": [
    "epoch_loss = []\n",
    "\n",
    "class LogEpochLoss(tf.keras.callbacks.Callback):\n",
    "    def on_epoch_end(self, epoch, logs=None):\n",
    "        epoch_loss.append(logs[\"loss\"])"
   ]
  },
  {
   "cell_type": "code",
   "execution_count": 5,
   "metadata": {},
   "outputs": [],
   "source": [
    "from tensorflow.keras.datasets import mnist "
   ]
  },
  {
   "cell_type": "code",
   "execution_count": 7,
   "metadata": {},
   "outputs": [
    {
     "name": "stdout",
     "output_type": "stream",
     "text": [
      "(60000, 28, 28)\n",
      "X size: (500, 32, 32, 1)\n",
      "Y size: (500, 10)\n"
     ]
    }
   ],
   "source": [
    "(trainX, trainy), (testX, testy) = mnist.load_data()\n",
    "\n",
    "X = trainX\n",
    "y = trainy\n",
    "\n",
    "y = tf.keras.utils.to_categorical(y)\n",
    "\n",
    "\n",
    "print(X.shape)\n",
    "\n",
    "X = np.expand_dims(X, axis=-1)\n",
    "\n",
    "X = tf.image.resize(X,  [32,32]) \n",
    "\n",
    "X = X[0:500]\n",
    "y = y[0:500]\n",
    "print(\"X size:\", X.shape)\n",
    "print(\"Y size:\", y.shape)\n",
    "\n",
    "input_shape = X[0].shape\n",
    "input_shape = input_shape + (1,)"
   ]
  },
  {
   "cell_type": "code",
   "execution_count": 8,
   "metadata": {},
   "outputs": [],
   "source": [
    "base_model = tf.keras.applications.EfficientNetB0(input_shape = (32, 32, 1), include_top = False, weights = None )"
   ]
  },
  {
   "cell_type": "code",
   "execution_count": 9,
   "metadata": {},
   "outputs": [
    {
     "name": "stdout",
     "output_type": "stream",
     "text": [
      "Model: \"sequential\"\n",
      "_________________________________________________________________\n",
      " Layer (type)                Output Shape              Param #   \n",
      "=================================================================\n",
      " efficientnetb0 (Functional)  (None, 1, 1, 1280)       4048991   \n",
      "                                                                 \n",
      " flatten (Flatten)           (None, 1280)              0         \n",
      "                                                                 \n",
      " dense (Dense)               (None, 1000)              1281000   \n",
      "                                                                 \n",
      " dense_1 (Dense)             (None, 10)                10010     \n",
      "                                                                 \n",
      "=================================================================\n",
      "Total params: 5,340,001\n",
      "Trainable params: 5,297,982\n",
      "Non-trainable params: 42,019\n",
      "_________________________________________________________________\n"
     ]
    }
   ],
   "source": [
    "model = tf.keras.models.Sequential([\n",
    "    base_model,\n",
    "    tf.keras.layers.Flatten(),\n",
    "    tf.keras.layers.Dense(units = 1000, activation = 'relu'),\n",
    "    tf.keras.layers.Dense(units = 10, activation = 'softmax')\n",
    "])\n",
    "\n",
    "model.summary()"
   ]
  },
  {
   "cell_type": "code",
   "execution_count": 13,
   "metadata": {},
   "outputs": [
    {
     "name": "stdout",
     "output_type": "stream",
     "text": [
      "Epoch 1/10\n",
      "10/10 [==============================] - 19s 210ms/step - loss: 0.2321 - accuracy: 0.9300\n",
      "Epoch 2/10\n",
      "10/10 [==============================] - 2s 217ms/step - loss: 0.1807 - accuracy: 0.9500\n",
      "Epoch 3/10\n",
      "10/10 [==============================] - 2s 212ms/step - loss: 0.1073 - accuracy: 0.9800\n",
      "Epoch 4/10\n",
      "10/10 [==============================] - 2s 224ms/step - loss: 0.0892 - accuracy: 0.9740\n",
      "Epoch 5/10\n",
      "10/10 [==============================] - 2s 204ms/step - loss: 0.0709 - accuracy: 0.9780\n",
      "Epoch 6/10\n",
      "10/10 [==============================] - 2s 233ms/step - loss: 0.0862 - accuracy: 0.9720\n",
      "Epoch 7/10\n",
      "10/10 [==============================] - 2s 209ms/step - loss: 0.1050 - accuracy: 0.9620\n",
      "Epoch 8/10\n",
      "10/10 [==============================] - 2s 209ms/step - loss: 0.0746 - accuracy: 0.9760\n",
      "Epoch 9/10\n",
      "10/10 [==============================] - 3s 256ms/step - loss: 0.1552 - accuracy: 0.9640\n",
      "Epoch 10/10\n",
      "10/10 [==============================] - 2s 207ms/step - loss: 0.1883 - accuracy: 0.9540\n"
     ]
    },
    {
     "data": {
      "text/plain": [
       "<keras.callbacks.History at 0x7fc1f81f4828>"
      ]
     },
     "execution_count": 13,
     "metadata": {},
     "output_type": "execute_result"
    }
   ],
   "source": [
    "model.compile(loss='categorical_crossentropy', optimizer='adam', metrics=['accuracy'])\n",
    "model.fit(X, y, epochs = 10, batch_size = 10, verbose = 1)"
   ]
  },
  {
   "cell_type": "code",
   "execution_count": 14,
   "metadata": {},
   "outputs": [],
   "source": [
    "base_model.trainable = False "
   ]
  },
  {
   "cell_type": "code",
   "execution_count": 15,
   "metadata": {},
   "outputs": [],
   "source": [
    "base_model.save_weights('models/')"
   ]
  },
  {
   "cell_type": "code",
   "execution_count": 16,
   "metadata": {},
   "outputs": [],
   "source": [
    "unit_range = np.arange(1000, 100000, 1000)"
   ]
  },
  {
   "cell_type": "code",
   "execution_count": 17,
   "metadata": {},
   "outputs": [
    {
     "name": "stdout",
     "output_type": "stream",
     "text": [
      "Model: \"sequential_1\"\n",
      "_________________________________________________________________\n",
      " Layer (type)                Output Shape              Param #   \n",
      "=================================================================\n",
      " efficientnetb0 (Functional)  (None, 1, 1, 1280)       4048991   \n",
      "                                                                 \n",
      " flatten_1 (Flatten)         (None, 1280)              0         \n",
      "                                                                 \n",
      " dense_2 (Dense)             (None, 1000)              1281000   \n",
      "                                                                 \n",
      " dense_3 (Dense)             (None, 10)                10010     \n",
      "                                                                 \n",
      "=================================================================\n",
      "Total params: 5,340,001\n",
      "Trainable params: 1,291,010\n",
      "Non-trainable params: 4,048,991\n",
      "_________________________________________________________________\n",
      "(1000, 10)\n"
     ]
    }
   ],
   "source": [
    "model = tf.keras.models.Sequential([ \n",
    "    base_model,\n",
    "    tf.keras.layers.Flatten(), \n",
    "    tf.keras.layers.Dense(units = 1000, activation = 'relu'),\n",
    "    tf.keras.layers.Dense(units = 10, activation = 'softmax')\n",
    "])\n",
    "model.summary()\n",
    "\n",
    "print(np.shape(model.layers[3].get_weights()[0]))\n"
   ]
  },
  {
   "cell_type": "code",
   "execution_count": 18,
   "metadata": {},
   "outputs": [],
   "source": [
    "initial_weights_1 = []\n",
    "initial_weights_2 = []\n",
    "final_weights_1 = []\n",
    "final_weights_2 = []"
   ]
  },
  {
   "cell_type": "code",
   "execution_count": 19,
   "metadata": {},
   "outputs": [
    {
     "name": "stdout",
     "output_type": "stream",
     "text": [
      "Epoch 1/5\n",
      "50/50 [==============================] - 8s 30ms/step - loss: 0.2173 - accuracy: 0.9420\n",
      "Epoch 2/5\n",
      "50/50 [==============================] - 1s 29ms/step - loss: 0.0425 - accuracy: 0.9840\n",
      "Epoch 3/5\n",
      "50/50 [==============================] - 2s 32ms/step - loss: 0.1431 - accuracy: 0.9780\n",
      "Epoch 4/5\n",
      "50/50 [==============================] - 2s 32ms/step - loss: 0.1104 - accuracy: 0.9760\n",
      "Epoch 5/5\n",
      "50/50 [==============================] - 2s 31ms/step - loss: 0.0260 - accuracy: 0.9900\n",
      "Epoch 1/5\n",
      "50/50 [==============================] - 8s 52ms/step - loss: 0.1983 - accuracy: 0.9460\n",
      "Epoch 2/5\n",
      "50/50 [==============================] - 3s 51ms/step - loss: 0.3498 - accuracy: 0.9740\n",
      "Epoch 3/5\n",
      "50/50 [==============================] - 3s 51ms/step - loss: 0.1311 - accuracy: 0.9820\n",
      "Epoch 4/5\n",
      "50/50 [==============================] - 3s 55ms/step - loss: 0.0522 - accuracy: 0.9800\n",
      "Epoch 5/5\n",
      "50/50 [==============================] - 3s 53ms/step - loss: 0.0766 - accuracy: 0.9900\n",
      "Epoch 1/5\n",
      "50/50 [==============================] - 8s 69ms/step - loss: 0.2444 - accuracy: 0.9520\n",
      "Epoch 2/5\n",
      "50/50 [==============================] - 3s 69ms/step - loss: 0.1222 - accuracy: 0.9800\n",
      "Epoch 3/5\n",
      "50/50 [==============================] - 3s 70ms/step - loss: 0.1472 - accuracy: 0.9720\n",
      "Epoch 4/5\n",
      "50/50 [==============================] - 3s 70ms/step - loss: 0.3833 - accuracy: 0.9780\n",
      "Epoch 5/5\n",
      "50/50 [==============================] - 3s 69ms/step - loss: 0.4234 - accuracy: 0.9800\n",
      "Epoch 1/5\n",
      "50/50 [==============================] - 9s 84ms/step - loss: 0.3541 - accuracy: 0.9380\n",
      "Epoch 2/5\n",
      "50/50 [==============================] - 4s 85ms/step - loss: 0.1916 - accuracy: 0.9700\n",
      "Epoch 3/5\n",
      "50/50 [==============================] - 4s 87ms/step - loss: 0.1691 - accuracy: 0.9880\n",
      "Epoch 4/5\n",
      "50/50 [==============================] - 5s 95ms/step - loss: 0.0594 - accuracy: 0.9900\n",
      "Epoch 5/5\n",
      "50/50 [==============================] - 5s 103ms/step - loss: 0.2628 - accuracy: 0.9760\n",
      "Epoch 1/5\n",
      "50/50 [==============================] - 12s 108ms/step - loss: 0.3281 - accuracy: 0.9280\n",
      "Epoch 2/5\n",
      "50/50 [==============================] - 5s 102ms/step - loss: 0.0961 - accuracy: 0.9940\n",
      "Epoch 3/5\n",
      "50/50 [==============================] - 5s 105ms/step - loss: 0.1167 - accuracy: 0.9860\n",
      "Epoch 4/5\n",
      "50/50 [==============================] - 5s 101ms/step - loss: 0.1344 - accuracy: 0.9860\n",
      "Epoch 5/5\n",
      "50/50 [==============================] - 5s 97ms/step - loss: 0.0266 - accuracy: 0.9920\n",
      "Epoch 1/5\n",
      "50/50 [==============================] - 11s 122ms/step - loss: 0.3490 - accuracy: 0.9340\n",
      "Epoch 2/5\n",
      "50/50 [==============================] - 6s 125ms/step - loss: 0.3043 - accuracy: 0.9760\n",
      "Epoch 3/5\n",
      "50/50 [==============================] - 6s 116ms/step - loss: 0.1192 - accuracy: 0.9820\n",
      "Epoch 4/5\n",
      "50/50 [==============================] - 6s 115ms/step - loss: 0.5668 - accuracy: 0.9660\n",
      "Epoch 5/5\n",
      "50/50 [==============================] - 6s 118ms/step - loss: 0.1207 - accuracy: 0.9840\n",
      "Epoch 1/5\n",
      "50/50 [==============================] - 11s 125ms/step - loss: 0.4000 - accuracy: 0.9380\n",
      "Epoch 2/5\n",
      "50/50 [==============================] - 6s 129ms/step - loss: 0.3436 - accuracy: 0.9660\n",
      "Epoch 3/5\n",
      "50/50 [==============================] - 6s 127ms/step - loss: 0.2590 - accuracy: 0.9680\n",
      "Epoch 4/5\n",
      "50/50 [==============================] - 7s 140ms/step - loss: 0.1118 - accuracy: 0.9840\n",
      "Epoch 5/5\n",
      "50/50 [==============================] - 7s 141ms/step - loss: 0.2814 - accuracy: 0.9660\n",
      "Epoch 1/5\n",
      "50/50 [==============================] - 14s 141ms/step - loss: 0.3576 - accuracy: 0.9460\n",
      "Epoch 2/5\n",
      "50/50 [==============================] - 7s 141ms/step - loss: 0.3209 - accuracy: 0.9800\n",
      "Epoch 3/5\n",
      "50/50 [==============================] - 7s 139ms/step - loss: 0.1340 - accuracy: 0.9760\n",
      "Epoch 4/5\n",
      "50/50 [==============================] - 7s 139ms/step - loss: 0.6024 - accuracy: 0.9680\n",
      "Epoch 5/5\n",
      "50/50 [==============================] - 7s 140ms/step - loss: 0.8468 - accuracy: 0.9640\n",
      "Epoch 1/5\n",
      "50/50 [==============================] - 13s 155ms/step - loss: 0.7488 - accuracy: 0.9100\n",
      "Epoch 2/5\n",
      "50/50 [==============================] - 8s 156ms/step - loss: 0.1732 - accuracy: 0.9740\n",
      "Epoch 3/5\n",
      "50/50 [==============================] - 8s 158ms/step - loss: 0.1125 - accuracy: 0.9780\n",
      "Epoch 4/5\n",
      "50/50 [==============================] - 8s 155ms/step - loss: 0.2157 - accuracy: 0.9780\n",
      "Epoch 5/5\n",
      "50/50 [==============================] - 8s 158ms/step - loss: 0.5508 - accuracy: 0.9840\n",
      "Epoch 1/5\n",
      "50/50 [==============================] - 14s 179ms/step - loss: 0.6185 - accuracy: 0.9300\n",
      "Epoch 2/5\n",
      "50/50 [==============================] - 9s 171ms/step - loss: 0.2624 - accuracy: 0.9720\n",
      "Epoch 3/5\n",
      "50/50 [==============================] - 9s 175ms/step - loss: 0.2407 - accuracy: 0.9680\n",
      "Epoch 4/5\n",
      "50/50 [==============================] - 9s 171ms/step - loss: 0.0957 - accuracy: 0.9860\n",
      "Epoch 5/5\n",
      "50/50 [==============================] - 9s 170ms/step - loss: 0.2868 - accuracy: 0.9800\n",
      "Epoch 1/5\n",
      "50/50 [==============================] - 14s 184ms/step - loss: 0.3860 - accuracy: 0.9280\n",
      "Epoch 2/5\n",
      "50/50 [==============================] - 9s 188ms/step - loss: 0.3610 - accuracy: 0.9660\n",
      "Epoch 3/5\n",
      "50/50 [==============================] - 9s 186ms/step - loss: 0.3583 - accuracy: 0.9700\n",
      "Epoch 4/5\n",
      "50/50 [==============================] - 9s 188ms/step - loss: 0.9958 - accuracy: 0.9800\n",
      "Epoch 5/5\n",
      "50/50 [==============================] - 9s 189ms/step - loss: 0.1870 - accuracy: 0.9800\n",
      "Epoch 1/5\n",
      "50/50 [==============================] - 15s 199ms/step - loss: 0.3611 - accuracy: 0.9360\n",
      "Epoch 2/5\n",
      "50/50 [==============================] - 10s 200ms/step - loss: 0.5172 - accuracy: 0.9700\n",
      "Epoch 3/5\n",
      "50/50 [==============================] - 10s 210ms/step - loss: 0.3988 - accuracy: 0.9580\n",
      "Epoch 4/5\n",
      "50/50 [==============================] - 11s 221ms/step - loss: 0.1301 - accuracy: 0.9820\n",
      "Epoch 5/5\n",
      "50/50 [==============================] - 10s 208ms/step - loss: 0.2477 - accuracy: 0.9700\n",
      "Epoch 1/5\n"
     ]
    }
   ],
   "source": [
    "\n",
    "\n",
    "for units in unit_range:\n",
    "    model = tf.keras.models.Sequential([ \n",
    "        base_model,\n",
    "        tf.keras.layers.Flatten(), \n",
    "        tf.keras.layers.Dense(units = units, activation = 'relu'),\n",
    "        tf.keras.layers.Dense(units = 10, activation = 'softmax')\n",
    "    ])\n",
    "    initial_weights_1.append(model.layers[2].get_weights()[0])\n",
    "    initial_weights_2.append(model.layers[3].get_weights()[0])\n",
    "    \n",
    "    model.compile(loss='categorical_crossentropy', optimizer='adam', metrics=['accuracy'])\n",
    "    model.fit(X, y, epochs = 5, batch_size = 10,  verbose = 1)\n",
    "\n",
    "    final_weights_1.append(model.layers[2].get_weights()[0])\n",
    "    final_weights_2.append(model.layers[3].get_weights()[0])\n",
    "\n",
    "\n"
   ]
  },
  {
   "cell_type": "code",
   "execution_count": null,
   "metadata": {},
   "outputs": [],
   "source": []
  }
 ],
 "metadata": {
  "kernelspec": {
   "display_name": "tf",
   "language": "python",
   "name": "python3"
  },
  "language_info": {
   "codemirror_mode": {
    "name": "ipython",
    "version": 3
   },
   "file_extension": ".py",
   "mimetype": "text/x-python",
   "name": "python",
   "nbconvert_exporter": "python",
   "pygments_lexer": "ipython3",
   "version": "3.7.2"
  },
  "orig_nbformat": 4
 },
 "nbformat": 4,
 "nbformat_minor": 2
}
