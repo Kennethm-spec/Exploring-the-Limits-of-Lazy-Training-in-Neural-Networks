{
 "cells": [
  {
   "cell_type": "code",
   "execution_count": 117,
   "metadata": {},
   "outputs": [
    {
     "name": "stdout",
     "output_type": "stream",
     "text": [
      "[PhysicalDevice(name='/physical_device:GPU:0', device_type='GPU')]\n"
     ]
    }
   ],
   "source": [
    "import tensorflow as tf \n",
    "import numpy as np \n",
    "print(tf.config.list_physical_devices('GPU'))"
   ]
  },
  {
   "cell_type": "code",
   "execution_count": 118,
   "metadata": {},
   "outputs": [],
   "source": [
    "# Instead of using random observations, try to classify some data with structure, like MNIST.\n",
    "from tensorflow.keras.datasets import mnist \n",
    "from matplotlib import pyplot as plt "
   ]
  },
  {
   "cell_type": "code",
   "execution_count": 119,
   "metadata": {},
   "outputs": [],
   "source": [
    "(trainX, trainy), (testX, testy) = mnist.load_data()"
   ]
  },
  {
   "cell_type": "code",
   "execution_count": 120,
   "metadata": {},
   "outputs": [
    {
     "name": "stdout",
     "output_type": "stream",
     "text": [
      "X size: (1000, 28, 28)\n",
      "Y size: (1000, 10)\n"
     ]
    }
   ],
   "source": [
    "X = trainX[0:1000]\n",
    "y = trainy[0:1000]\n",
    "\n",
    "y = tf.keras.utils.to_categorical(y)\n",
    "\n",
    "print(\"X size:\", X.shape)\n",
    "print(\"Y size:\", y.shape)"
   ]
  },
  {
   "cell_type": "code",
   "execution_count": 121,
   "metadata": {},
   "outputs": [],
   "source": [
    "class MyThresholdCallback(tf.keras.callbacks.Callback):\n",
    "    def __init__(self, threshold):\n",
    "        super(MyThresholdCallback, self).__init__()\n",
    "        self.threshold = threshold\n",
    "\n",
    "    def on_epoch_end(self, epoch, logs=None):\n",
    "        loss = logs[\"loss\"]\n",
    "        if loss <= self.threshold:\n",
    "            self.model.stop_training = True"
   ]
  },
  {
   "cell_type": "code",
   "execution_count": 122,
   "metadata": {},
   "outputs": [],
   "source": [
    "unit_range = np.arange(20000, 30005, 1000)\n",
    "\n",
    "initial_weights = []\n",
    "final_weights = []\n",
    "diff_weights = []"
   ]
  },
  {
   "cell_type": "code",
   "execution_count": 123,
   "metadata": {},
   "outputs": [
    {
     "name": "stdout",
     "output_type": "stream",
     "text": [
      "units =  20000\n",
      "Epoch 1/400\n",
      "   1/1000 [..............................] - ETA: 5:06 - loss: 43.8378 - accuracy: 0.0000e+00"
     ]
    },
    {
     "name": "stderr",
     "output_type": "stream",
     "text": [
      "2023-04-24 18:37:06.781049: I tensorflow/core/grappler/optimizers/custom_graph_optimizer_registry.cc:113] Plugin optimizer for device_type GPU is enabled.\n"
     ]
    },
    {
     "name": "stdout",
     "output_type": "stream",
     "text": [
      "1000/1000 [==============================] - 25s 25ms/step - loss: 102.3490 - accuracy: 0.6150\n",
      "Epoch 2/400\n",
      "1000/1000 [==============================] - 23s 23ms/step - loss: 43.5527 - accuracy: 0.8050\n",
      "Epoch 3/400\n",
      "1000/1000 [==============================] - 23s 23ms/step - loss: 39.9921 - accuracy: 0.8440\n",
      "Epoch 4/400\n",
      "1000/1000 [==============================] - 23s 23ms/step - loss: 24.8631 - accuracy: 0.9000\n",
      "Epoch 5/400\n",
      "1000/1000 [==============================] - 24s 24ms/step - loss: 19.2939 - accuracy: 0.9270\n",
      "Epoch 6/400\n",
      "1000/1000 [==============================] - 24s 24ms/step - loss: 21.3097 - accuracy: 0.9310\n",
      "Epoch 7/400\n",
      "1000/1000 [==============================] - 26s 26ms/step - loss: 13.1563 - accuracy: 0.9510\n",
      "Epoch 8/400\n",
      "1000/1000 [==============================] - 24s 24ms/step - loss: 13.1851 - accuracy: 0.9610\n",
      "Epoch 9/400\n",
      "1000/1000 [==============================] - 26s 26ms/step - loss: 15.5894 - accuracy: 0.9540\n",
      "Epoch 10/400\n",
      "1000/1000 [==============================] - 24s 24ms/step - loss: 14.3032 - accuracy: 0.9690\n",
      "Epoch 11/400\n",
      "1000/1000 [==============================] - 24s 24ms/step - loss: 12.2257 - accuracy: 0.9660\n",
      "Epoch 12/400\n",
      "1000/1000 [==============================] - 24s 24ms/step - loss: 2.0957 - accuracy: 0.9920\n",
      "units =  21000\n",
      "Epoch 1/400\n",
      "   1/1000 [..............................] - ETA: 5:31 - loss: 34.5302 - accuracy: 0.0000e+00"
     ]
    },
    {
     "name": "stderr",
     "output_type": "stream",
     "text": [
      "2023-04-24 18:41:56.420310: I tensorflow/core/grappler/optimizers/custom_graph_optimizer_registry.cc:113] Plugin optimizer for device_type GPU is enabled.\n"
     ]
    },
    {
     "name": "stdout",
     "output_type": "stream",
     "text": [
      "1000/1000 [==============================] - 25s 25ms/step - loss: 106.7808 - accuracy: 0.6070\n",
      "Epoch 2/400\n",
      "1000/1000 [==============================] - 25s 25ms/step - loss: 42.5962 - accuracy: 0.8010\n",
      "Epoch 3/400\n",
      "1000/1000 [==============================] - 27s 27ms/step - loss: 26.1907 - accuracy: 0.8680\n",
      "Epoch 4/400\n",
      "1000/1000 [==============================] - 25s 25ms/step - loss: 27.3478 - accuracy: 0.8890\n",
      "Epoch 5/400\n",
      "1000/1000 [==============================] - 25s 25ms/step - loss: 24.6026 - accuracy: 0.9130\n",
      "Epoch 6/400\n",
      "1000/1000 [==============================] - 25s 25ms/step - loss: 17.0165 - accuracy: 0.9270\n",
      "Epoch 7/400\n",
      "1000/1000 [==============================] - 26s 26ms/step - loss: 19.3701 - accuracy: 0.9370\n",
      "Epoch 8/400\n",
      "1000/1000 [==============================] - 25s 25ms/step - loss: 12.5190 - accuracy: 0.9620\n",
      "Epoch 9/400\n",
      "1000/1000 [==============================] - 27s 27ms/step - loss: 13.2733 - accuracy: 0.9540\n",
      "Epoch 10/400\n",
      "1000/1000 [==============================] - 26s 26ms/step - loss: 13.2902 - accuracy: 0.9580\n",
      "Epoch 11/400\n",
      "1000/1000 [==============================] - 25s 25ms/step - loss: 12.0062 - accuracy: 0.9670\n",
      "Epoch 12/400\n",
      "1000/1000 [==============================] - 25s 25ms/step - loss: 8.8780 - accuracy: 0.9720\n",
      "Epoch 13/400\n",
      "1000/1000 [==============================] - 26s 26ms/step - loss: 5.3569 - accuracy: 0.9820\n",
      "Epoch 14/400\n",
      "1000/1000 [==============================] - 25s 25ms/step - loss: 6.4017 - accuracy: 0.9800\n",
      "Epoch 15/400\n",
      "1000/1000 [==============================] - 26s 26ms/step - loss: 16.5093 - accuracy: 0.9680\n",
      "Epoch 16/400\n",
      "1000/1000 [==============================] - 26s 26ms/step - loss: 2.8702 - accuracy: 0.9890\n",
      "units =  22000\n",
      "Epoch 1/400\n"
     ]
    },
    {
     "name": "stderr",
     "output_type": "stream",
     "text": [
      "2023-04-24 18:48:45.346792: I tensorflow/core/grappler/optimizers/custom_graph_optimizer_registry.cc:113] Plugin optimizer for device_type GPU is enabled.\n"
     ]
    },
    {
     "name": "stdout",
     "output_type": "stream",
     "text": [
      "1000/1000 [==============================] - 28s 28ms/step - loss: 107.4887 - accuracy: 0.6100\n",
      "Epoch 2/400\n",
      "1000/1000 [==============================] - 26s 26ms/step - loss: 49.9379 - accuracy: 0.7830\n",
      "Epoch 3/400\n",
      "1000/1000 [==============================] - 29s 29ms/step - loss: 38.2944 - accuracy: 0.8500\n",
      "Epoch 4/400\n",
      "1000/1000 [==============================] - 26s 26ms/step - loss: 21.4063 - accuracy: 0.9000\n",
      "Epoch 5/400\n",
      "1000/1000 [==============================] - 26s 26ms/step - loss: 29.4616 - accuracy: 0.9010\n",
      "Epoch 6/400\n",
      "1000/1000 [==============================] - 26s 26ms/step - loss: 15.6142 - accuracy: 0.9360\n",
      "Epoch 7/400\n",
      "1000/1000 [==============================] - 26s 26ms/step - loss: 20.6835 - accuracy: 0.9340\n",
      "Epoch 8/400\n",
      "1000/1000 [==============================] - 26s 26ms/step - loss: 8.5250 - accuracy: 0.9700\n",
      "Epoch 9/400\n",
      "1000/1000 [==============================] - 26s 26ms/step - loss: 12.7335 - accuracy: 0.9600\n",
      "Epoch 10/400\n",
      "1000/1000 [==============================] - 28s 28ms/step - loss: 16.2906 - accuracy: 0.9660\n",
      "Epoch 11/400\n",
      "1000/1000 [==============================] - 25s 25ms/step - loss: 10.2860 - accuracy: 0.9700\n",
      "Epoch 12/400\n",
      "1000/1000 [==============================] - 25s 25ms/step - loss: 11.6022 - accuracy: 0.9770\n",
      "Epoch 13/400\n",
      "1000/1000 [==============================] - 25s 25ms/step - loss: 8.7329 - accuracy: 0.9830\n",
      "Epoch 14/400\n",
      "1000/1000 [==============================] - 25s 25ms/step - loss: 5.8737 - accuracy: 0.9880\n",
      "Epoch 15/400\n",
      "1000/1000 [==============================] - 25s 25ms/step - loss: 19.5260 - accuracy: 0.9700\n",
      "Epoch 16/400\n",
      "1000/1000 [==============================] - 26s 26ms/step - loss: 4.9573 - accuracy: 0.9810\n",
      "units =  23000\n",
      "Epoch 1/400\n",
      "   1/1000 [..............................] - ETA: 5:13 - loss: 52.0723 - accuracy: 0.0000e+00"
     ]
    },
    {
     "name": "stderr",
     "output_type": "stream",
     "text": [
      "2023-04-24 18:55:43.240611: I tensorflow/core/grappler/optimizers/custom_graph_optimizer_registry.cc:113] Plugin optimizer for device_type GPU is enabled.\n"
     ]
    },
    {
     "name": "stdout",
     "output_type": "stream",
     "text": [
      "1000/1000 [==============================] - 27s 27ms/step - loss: 106.1589 - accuracy: 0.6200\n",
      "Epoch 2/400\n",
      "1000/1000 [==============================] - 26s 26ms/step - loss: 47.2018 - accuracy: 0.7850\n",
      "Epoch 3/400\n",
      "1000/1000 [==============================] - 25s 25ms/step - loss: 41.7696 - accuracy: 0.8670\n",
      "Epoch 4/400\n",
      "1000/1000 [==============================] - 25s 25ms/step - loss: 25.3466 - accuracy: 0.9050\n",
      "Epoch 5/400\n",
      "1000/1000 [==============================] - 473s 473ms/step - loss: 21.4024 - accuracy: 0.9230\n",
      "Epoch 6/400\n",
      "1000/1000 [==============================] - 142s 143ms/step - loss: 20.3951 - accuracy: 0.9370\n",
      "Epoch 7/400\n",
      "1000/1000 [==============================] - 119s 120ms/step - loss: 15.8624 - accuracy: 0.9520\n",
      "Epoch 8/400\n",
      "1000/1000 [==============================] - 69s 69ms/step - loss: 14.5536 - accuracy: 0.9540\n",
      "Epoch 9/400\n",
      "1000/1000 [==============================] - 2949s 3s/step - loss: 25.0521 - accuracy: 0.9440\n",
      "Epoch 10/400\n",
      "1000/1000 [==============================] - 2010s 2s/step - loss: 10.3445 - accuracy: 0.9660\n",
      "Epoch 11/400\n",
      "1000/1000 [==============================] - 30s 30ms/step - loss: 17.3932 - accuracy: 0.9660\n",
      "Epoch 12/400\n",
      "1000/1000 [==============================] - 27s 27ms/step - loss: 16.2761 - accuracy: 0.9700\n",
      "Epoch 13/400\n",
      "1000/1000 [==============================] - 26s 26ms/step - loss: 5.1243 - accuracy: 0.9900\n",
      "Epoch 14/400\n",
      "1000/1000 [==============================] - 27s 27ms/step - loss: 10.8549 - accuracy: 0.9830\n",
      "Epoch 15/400\n",
      "1000/1000 [==============================] - 27s 27ms/step - loss: 5.7221 - accuracy: 0.9800\n",
      "Epoch 16/400\n",
      "1000/1000 [==============================] - 27s 27ms/step - loss: 5.1660 - accuracy: 0.9860\n",
      "Epoch 17/400\n",
      "1000/1000 [==============================] - 26s 26ms/step - loss: 15.4463 - accuracy: 0.9810\n",
      "Epoch 18/400\n",
      "1000/1000 [==============================] - 26s 26ms/step - loss: 7.7708 - accuracy: 0.9840\n",
      "Epoch 19/400\n",
      "1000/1000 [==============================] - 27s 27ms/step - loss: 4.1831 - accuracy: 0.9890\n",
      "units =  24000\n",
      "Epoch 1/400\n",
      "   1/1000 [..............................] - ETA: 5:41 - loss: 14.4015 - accuracy: 0.0000e+00"
     ]
    },
    {
     "name": "stderr",
     "output_type": "stream",
     "text": [
      "2023-04-24 20:37:33.673043: I tensorflow/core/grappler/optimizers/custom_graph_optimizer_registry.cc:113] Plugin optimizer for device_type GPU is enabled.\n"
     ]
    },
    {
     "name": "stdout",
     "output_type": "stream",
     "text": [
      "1000/1000 [==============================] - 27s 27ms/step - loss: 123.0396 - accuracy: 0.6280\n",
      "Epoch 2/400\n",
      "1000/1000 [==============================] - 27s 27ms/step - loss: 60.1175 - accuracy: 0.7850\n",
      "Epoch 3/400\n",
      "1000/1000 [==============================] - 27s 27ms/step - loss: 50.5651 - accuracy: 0.8350\n",
      "Epoch 4/400\n",
      "1000/1000 [==============================] - 27s 27ms/step - loss: 36.8920 - accuracy: 0.9090\n",
      "Epoch 5/400\n",
      "1000/1000 [==============================] - 26s 26ms/step - loss: 28.2328 - accuracy: 0.9220\n",
      "Epoch 6/400\n",
      "1000/1000 [==============================] - 27s 27ms/step - loss: 21.7298 - accuracy: 0.9440\n",
      "Epoch 7/400\n",
      "1000/1000 [==============================] - 26s 26ms/step - loss: 17.9406 - accuracy: 0.9560\n",
      "Epoch 8/400\n",
      "1000/1000 [==============================] - 27s 27ms/step - loss: 21.8426 - accuracy: 0.9540\n",
      "Epoch 9/400\n",
      "1000/1000 [==============================] - 27s 27ms/step - loss: 35.2021 - accuracy: 0.9430\n",
      "Epoch 10/400\n",
      "1000/1000 [==============================] - 28s 28ms/step - loss: 22.5627 - accuracy: 0.9590\n",
      "Epoch 11/400\n",
      "1000/1000 [==============================] - 28s 28ms/step - loss: 19.0940 - accuracy: 0.9680\n",
      "Epoch 12/400\n",
      "1000/1000 [==============================] - 28s 28ms/step - loss: 21.2642 - accuracy: 0.9630\n",
      "Epoch 13/400\n",
      "1000/1000 [==============================] - 26s 26ms/step - loss: 5.5914 - accuracy: 0.9860\n",
      "Epoch 14/400\n",
      "1000/1000 [==============================] - 30s 30ms/step - loss: 10.3661 - accuracy: 0.9800\n",
      "Epoch 15/400\n",
      "1000/1000 [==============================] - 29s 29ms/step - loss: 12.7234 - accuracy: 0.9840\n",
      "Epoch 16/400\n",
      "1000/1000 [==============================] - 29s 29ms/step - loss: 1.2577 - accuracy: 0.9960\n",
      "units =  25000\n",
      "Epoch 1/400\n"
     ]
    },
    {
     "name": "stderr",
     "output_type": "stream",
     "text": [
      "2023-04-24 20:44:54.996283: I tensorflow/core/grappler/optimizers/custom_graph_optimizer_registry.cc:113] Plugin optimizer for device_type GPU is enabled.\n"
     ]
    },
    {
     "name": "stdout",
     "output_type": "stream",
     "text": [
      "1000/1000 [==============================] - 29s 29ms/step - loss: 106.3075 - accuracy: 0.6210\n",
      "Epoch 2/400\n",
      "1000/1000 [==============================] - 29s 29ms/step - loss: 41.0225 - accuracy: 0.7920\n",
      "Epoch 3/400\n",
      "1000/1000 [==============================] - 28s 28ms/step - loss: 41.2243 - accuracy: 0.8480\n",
      "Epoch 4/400\n",
      "1000/1000 [==============================] - 29s 29ms/step - loss: 24.4547 - accuracy: 0.9040\n",
      "Epoch 5/400\n",
      "1000/1000 [==============================] - 29s 29ms/step - loss: 20.8387 - accuracy: 0.9250\n",
      "Epoch 6/400\n",
      "1000/1000 [==============================] - 27s 27ms/step - loss: 13.2915 - accuracy: 0.9410\n",
      "Epoch 7/400\n",
      "1000/1000 [==============================] - 27s 27ms/step - loss: 20.4560 - accuracy: 0.9400\n",
      "Epoch 8/400\n",
      "1000/1000 [==============================] - 27s 27ms/step - loss: 9.3516 - accuracy: 0.9660\n",
      "Epoch 9/400\n",
      "1000/1000 [==============================] - 27s 27ms/step - loss: 16.0479 - accuracy: 0.9510\n",
      "Epoch 10/400\n",
      "1000/1000 [==============================] - 27s 27ms/step - loss: 12.1733 - accuracy: 0.9660\n",
      "Epoch 11/400\n",
      "1000/1000 [==============================] - 26s 26ms/step - loss: 12.7045 - accuracy: 0.9750\n",
      "Epoch 12/400\n",
      "1000/1000 [==============================] - 27s 27ms/step - loss: 5.3502 - accuracy: 0.9810\n",
      "Epoch 13/400\n",
      "1000/1000 [==============================] - 26s 26ms/step - loss: 5.5446 - accuracy: 0.9780\n",
      "Epoch 14/400\n",
      "1000/1000 [==============================] - 26s 26ms/step - loss: 14.6081 - accuracy: 0.9670\n",
      "Epoch 15/400\n",
      "1000/1000 [==============================] - 26s 26ms/step - loss: 14.7261 - accuracy: 0.9720\n",
      "Epoch 16/400\n",
      "1000/1000 [==============================] - 26s 26ms/step - loss: 6.5782 - accuracy: 0.9840\n",
      "Epoch 17/400\n",
      "1000/1000 [==============================] - 26s 26ms/step - loss: 6.4340 - accuracy: 0.9860\n",
      "Epoch 18/400\n",
      "1000/1000 [==============================] - 26s 26ms/step - loss: 6.9032 - accuracy: 0.9780\n",
      "Epoch 19/400\n",
      "1000/1000 [==============================] - 26s 26ms/step - loss: 4.5888 - accuracy: 0.9840\n",
      "units =  26000\n",
      "Epoch 1/400\n"
     ]
    },
    {
     "name": "stderr",
     "output_type": "stream",
     "text": [
      "2023-04-24 20:53:30.748124: I tensorflow/core/grappler/optimizers/custom_graph_optimizer_registry.cc:113] Plugin optimizer for device_type GPU is enabled.\n"
     ]
    },
    {
     "name": "stdout",
     "output_type": "stream",
     "text": [
      "1000/1000 [==============================] - 27s 27ms/step - loss: 109.7281 - accuracy: 0.6420\n",
      "Epoch 2/400\n",
      "1000/1000 [==============================] - 27s 27ms/step - loss: 55.6544 - accuracy: 0.7720\n",
      "Epoch 3/400\n",
      "1000/1000 [==============================] - 27s 27ms/step - loss: 43.8353 - accuracy: 0.8450\n",
      "Epoch 4/400\n",
      "1000/1000 [==============================] - 27s 27ms/step - loss: 21.4764 - accuracy: 0.9070\n",
      "Epoch 5/400\n",
      "1000/1000 [==============================] - 28s 28ms/step - loss: 21.0688 - accuracy: 0.9190\n",
      "Epoch 6/400\n",
      "1000/1000 [==============================] - 30s 30ms/step - loss: 16.9437 - accuracy: 0.9450\n",
      "Epoch 7/400\n",
      "1000/1000 [==============================] - 28s 28ms/step - loss: 13.7804 - accuracy: 0.9460\n",
      "Epoch 8/400\n",
      "1000/1000 [==============================] - 28s 28ms/step - loss: 10.5181 - accuracy: 0.9620\n",
      "Epoch 9/400\n",
      "1000/1000 [==============================] - 28s 28ms/step - loss: 20.9208 - accuracy: 0.9500\n",
      "Epoch 10/400\n",
      "1000/1000 [==============================] - 27s 27ms/step - loss: 13.4234 - accuracy: 0.9560\n",
      "Epoch 11/400\n",
      "1000/1000 [==============================] - 27s 27ms/step - loss: 9.4757 - accuracy: 0.9740\n",
      "Epoch 12/400\n",
      "1000/1000 [==============================] - 27s 27ms/step - loss: 11.1884 - accuracy: 0.9760\n",
      "Epoch 13/400\n",
      "1000/1000 [==============================] - 27s 27ms/step - loss: 26.0475 - accuracy: 0.9520\n",
      "Epoch 14/400\n",
      "1000/1000 [==============================] - 27s 27ms/step - loss: 3.8655 - accuracy: 0.9870\n",
      "units =  27000\n",
      "Epoch 1/400\n",
      "   3/1000 [..............................] - ETA: 31s - loss: 1175.3468 - accuracy: 0.0000e+00"
     ]
    },
    {
     "name": "stderr",
     "output_type": "stream",
     "text": [
      "2023-04-24 20:59:57.143824: I tensorflow/core/grappler/optimizers/custom_graph_optimizer_registry.cc:113] Plugin optimizer for device_type GPU is enabled.\n"
     ]
    },
    {
     "name": "stdout",
     "output_type": "stream",
     "text": [
      "1000/1000 [==============================] - 28s 28ms/step - loss: 117.6545 - accuracy: 0.6150\n",
      "Epoch 2/400\n",
      "1000/1000 [==============================] - 28s 28ms/step - loss: 54.2296 - accuracy: 0.7880\n",
      "Epoch 3/400\n",
      "1000/1000 [==============================] - 28s 28ms/step - loss: 48.3310 - accuracy: 0.8550\n",
      "Epoch 4/400\n",
      "1000/1000 [==============================] - 28s 28ms/step - loss: 30.8508 - accuracy: 0.9030\n",
      "Epoch 5/400\n",
      "1000/1000 [==============================] - 28s 28ms/step - loss: 25.3237 - accuracy: 0.9210\n",
      "Epoch 6/400\n",
      "1000/1000 [==============================] - 28s 28ms/step - loss: 16.6574 - accuracy: 0.9440\n",
      "Epoch 7/400\n",
      "1000/1000 [==============================] - 28s 28ms/step - loss: 6.2790 - accuracy: 0.9720\n",
      "Epoch 8/400\n",
      "1000/1000 [==============================] - 28s 28ms/step - loss: 17.8875 - accuracy: 0.9440\n",
      "Epoch 9/400\n",
      "1000/1000 [==============================] - 28s 28ms/step - loss: 37.2273 - accuracy: 0.9230\n",
      "Epoch 10/400\n",
      "1000/1000 [==============================] - 28s 28ms/step - loss: 12.8189 - accuracy: 0.9660\n",
      "Epoch 11/400\n",
      "1000/1000 [==============================] - 28s 28ms/step - loss: 9.9220 - accuracy: 0.9800\n",
      "Epoch 12/400\n",
      "1000/1000 [==============================] - 28s 28ms/step - loss: 7.7864 - accuracy: 0.9760\n",
      "Epoch 13/400\n",
      "1000/1000 [==============================] - 28s 28ms/step - loss: 4.8993 - accuracy: 0.9900\n",
      "units =  28000\n",
      "Epoch 1/400\n",
      "   1/1000 [..............................] - ETA: 4:16 - loss: 21.2658 - accuracy: 0.0000e+00"
     ]
    },
    {
     "name": "stderr",
     "output_type": "stream",
     "text": [
      "2023-04-24 21:05:57.500049: I tensorflow/core/grappler/optimizers/custom_graph_optimizer_registry.cc:113] Plugin optimizer for device_type GPU is enabled.\n"
     ]
    },
    {
     "name": "stdout",
     "output_type": "stream",
     "text": [
      "1000/1000 [==============================] - 30s 29ms/step - loss: 144.2588 - accuracy: 0.6170\n",
      "Epoch 2/400\n",
      "1000/1000 [==============================] - 31s 31ms/step - loss: 70.6649 - accuracy: 0.8000\n",
      "Epoch 3/400\n",
      "1000/1000 [==============================] - 32s 32ms/step - loss: 46.9155 - accuracy: 0.8750\n",
      "Epoch 4/400\n",
      "1000/1000 [==============================] - 28s 28ms/step - loss: 50.5361 - accuracy: 0.8790\n",
      "Epoch 5/400\n",
      "1000/1000 [==============================] - 28s 28ms/step - loss: 43.2287 - accuracy: 0.9090\n",
      "Epoch 6/400\n",
      "1000/1000 [==============================] - 28s 28ms/step - loss: 22.0441 - accuracy: 0.9400\n",
      "Epoch 7/400\n",
      "1000/1000 [==============================] - 31s 31ms/step - loss: 34.2569 - accuracy: 0.9360\n",
      "Epoch 8/400\n",
      "1000/1000 [==============================] - 28s 28ms/step - loss: 22.7795 - accuracy: 0.9500\n",
      "Epoch 9/400\n",
      "1000/1000 [==============================] - 28s 28ms/step - loss: 25.1336 - accuracy: 0.9580\n",
      "Epoch 10/400\n",
      "1000/1000 [==============================] - 28s 28ms/step - loss: 13.9805 - accuracy: 0.9770\n",
      "Epoch 11/400\n",
      "1000/1000 [==============================] - 28s 28ms/step - loss: 4.5791 - accuracy: 0.9900\n",
      "units =  29000\n",
      "Epoch 1/400\n",
      "   1/1000 [..............................] - ETA: 4:48 - loss: 44.2998 - accuracy: 0.0000e+00"
     ]
    },
    {
     "name": "stderr",
     "output_type": "stream",
     "text": [
      "2023-04-24 21:11:18.370368: I tensorflow/core/grappler/optimizers/custom_graph_optimizer_registry.cc:113] Plugin optimizer for device_type GPU is enabled.\n"
     ]
    },
    {
     "name": "stdout",
     "output_type": "stream",
     "text": [
      "1000/1000 [==============================] - 29s 29ms/step - loss: 145.3347 - accuracy: 0.6110\n",
      "Epoch 2/400\n",
      "1000/1000 [==============================] - 29s 29ms/step - loss: 61.6505 - accuracy: 0.7940\n",
      "Epoch 3/400\n",
      "1000/1000 [==============================] - 29s 29ms/step - loss: 43.3747 - accuracy: 0.8620\n",
      "Epoch 4/400\n",
      "1000/1000 [==============================] - 29s 29ms/step - loss: 45.6920 - accuracy: 0.8840\n",
      "Epoch 5/400\n",
      "1000/1000 [==============================] - 29s 29ms/step - loss: 30.5784 - accuracy: 0.9210\n",
      "Epoch 6/400\n",
      "1000/1000 [==============================] - 29s 29ms/step - loss: 26.6949 - accuracy: 0.9320\n",
      "Epoch 7/400\n",
      "1000/1000 [==============================] - 29s 29ms/step - loss: 17.8972 - accuracy: 0.9580\n",
      "Epoch 8/400\n",
      "1000/1000 [==============================] - 29s 29ms/step - loss: 23.4536 - accuracy: 0.9550\n",
      "Epoch 9/400\n",
      "1000/1000 [==============================] - 29s 29ms/step - loss: 19.8267 - accuracy: 0.9600\n",
      "Epoch 10/400\n",
      "1000/1000 [==============================] - 29s 29ms/step - loss: 18.3570 - accuracy: 0.9690\n",
      "Epoch 11/400\n",
      "1000/1000 [==============================] - 29s 29ms/step - loss: 9.8158 - accuracy: 0.9720\n",
      "Epoch 12/400\n",
      "1000/1000 [==============================] - 29s 29ms/step - loss: 17.8752 - accuracy: 0.9700\n",
      "Epoch 13/400\n",
      "1000/1000 [==============================] - 29s 29ms/step - loss: 15.2092 - accuracy: 0.9810\n",
      "Epoch 14/400\n",
      "1000/1000 [==============================] - 29s 29ms/step - loss: 20.4323 - accuracy: 0.9660\n",
      "Epoch 15/400\n",
      "1000/1000 [==============================] - 29s 29ms/step - loss: 17.5518 - accuracy: 0.9780\n",
      "Epoch 16/400\n",
      "1000/1000 [==============================] - 29s 29ms/step - loss: 20.5261 - accuracy: 0.9670\n",
      "Epoch 17/400\n",
      "1000/1000 [==============================] - 29s 29ms/step - loss: 10.4450 - accuracy: 0.9810\n",
      "Epoch 18/400\n",
      "1000/1000 [==============================] - 29s 29ms/step - loss: 15.6600 - accuracy: 0.9780\n",
      "Epoch 19/400\n",
      "1000/1000 [==============================] - 29s 29ms/step - loss: 2.0351 - accuracy: 0.9960\n",
      "units =  30000\n",
      "Epoch 1/400\n",
      "   1/1000 [..............................] - ETA: 4:22 - loss: 29.5520 - accuracy: 0.0000e+00"
     ]
    },
    {
     "name": "stderr",
     "output_type": "stream",
     "text": [
      "2023-04-24 21:20:34.189094: I tensorflow/core/grappler/optimizers/custom_graph_optimizer_registry.cc:113] Plugin optimizer for device_type GPU is enabled.\n"
     ]
    },
    {
     "name": "stdout",
     "output_type": "stream",
     "text": [
      "1000/1000 [==============================] - 30s 30ms/step - loss: 129.7718 - accuracy: 0.6180\n",
      "Epoch 2/400\n",
      "1000/1000 [==============================] - 30s 30ms/step - loss: 54.6701 - accuracy: 0.8010\n",
      "Epoch 3/400\n",
      "1000/1000 [==============================] - 30s 30ms/step - loss: 59.6733 - accuracy: 0.8420\n",
      "Epoch 4/400\n",
      "1000/1000 [==============================] - 30s 30ms/step - loss: 32.6065 - accuracy: 0.9040\n",
      "Epoch 5/400\n",
      "1000/1000 [==============================] - 30s 30ms/step - loss: 36.3805 - accuracy: 0.9210\n",
      "Epoch 6/400\n",
      "1000/1000 [==============================] - 30s 30ms/step - loss: 30.3611 - accuracy: 0.9330\n",
      "Epoch 7/400\n",
      "1000/1000 [==============================] - 30s 30ms/step - loss: 22.0547 - accuracy: 0.9540\n",
      "Epoch 8/400\n",
      "1000/1000 [==============================] - 30s 30ms/step - loss: 19.6583 - accuracy: 0.9530\n",
      "Epoch 9/400\n",
      "1000/1000 [==============================] - 30s 30ms/step - loss: 14.2778 - accuracy: 0.9680\n",
      "Epoch 10/400\n",
      "1000/1000 [==============================] - 30s 30ms/step - loss: 26.2912 - accuracy: 0.9500\n",
      "Epoch 11/400\n",
      "1000/1000 [==============================] - 30s 30ms/step - loss: 8.2818 - accuracy: 0.9800\n",
      "Epoch 12/400\n",
      "1000/1000 [==============================] - 30s 30ms/step - loss: 24.6609 - accuracy: 0.9530\n",
      "Epoch 13/400\n",
      "1000/1000 [==============================] - 30s 30ms/step - loss: 6.2079 - accuracy: 0.9840\n",
      "Epoch 14/400\n",
      "1000/1000 [==============================] - 30s 30ms/step - loss: 11.0054 - accuracy: 0.9810\n",
      "Epoch 15/400\n",
      "1000/1000 [==============================] - 30s 30ms/step - loss: 10.9239 - accuracy: 0.9820\n",
      "Epoch 16/400\n",
      "1000/1000 [==============================] - 30s 30ms/step - loss: 10.9955 - accuracy: 0.9830\n",
      "Epoch 17/400\n",
      "1000/1000 [==============================] - 30s 30ms/step - loss: 14.2575 - accuracy: 0.9800\n",
      "Epoch 18/400\n",
      "1000/1000 [==============================] - 30s 30ms/step - loss: 9.5183 - accuracy: 0.9800\n",
      "Epoch 19/400\n",
      "1000/1000 [==============================] - 30s 30ms/step - loss: 1.8131 - accuracy: 0.9960\n"
     ]
    }
   ],
   "source": [
    "for units in unit_range:\n",
    "    print(\"units = \", units)\n",
    "    model = tf.keras.Sequential([\n",
    "        tf.keras.layers.Flatten(input_shape = (28, 28, 1)),\n",
    "        tf.keras.layers.Dense(units = units, activation = 'relu'),\n",
    "        tf.keras.layers.Dense(units = 10, activation = 'softmax')\n",
    "    ])\n",
    "    initial_weights.append(model.layers[2].get_weights()[0])\n",
    "\n",
    "    my_callback = MyThresholdCallback(threshold=5)\n",
    "\n",
    "    model.compile(loss='categorical_crossentropy', optimizer='adam', metrics=['accuracy'])\n",
    "    model.fit(X, y, epochs = 400, batch_size = 1, callbacks = [my_callback], verbose = 1)\n",
    "\n",
    "    final_weights.append(model.layers[2].get_weights()[0])"
   ]
  },
  {
   "cell_type": "code",
   "execution_count": 128,
   "metadata": {},
   "outputs": [
    {
     "name": "stdout",
     "output_type": "stream",
     "text": [
      "[[-0.00525508  0.00911203  0.00516401 ...  0.00927274  0.00256628\n",
      "  -0.01254119]\n",
      " [ 0.00136833 -0.00702507 -0.00273009 ...  0.011072    0.00361784\n",
      "  -0.00344631]\n",
      " [ 0.00021233  0.00639803 -0.01029387 ...  0.0031127   0.00051313\n",
      "  -0.00819883]\n",
      " ...\n",
      " [ 0.01219133  0.00978124  0.00164073 ... -0.00130004  0.00205337\n",
      "   0.00346785]\n",
      " [ 0.00342735  0.00712888 -0.00018844 ...  0.01257457 -0.01285012\n",
      "  -0.01021994]\n",
      " [-0.00298039  0.00500697 -0.003348   ... -0.00716423  0.00861219\n",
      "  -0.00770199]]\n"
     ]
    }
   ],
   "source": [
    "print(model.layers[1].get_weights()[0])\n"
   ]
  },
  {
   "cell_type": "code",
   "execution_count": 124,
   "metadata": {},
   "outputs": [],
   "source": [
    "for i in range(len(initial_weights)):\n",
    "    diff_weights.append(final_weights[i] - initial_weights[i])\n",
    "\n",
    "diff_avg = []\n",
    "for i in range(len(unit_range)):\n",
    "    diff_weights_flat = np.ndarray.flatten(diff_weights[i])\n",
    "    diff_weights_flat = np.abs(diff_weights_flat)\n",
    "    diff_avg.append(np.average(diff_weights_flat))"
   ]
  },
  {
   "cell_type": "code",
   "execution_count": 125,
   "metadata": {},
   "outputs": [
    {
     "name": "stdout",
     "output_type": "stream",
     "text": [
      "(11,)\n"
     ]
    }
   ],
   "source": [
    "print(np.shape(diff_avg))"
   ]
  },
  {
   "cell_type": "code",
   "execution_count": 126,
   "metadata": {},
   "outputs": [
    {
     "data": {
      "image/png": "[encoded data removed]",
      "text/plain": [
       "<Figure size 800x600 with 1 Axes>"
      ]
     },
     "metadata": {},
     "output_type": "display_data"
    }
   ],
   "source": [
    "# set the size of the figure\n",
    "fig, ax = plt.subplots(figsize = (8, 6))\n",
    "\n",
    "# create the plot\n",
    "ax.plot(unit_range, diff_avg, linestyle = '-', marker = 'o')\n",
    "\n",
    "# set the title and axis labels\n",
    "ax.set_title('Average drift of neurons as a function of amount of nuerons (MNIST)')\n",
    "ax.set_xlabel('Number of neurons')\n",
    "ax.set_ylabel('Average drift')\n",
    "\n",
    "\n",
    "# display the plot\n",
    "plt.show()"
   ]
  },
  {
   "cell_type": "code",
   "execution_count": null,
   "metadata": {},
   "outputs": [],
   "source": []
  }
 ],
 "metadata": {
  "kernelspec": {
   "display_name": "tf",
   "language": "python",
   "name": "python3"
  },
  "language_info": {
   "codemirror_mode": {
    "name": "ipython",
    "version": 3
   },
   "file_extension": ".py",
   "mimetype": "text/x-python",
   "name": "python",
   "nbconvert_exporter": "python",
   "pygments_lexer": "ipython3",
   "version": "3.9.16"
  },
  "orig_nbformat": 4
 },
 "nbformat": 4,
 "nbformat_minor": 2
}
