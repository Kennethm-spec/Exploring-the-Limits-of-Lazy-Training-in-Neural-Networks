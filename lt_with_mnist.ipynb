{
 "cells": [
  {
   "cell_type": "code",
   "execution_count": 85,
   "metadata": {},
   "outputs": [
    {
     "name": "stdout",
     "output_type": "stream",
     "text": [
      "[PhysicalDevice(name='/physical_device:GPU:0', device_type='GPU')]\n"
     ]
    }
   ],
   "source": [
    "import tensorflow as tf \n",
    "import numpy as np \n",
    "print(tf.config.list_physical_devices('GPU'))"
   ]
  },
  {
   "cell_type": "code",
   "execution_count": 86,
   "metadata": {},
   "outputs": [],
   "source": [
    "# Instead of using random observations, try to classify some data with structure, like MNIST.\n",
    "from tensorflow.keras.datasets import mnist \n",
    "from matplotlib import pyplot as plt "
   ]
  },
  {
   "cell_type": "code",
   "execution_count": 87,
   "metadata": {},
   "outputs": [],
   "source": [
    "(trainX, trainy), (testX, testy) = mnist.load_data()"
   ]
  },
  {
   "cell_type": "code",
   "execution_count": 88,
   "metadata": {},
   "outputs": [
    {
     "name": "stdout",
     "output_type": "stream",
     "text": [
      "X size: (100, 28, 28)\n",
      "Y size: (100, 10)\n"
     ]
    }
   ],
   "source": [
    "X = trainX[0:100]\n",
    "y = trainy[0:100]\n",
    "\n",
    "y = tf.keras.utils.to_categorical(y)\n",
    "\n",
    "print(\"X size:\", X.shape)\n",
    "print(\"Y size:\", y.shape)"
   ]
  },
  {
   "cell_type": "code",
   "execution_count": 89,
   "metadata": {},
   "outputs": [],
   "source": [
    "class MyThresholdCallback(tf.keras.callbacks.Callback):\n",
    "    def __init__(self, threshold):\n",
    "        super(MyThresholdCallback, self).__init__()\n",
    "        self.threshold = threshold\n",
    "\n",
    "    def on_epoch_end(self, epoch, logs=None):\n",
    "        loss = logs[\"loss\"]\n",
    "        if loss <= self.threshold:\n",
    "            self.model.stop_training = True"
   ]
  },
  {
   "cell_type": "code",
   "execution_count": 77,
   "metadata": {},
   "outputs": [],
   "source": [
    "unit_range = np.arange(100, 1010, 10)\n",
    "\n",
    "initial_weights = []\n",
    "final_weights = []\n",
    "diff_weights = []"
   ]
  },
  {
   "cell_type": "code",
   "execution_count": 78,
   "metadata": {},
   "outputs": [
    {
     "name": "stdout",
     "output_type": "stream",
     "text": [
      "(784, 100)\n",
      "Epoch 1/400\n",
      " 14/100 [===>..........................] - ETA: 0s - loss: 116.9139 - accuracy: 0.2857   "
     ]
    },
    {
     "name": "stderr",
     "output_type": "stream",
     "text": [
      "2023-04-21 12:44:19.371498: I tensorflow/core/grappler/optimizers/custom_graph_optimizer_registry.cc:113] Plugin optimizer for device_type GPU is enabled.\n"
     ]
    },
    {
     "name": "stdout",
     "output_type": "stream",
     "text": [
      "100/100 [==============================] - 1s 9ms/step - loss: 54.8343 - accuracy: 0.4200\n",
      "Epoch 2/400\n",
      "100/100 [==============================] - 1s 8ms/step - loss: 14.1706 - accuracy: 0.7900\n",
      "Epoch 3/400\n",
      "100/100 [==============================] - 1s 8ms/step - loss: 1.9735 - accuracy: 0.9500\n",
      "Epoch 4/400\n",
      "100/100 [==============================] - 1s 8ms/step - loss: 5.1299 - accuracy: 0.8900\n",
      "Epoch 5/400\n",
      "100/100 [==============================] - 1s 8ms/step - loss: 4.6825 - accuracy: 0.9200\n",
      "Epoch 6/400\n",
      "100/100 [==============================] - 1s 8ms/step - loss: 2.1007 - accuracy: 0.9500\n",
      "Epoch 7/400\n",
      "100/100 [==============================] - 1s 8ms/step - loss: 2.4472 - accuracy: 0.9800\n",
      "Epoch 8/400\n",
      "100/100 [==============================] - 1s 8ms/step - loss: 0.3743 - accuracy: 0.9900\n",
      "Epoch 9/400\n",
      "100/100 [==============================] - 1s 8ms/step - loss: 0.0329 - accuracy: 0.9900\n",
      "(784, 110)\n",
      "Epoch 1/400\n",
      " 15/100 [===>..........................] - ETA: 0s - loss: 132.1181 - accuracy: 0.1333   "
     ]
    },
    {
     "name": "stderr",
     "output_type": "stream",
     "text": [
      "2023-04-21 12:44:26.809727: I tensorflow/core/grappler/optimizers/custom_graph_optimizer_registry.cc:113] Plugin optimizer for device_type GPU is enabled.\n"
     ]
    },
    {
     "name": "stdout",
     "output_type": "stream",
     "text": [
      "100/100 [==============================] - 1s 8ms/step - loss: 72.1153 - accuracy: 0.3900\n",
      "Epoch 2/400\n",
      "100/100 [==============================] - 1s 8ms/step - loss: 8.7839 - accuracy: 0.8900\n",
      "Epoch 3/400\n",
      "100/100 [==============================] - 1s 8ms/step - loss: 4.1790 - accuracy: 0.9000\n",
      "Epoch 4/400\n",
      "100/100 [==============================] - 1s 8ms/step - loss: 1.7571 - accuracy: 0.9700\n",
      "Epoch 5/400\n",
      "100/100 [==============================] - 1s 8ms/step - loss: 1.8414 - accuracy: 0.9500\n",
      "Epoch 6/400\n",
      "100/100 [==============================] - 1s 8ms/step - loss: 6.9333 - accuracy: 0.8800\n",
      "Epoch 7/400\n",
      "100/100 [==============================] - 1s 8ms/step - loss: 0.2785 - accuracy: 0.9800\n",
      "Epoch 8/400\n",
      "100/100 [==============================] - 1s 8ms/step - loss: 0.7382 - accuracy: 0.9700\n",
      "Epoch 9/400\n",
      "100/100 [==============================] - 1s 8ms/step - loss: 1.0397 - accuracy: 0.9800\n",
      "Epoch 10/400\n",
      "100/100 [==============================] - 1s 8ms/step - loss: 0.8798 - accuracy: 0.9500\n",
      "Epoch 11/400\n",
      "100/100 [==============================] - 1s 8ms/step - loss: 1.3287 - accuracy: 0.9700\n",
      "Epoch 12/400\n",
      "100/100 [==============================] - 1s 8ms/step - loss: 5.6608e-05 - accuracy: 1.0000\n",
      "(784, 120)\n",
      "Epoch 1/400\n",
      " 15/100 [===>..........................] - ETA: 0s - loss: 141.9171 - accuracy: 0.1333   "
     ]
    },
    {
     "name": "stderr",
     "output_type": "stream",
     "text": [
      "2023-04-21 12:44:36.561913: I tensorflow/core/grappler/optimizers/custom_graph_optimizer_registry.cc:113] Plugin optimizer for device_type GPU is enabled.\n"
     ]
    },
    {
     "name": "stdout",
     "output_type": "stream",
     "text": [
      "100/100 [==============================] - 1s 8ms/step - loss: 62.4157 - accuracy: 0.4100\n",
      "Epoch 2/400\n",
      "100/100 [==============================] - 1s 8ms/step - loss: 11.3754 - accuracy: 0.8400\n",
      "Epoch 3/400\n",
      "100/100 [==============================] - 1s 8ms/step - loss: 10.2212 - accuracy: 0.8900\n",
      "Epoch 4/400\n",
      "100/100 [==============================] - 1s 8ms/step - loss: 2.7743 - accuracy: 0.9500\n",
      "Epoch 5/400\n",
      "100/100 [==============================] - 1s 8ms/step - loss: 8.1786 - accuracy: 0.8600\n",
      "Epoch 6/400\n",
      "100/100 [==============================] - 1s 8ms/step - loss: 1.0883 - accuracy: 0.9700\n",
      "Epoch 7/400\n",
      "100/100 [==============================] - 1s 8ms/step - loss: 0.2204 - accuracy: 0.9800\n",
      "Epoch 8/400\n",
      "100/100 [==============================] - 1s 8ms/step - loss: 0.0000e+00 - accuracy: 1.0000\n",
      "(784, 130)\n",
      "Epoch 1/400\n",
      "  7/100 [=>............................] - ETA: 0s - loss: 160.4066 - accuracy: 0.0000e+00 "
     ]
    },
    {
     "name": "stderr",
     "output_type": "stream",
     "text": [
      "2023-04-21 12:44:43.159989: I tensorflow/core/grappler/optimizers/custom_graph_optimizer_registry.cc:113] Plugin optimizer for device_type GPU is enabled.\n"
     ]
    },
    {
     "name": "stdout",
     "output_type": "stream",
     "text": [
      "100/100 [==============================] - 1s 8ms/step - loss: 75.0399 - accuracy: 0.4100\n",
      "Epoch 2/400\n",
      "100/100 [==============================] - 1s 8ms/step - loss: 5.1227 - accuracy: 0.8800\n",
      "Epoch 3/400\n",
      "100/100 [==============================] - 1s 8ms/step - loss: 5.1449 - accuracy: 0.9200\n",
      "Epoch 4/400\n",
      "100/100 [==============================] - 1s 8ms/step - loss: 2.7811 - accuracy: 0.9500\n",
      "Epoch 5/400\n",
      "100/100 [==============================] - 1s 8ms/step - loss: 2.9965 - accuracy: 0.9300\n",
      "Epoch 6/400\n",
      "100/100 [==============================] - 1s 8ms/step - loss: 6.1594 - accuracy: 0.8800\n",
      "Epoch 7/400\n",
      "100/100 [==============================] - 1s 8ms/step - loss: 6.8792 - accuracy: 0.9000\n",
      "Epoch 8/400\n",
      "100/100 [==============================] - 1s 8ms/step - loss: 2.5853e-06 - accuracy: 1.0000\n",
      "(784, 140)\n",
      "Epoch 1/400\n",
      " 13/100 [==>...........................] - ETA: 0s - loss: 129.3798 - accuracy: 0.0769    "
     ]
    },
    {
     "name": "stderr",
     "output_type": "stream",
     "text": [
      "2023-04-21 12:44:49.843153: I tensorflow/core/grappler/optimizers/custom_graph_optimizer_registry.cc:113] Plugin optimizer for device_type GPU is enabled.\n"
     ]
    },
    {
     "name": "stdout",
     "output_type": "stream",
     "text": [
      "100/100 [==============================] - 1s 8ms/step - loss: 65.7169 - accuracy: 0.3900\n",
      "Epoch 2/400\n",
      "100/100 [==============================] - 1s 8ms/step - loss: 11.1962 - accuracy: 0.8300\n",
      "Epoch 3/400\n",
      "100/100 [==============================] - 1s 8ms/step - loss: 1.7423 - accuracy: 0.9600\n",
      "Epoch 4/400\n",
      "100/100 [==============================] - 1s 8ms/step - loss: 0.3726 - accuracy: 0.9600\n",
      "Epoch 5/400\n",
      "100/100 [==============================] - 1s 8ms/step - loss: 2.2449 - accuracy: 0.9300\n",
      "Epoch 6/400\n",
      "100/100 [==============================] - 1s 8ms/step - loss: 4.6732 - accuracy: 0.9200\n",
      "Epoch 7/400\n",
      "100/100 [==============================] - 1s 8ms/step - loss: 2.4489 - accuracy: 0.9300\n",
      "Epoch 8/400\n",
      "100/100 [==============================] - 1s 8ms/step - loss: 1.4080 - accuracy: 0.9600\n",
      "Epoch 9/400\n",
      "100/100 [==============================] - 1s 8ms/step - loss: 0.4545 - accuracy: 0.9800\n",
      "Epoch 10/400\n",
      "100/100 [==============================] - 1s 8ms/step - loss: 4.3210 - accuracy: 0.9300\n",
      "Epoch 11/400\n",
      "100/100 [==============================] - 1s 8ms/step - loss: 0.6341 - accuracy: 0.9900\n",
      "Epoch 12/400\n",
      "100/100 [==============================] - 1s 8ms/step - loss: 0.5209 - accuracy: 0.9600\n",
      "Epoch 13/400\n",
      "100/100 [==============================] - 1s 8ms/step - loss: 0.2648 - accuracy: 0.9800\n",
      "Epoch 14/400\n",
      "100/100 [==============================] - 1s 8ms/step - loss: 0.6556 - accuracy: 0.9900\n",
      "Epoch 15/400\n",
      "100/100 [==============================] - 1s 8ms/step - loss: 2.1616 - accuracy: 0.9500\n",
      "Epoch 16/400\n",
      "100/100 [==============================] - 1s 8ms/step - loss: 0.0806 - accuracy: 0.9700\n",
      "Epoch 17/400\n",
      "100/100 [==============================] - 1s 8ms/step - loss: 12.0862 - accuracy: 0.9200\n",
      "Epoch 18/400\n",
      "100/100 [==============================] - 1s 8ms/step - loss: 5.5607 - accuracy: 0.9400\n",
      "Epoch 19/400\n",
      "100/100 [==============================] - 1s 8ms/step - loss: 0.4177 - accuracy: 0.9900\n",
      "Epoch 20/400\n",
      "100/100 [==============================] - 1s 8ms/step - loss: 0.7475 - accuracy: 0.9800\n",
      "Epoch 21/400\n",
      "100/100 [==============================] - 1s 8ms/step - loss: 3.3172e-04 - accuracy: 1.0000\n",
      "(784, 150)\n",
      "Epoch 1/400\n",
      " 15/100 [===>..........................] - ETA: 0s - loss: 134.2148 - accuracy: 0.2000    "
     ]
    },
    {
     "name": "stderr",
     "output_type": "stream",
     "text": [
      "2023-04-21 12:45:07.056970: I tensorflow/core/grappler/optimizers/custom_graph_optimizer_registry.cc:113] Plugin optimizer for device_type GPU is enabled.\n"
     ]
    },
    {
     "name": "stdout",
     "output_type": "stream",
     "text": [
      "100/100 [==============================] - 1s 8ms/step - loss: 75.7366 - accuracy: 0.4400\n",
      "Epoch 2/400\n",
      "100/100 [==============================] - 1s 8ms/step - loss: 7.4551 - accuracy: 0.8800\n",
      "Epoch 3/400\n",
      "100/100 [==============================] - 1s 8ms/step - loss: 4.9513 - accuracy: 0.8600\n",
      "Epoch 4/400\n",
      "100/100 [==============================] - 1s 8ms/step - loss: 2.0819 - accuracy: 0.9600\n",
      "Epoch 5/400\n",
      "100/100 [==============================] - 1s 8ms/step - loss: 5.0817 - accuracy: 0.9300\n",
      "Epoch 6/400\n",
      "100/100 [==============================] - 1s 8ms/step - loss: 2.7879 - accuracy: 0.9100\n",
      "Epoch 7/400\n",
      "100/100 [==============================] - 1s 8ms/step - loss: 0.0000e+00 - accuracy: 1.0000\n",
      "(784, 160)\n",
      "Epoch 1/400\n",
      " 14/100 [===>..........................] - ETA: 0s - loss: 92.6241 - accuracy: 0.1429     "
     ]
    },
    {
     "name": "stderr",
     "output_type": "stream",
     "text": [
      "2023-04-21 12:45:12.896903: I tensorflow/core/grappler/optimizers/custom_graph_optimizer_registry.cc:113] Plugin optimizer for device_type GPU is enabled.\n"
     ]
    },
    {
     "name": "stdout",
     "output_type": "stream",
     "text": [
      "100/100 [==============================] - 1s 8ms/step - loss: 56.6844 - accuracy: 0.4600\n",
      "Epoch 2/400\n",
      "100/100 [==============================] - 1s 8ms/step - loss: 10.7406 - accuracy: 0.8500\n",
      "Epoch 3/400\n",
      "100/100 [==============================] - 1s 8ms/step - loss: 4.9365 - accuracy: 0.9500\n",
      "Epoch 4/400\n",
      "100/100 [==============================] - 1s 8ms/step - loss: 2.9066 - accuracy: 0.9500\n",
      "Epoch 5/400\n",
      "100/100 [==============================] - 1s 8ms/step - loss: 5.0101 - accuracy: 0.9300\n",
      "Epoch 6/400\n",
      "100/100 [==============================] - 1s 8ms/step - loss: 3.4176 - accuracy: 0.9500\n",
      "Epoch 7/400\n",
      "100/100 [==============================] - 1s 8ms/step - loss: 0.1814 - accuracy: 0.9900\n",
      "Epoch 8/400\n",
      "100/100 [==============================] - 1s 8ms/step - loss: 1.1921e-09 - accuracy: 1.0000\n",
      "(784, 170)\n",
      "Epoch 1/400\n",
      " 13/100 [==>...........................] - ETA: 0s - loss: 139.7282 - accuracy: 0.0769    "
     ]
    },
    {
     "name": "stderr",
     "output_type": "stream",
     "text": [
      "2023-04-21 12:45:19.577070: I tensorflow/core/grappler/optimizers/custom_graph_optimizer_registry.cc:113] Plugin optimizer for device_type GPU is enabled.\n"
     ]
    },
    {
     "name": "stdout",
     "output_type": "stream",
     "text": [
      "100/100 [==============================] - 1s 8ms/step - loss: 64.2606 - accuracy: 0.4200\n",
      "Epoch 2/400\n",
      "100/100 [==============================] - 1s 9ms/step - loss: 12.6705 - accuracy: 0.8000\n",
      "Epoch 3/400\n",
      "100/100 [==============================] - 1s 9ms/step - loss: 2.1472 - accuracy: 0.9700\n",
      "Epoch 4/400\n",
      "100/100 [==============================] - 1s 8ms/step - loss: 0.0047 - accuracy: 1.0000\n",
      "(784, 180)\n",
      "Epoch 1/400\n",
      " 14/100 [===>..........................] - ETA: 0s - loss: 171.7829 - accuracy: 0.0714    "
     ]
    },
    {
     "name": "stderr",
     "output_type": "stream",
     "text": [
      "2023-04-21 12:45:23.252120: I tensorflow/core/grappler/optimizers/custom_graph_optimizer_registry.cc:113] Plugin optimizer for device_type GPU is enabled.\n"
     ]
    },
    {
     "name": "stdout",
     "output_type": "stream",
     "text": [
      "100/100 [==============================] - 1s 8ms/step - loss: 61.3312 - accuracy: 0.5000\n",
      "Epoch 2/400\n",
      "100/100 [==============================] - 1s 9ms/step - loss: 15.4266 - accuracy: 0.8400\n",
      "Epoch 3/400\n",
      "100/100 [==============================] - 1s 8ms/step - loss: 6.5758 - accuracy: 0.8700\n",
      "Epoch 4/400\n",
      "100/100 [==============================] - 1s 9ms/step - loss: 4.3074 - accuracy: 0.9500\n",
      "Epoch 5/400\n",
      "100/100 [==============================] - 1s 9ms/step - loss: 5.0285 - accuracy: 0.9500\n",
      "Epoch 6/400\n",
      "100/100 [==============================] - 1s 9ms/step - loss: 3.0340 - accuracy: 0.9600\n",
      "Epoch 7/400\n",
      "100/100 [==============================] - 1s 8ms/step - loss: 1.7732 - accuracy: 0.9800\n",
      "Epoch 8/400\n",
      "100/100 [==============================] - 1s 8ms/step - loss: 1.3412e-05 - accuracy: 1.0000\n",
      "(784, 190)\n",
      "Epoch 1/400\n",
      " 13/100 [==>...........................] - ETA: 0s - loss: 111.4544 - accuracy: 0.1538  "
     ]
    },
    {
     "name": "stderr",
     "output_type": "stream",
     "text": [
      "2023-04-21 12:45:30.165835: I tensorflow/core/grappler/optimizers/custom_graph_optimizer_registry.cc:113] Plugin optimizer for device_type GPU is enabled.\n"
     ]
    },
    {
     "name": "stdout",
     "output_type": "stream",
     "text": [
      "100/100 [==============================] - 1s 8ms/step - loss: 83.8497 - accuracy: 0.4100\n",
      "Epoch 2/400\n",
      "100/100 [==============================] - 1s 8ms/step - loss: 11.4860 - accuracy: 0.8400\n",
      "Epoch 3/400\n",
      "100/100 [==============================] - 1s 8ms/step - loss: 12.8718 - accuracy: 0.8600\n",
      "Epoch 4/400\n",
      "100/100 [==============================] - 1s 8ms/step - loss: 5.6226 - accuracy: 0.9200\n",
      "Epoch 5/400\n",
      "100/100 [==============================] - 1s 8ms/step - loss: 1.8379 - accuracy: 0.9800\n",
      "Epoch 6/400\n",
      "100/100 [==============================] - 1s 9ms/step - loss: 1.1293 - accuracy: 0.9800\n",
      "Epoch 7/400\n",
      "100/100 [==============================] - 1s 9ms/step - loss: 1.1921e-09 - accuracy: 1.0000\n",
      "(784, 200)\n",
      "Epoch 1/400\n",
      " 14/100 [===>..........................] - ETA: 0s - loss: 132.5665 - accuracy: 0.0000e+00"
     ]
    },
    {
     "name": "stderr",
     "output_type": "stream",
     "text": [
      "2023-04-21 12:45:36.284060: I tensorflow/core/grappler/optimizers/custom_graph_optimizer_registry.cc:113] Plugin optimizer for device_type GPU is enabled.\n"
     ]
    },
    {
     "name": "stdout",
     "output_type": "stream",
     "text": [
      "100/100 [==============================] - 1s 8ms/step - loss: 96.0962 - accuracy: 0.3800\n",
      "Epoch 2/400\n",
      "100/100 [==============================] - 1s 8ms/step - loss: 11.3236 - accuracy: 0.8600\n",
      "Epoch 3/400\n",
      "100/100 [==============================] - 1s 8ms/step - loss: 5.4168 - accuracy: 0.9200\n",
      "Epoch 4/400\n",
      "100/100 [==============================] - 1s 8ms/step - loss: 2.5120 - accuracy: 0.9600\n",
      "Epoch 5/400\n",
      "100/100 [==============================] - 1s 9ms/step - loss: 2.5095 - accuracy: 0.9400\n",
      "Epoch 6/400\n",
      "100/100 [==============================] - 1s 8ms/step - loss: 7.7988 - accuracy: 0.9300\n",
      "Epoch 7/400\n",
      "100/100 [==============================] - 1s 9ms/step - loss: 4.0689 - accuracy: 0.8900\n",
      "Epoch 8/400\n",
      "100/100 [==============================] - 1s 9ms/step - loss: 3.5838 - accuracy: 0.9800\n",
      "Epoch 9/400\n",
      "100/100 [==============================] - 1s 8ms/step - loss: 0.0301 - accuracy: 0.9900\n",
      "(784, 210)\n",
      "Epoch 1/400\n",
      " 11/100 [==>...........................] - ETA: 0s - loss: 151.3110 - accuracy: 0.2727 "
     ]
    },
    {
     "name": "stderr",
     "output_type": "stream",
     "text": [
      "2023-04-21 12:45:44.206024: I tensorflow/core/grappler/optimizers/custom_graph_optimizer_registry.cc:113] Plugin optimizer for device_type GPU is enabled.\n"
     ]
    },
    {
     "name": "stdout",
     "output_type": "stream",
     "text": [
      "100/100 [==============================] - 1s 9ms/step - loss: 74.6941 - accuracy: 0.4500\n",
      "Epoch 2/400\n",
      "100/100 [==============================] - 1s 9ms/step - loss: 10.1952 - accuracy: 0.8600\n",
      "Epoch 3/400\n",
      "100/100 [==============================] - 1s 8ms/step - loss: 4.3526 - accuracy: 0.9300\n",
      "Epoch 4/400\n",
      "100/100 [==============================] - 1s 9ms/step - loss: 1.9371 - accuracy: 0.9500\n",
      "Epoch 5/400\n",
      "100/100 [==============================] - 1s 9ms/step - loss: 12.9796 - accuracy: 0.8800\n",
      "Epoch 6/400\n",
      "100/100 [==============================] - 1s 9ms/step - loss: 7.2395 - accuracy: 0.8800\n",
      "Epoch 7/400\n",
      "100/100 [==============================] - 1s 9ms/step - loss: 2.2556 - accuracy: 0.9300\n",
      "Epoch 8/400\n",
      "100/100 [==============================] - 1s 8ms/step - loss: 1.6602 - accuracy: 0.9500\n",
      "Epoch 9/400\n",
      "100/100 [==============================] - 1s 9ms/step - loss: 1.7025 - accuracy: 0.9600\n",
      "Epoch 10/400\n",
      "100/100 [==============================] - 1s 8ms/step - loss: 1.9379 - accuracy: 0.9800\n",
      "Epoch 11/400\n",
      "100/100 [==============================] - 1s 8ms/step - loss: 0.7794 - accuracy: 0.9800\n",
      "Epoch 12/400\n",
      "100/100 [==============================] - 1s 9ms/step - loss: 0.0092 - accuracy: 0.9900\n",
      "(784, 220)\n",
      "Epoch 1/400\n",
      " 14/100 [===>..........................] - ETA: 0s - loss: 106.9575 - accuracy: 0.2143    "
     ]
    },
    {
     "name": "stderr",
     "output_type": "stream",
     "text": [
      "2023-04-21 12:45:54.954846: I tensorflow/core/grappler/optimizers/custom_graph_optimizer_registry.cc:113] Plugin optimizer for device_type GPU is enabled.\n"
     ]
    },
    {
     "name": "stdout",
     "output_type": "stream",
     "text": [
      "100/100 [==============================] - 1s 9ms/step - loss: 73.2847 - accuracy: 0.4500\n",
      "Epoch 2/400\n",
      "100/100 [==============================] - 1s 8ms/step - loss: 16.0073 - accuracy: 0.8300\n",
      "Epoch 3/400\n",
      "100/100 [==============================] - 1s 9ms/step - loss: 2.8631 - accuracy: 0.9700\n",
      "Epoch 4/400\n",
      "100/100 [==============================] - 1s 8ms/step - loss: 4.8640 - accuracy: 0.8900\n",
      "Epoch 5/400\n",
      "100/100 [==============================] - 1s 9ms/step - loss: 9.4215 - accuracy: 0.8800\n",
      "Epoch 6/400\n",
      "100/100 [==============================] - 1s 9ms/step - loss: 13.4780 - accuracy: 0.9400\n",
      "Epoch 7/400\n",
      "100/100 [==============================] - 1s 9ms/step - loss: 1.6461 - accuracy: 0.9900\n",
      "Epoch 8/400\n",
      "100/100 [==============================] - 1s 9ms/step - loss: 4.1286 - accuracy: 0.9600\n",
      "Epoch 9/400\n",
      "100/100 [==============================] - 1s 9ms/step - loss: 1.3507 - accuracy: 0.9900\n",
      "Epoch 10/400\n",
      "100/100 [==============================] - 1s 9ms/step - loss: 1.1921e-09 - accuracy: 1.0000\n",
      "(784, 230)\n",
      "Epoch 1/400\n",
      " 12/100 [==>...........................] - ETA: 0s - loss: 182.6487 - accuracy: 0.0833    "
     ]
    },
    {
     "name": "stderr",
     "output_type": "stream",
     "text": [
      "2023-04-21 12:46:03.868625: I tensorflow/core/grappler/optimizers/custom_graph_optimizer_registry.cc:113] Plugin optimizer for device_type GPU is enabled.\n"
     ]
    },
    {
     "name": "stdout",
     "output_type": "stream",
     "text": [
      "100/100 [==============================] - 1s 9ms/step - loss: 87.4681 - accuracy: 0.4400\n",
      "Epoch 2/400\n",
      "100/100 [==============================] - 1s 8ms/step - loss: 20.4501 - accuracy: 0.7900\n",
      "Epoch 3/400\n",
      "100/100 [==============================] - 1s 8ms/step - loss: 12.4835 - accuracy: 0.8900\n",
      "Epoch 4/400\n",
      "100/100 [==============================] - 1s 8ms/step - loss: 2.7150 - accuracy: 0.9600\n",
      "Epoch 5/400\n",
      "100/100 [==============================] - 1s 9ms/step - loss: 2.8359 - accuracy: 0.9300\n",
      "Epoch 6/400\n",
      "100/100 [==============================] - 1s 9ms/step - loss: 0.5747 - accuracy: 0.9800\n",
      "Epoch 7/400\n",
      "100/100 [==============================] - 1s 9ms/step - loss: 0.2232 - accuracy: 0.9900\n",
      "Epoch 8/400\n",
      "100/100 [==============================] - 1s 9ms/step - loss: 0.0000e+00 - accuracy: 1.0000\n",
      "(784, 240)\n",
      "Epoch 1/400\n",
      " 12/100 [==>...........................] - ETA: 0s - loss: 122.5868 - accuracy: 0.1667  "
     ]
    },
    {
     "name": "stderr",
     "output_type": "stream",
     "text": [
      "2023-04-21 12:46:11.015667: I tensorflow/core/grappler/optimizers/custom_graph_optimizer_registry.cc:113] Plugin optimizer for device_type GPU is enabled.\n"
     ]
    },
    {
     "name": "stdout",
     "output_type": "stream",
     "text": [
      "100/100 [==============================] - 1s 9ms/step - loss: 84.5471 - accuracy: 0.4200\n",
      "Epoch 2/400\n",
      "100/100 [==============================] - 1s 8ms/step - loss: 10.7619 - accuracy: 0.8700\n",
      "Epoch 3/400\n",
      "100/100 [==============================] - 1s 9ms/step - loss: 4.7575 - accuracy: 0.9500\n",
      "Epoch 4/400\n",
      "100/100 [==============================] - 1s 8ms/step - loss: 4.2412 - accuracy: 0.9400\n",
      "Epoch 5/400\n",
      "100/100 [==============================] - 1s 8ms/step - loss: 2.6661 - accuracy: 0.9600\n",
      "Epoch 6/400\n",
      "100/100 [==============================] - 1s 8ms/step - loss: 5.4868 - accuracy: 0.9000\n",
      "Epoch 7/400\n",
      "100/100 [==============================] - 1s 9ms/step - loss: 5.6163 - accuracy: 0.9400\n",
      "Epoch 8/400\n",
      "100/100 [==============================] - 1s 8ms/step - loss: 3.1107 - accuracy: 0.9300\n",
      "Epoch 9/400\n",
      "100/100 [==============================] - 1s 9ms/step - loss: 11.6917 - accuracy: 0.9300\n",
      "Epoch 10/400\n",
      "100/100 [==============================] - 1s 8ms/step - loss: 1.4448 - accuracy: 0.9700\n",
      "Epoch 11/400\n",
      "100/100 [==============================] - 1s 9ms/step - loss: 0.0000e+00 - accuracy: 1.0000\n",
      "(784, 250)\n",
      "Epoch 1/400\n",
      " 13/100 [==>...........................] - ETA: 0s - loss: 138.6711 - accuracy: 0.2308  "
     ]
    },
    {
     "name": "stderr",
     "output_type": "stream",
     "text": [
      "2023-04-21 12:46:20.631677: I tensorflow/core/grappler/optimizers/custom_graph_optimizer_registry.cc:113] Plugin optimizer for device_type GPU is enabled.\n"
     ]
    },
    {
     "name": "stdout",
     "output_type": "stream",
     "text": [
      "100/100 [==============================] - 1s 9ms/step - loss: 80.8871 - accuracy: 0.4300\n",
      "Epoch 2/400\n",
      "100/100 [==============================] - 1s 8ms/step - loss: 16.1784 - accuracy: 0.8000\n",
      "Epoch 3/400\n",
      "100/100 [==============================] - 1s 10ms/step - loss: 4.7891 - accuracy: 0.9200\n",
      "Epoch 4/400\n",
      "100/100 [==============================] - 1s 10ms/step - loss: 5.1613 - accuracy: 0.9200\n",
      "Epoch 5/400\n",
      "100/100 [==============================] - 1s 8ms/step - loss: 6.0449 - accuracy: 0.9300\n",
      "Epoch 6/400\n",
      "100/100 [==============================] - 1s 8ms/step - loss: 2.7223 - accuracy: 0.9700\n",
      "Epoch 7/400\n",
      "100/100 [==============================] - 1s 8ms/step - loss: 1.1982 - accuracy: 0.9700\n",
      "Epoch 8/400\n",
      "100/100 [==============================] - 1s 8ms/step - loss: 0.9319 - accuracy: 0.9800\n",
      "Epoch 9/400\n",
      "100/100 [==============================] - 1s 8ms/step - loss: 9.6737 - accuracy: 0.9300\n",
      "Epoch 10/400\n",
      "100/100 [==============================] - 1s 8ms/step - loss: 3.7421 - accuracy: 0.9600\n",
      "Epoch 11/400\n",
      "100/100 [==============================] - 1s 8ms/step - loss: 2.0665 - accuracy: 0.9500\n",
      "Epoch 12/400\n",
      "100/100 [==============================] - 1s 8ms/step - loss: 1.0677 - accuracy: 0.9900\n",
      "Epoch 13/400\n",
      "100/100 [==============================] - 1s 8ms/step - loss: 0.0000e+00 - accuracy: 1.0000\n",
      "(784, 260)\n",
      "Epoch 1/400\n",
      " 13/100 [==>...........................] - ETA: 0s - loss: 178.7247 - accuracy: 0.1538   "
     ]
    },
    {
     "name": "stderr",
     "output_type": "stream",
     "text": [
      "2023-04-21 12:46:32.089576: I tensorflow/core/grappler/optimizers/custom_graph_optimizer_registry.cc:113] Plugin optimizer for device_type GPU is enabled.\n"
     ]
    },
    {
     "name": "stdout",
     "output_type": "stream",
     "text": [
      "100/100 [==============================] - 1s 9ms/step - loss: 86.8220 - accuracy: 0.4200\n",
      "Epoch 2/400\n",
      "100/100 [==============================] - 1s 8ms/step - loss: 9.2667 - accuracy: 0.8600\n",
      "Epoch 3/400\n",
      "100/100 [==============================] - 1s 8ms/step - loss: 11.1765 - accuracy: 0.8900\n",
      "Epoch 4/400\n",
      "100/100 [==============================] - 1s 8ms/step - loss: 9.1668e-07 - accuracy: 1.0000\n",
      "(784, 270)\n",
      "Epoch 1/400\n",
      " 13/100 [==>...........................] - ETA: 0s - loss: 178.7173 - accuracy: 0.3077   "
     ]
    },
    {
     "name": "stderr",
     "output_type": "stream",
     "text": [
      "2023-04-21 12:46:35.675816: I tensorflow/core/grappler/optimizers/custom_graph_optimizer_registry.cc:113] Plugin optimizer for device_type GPU is enabled.\n"
     ]
    },
    {
     "name": "stdout",
     "output_type": "stream",
     "text": [
      "100/100 [==============================] - 1s 8ms/step - loss: 84.6060 - accuracy: 0.4700\n",
      "Epoch 2/400\n",
      "100/100 [==============================] - 1s 8ms/step - loss: 14.9805 - accuracy: 0.8100\n",
      "Epoch 3/400\n",
      "100/100 [==============================] - 1s 8ms/step - loss: 3.8222 - accuracy: 0.9300\n",
      "Epoch 4/400\n",
      "100/100 [==============================] - 1s 8ms/step - loss: 7.7967 - accuracy: 0.9100\n",
      "Epoch 5/400\n",
      "100/100 [==============================] - 1s 8ms/step - loss: 2.7842 - accuracy: 0.9400\n",
      "Epoch 6/400\n",
      "100/100 [==============================] - 1s 9ms/step - loss: 3.2454 - accuracy: 0.9300\n",
      "Epoch 7/400\n",
      "100/100 [==============================] - 1s 8ms/step - loss: 8.9742 - accuracy: 0.9300\n",
      "Epoch 8/400\n",
      "100/100 [==============================] - 1s 8ms/step - loss: 0.0000e+00 - accuracy: 1.0000\n",
      "(784, 280)\n",
      "Epoch 1/400\n",
      " 13/100 [==>...........................] - ETA: 0s - loss: 160.0990 - accuracy: 0.0769   "
     ]
    },
    {
     "name": "stderr",
     "output_type": "stream",
     "text": [
      "2023-04-21 12:46:42.622548: I tensorflow/core/grappler/optimizers/custom_graph_optimizer_registry.cc:113] Plugin optimizer for device_type GPU is enabled.\n"
     ]
    },
    {
     "name": "stdout",
     "output_type": "stream",
     "text": [
      "100/100 [==============================] - 1s 8ms/step - loss: 93.9671 - accuracy: 0.4400\n",
      "Epoch 2/400\n",
      "100/100 [==============================] - 1s 9ms/step - loss: 21.1564 - accuracy: 0.8200\n",
      "Epoch 3/400\n",
      "100/100 [==============================] - 1s 8ms/step - loss: 9.4311 - accuracy: 0.8900\n",
      "Epoch 4/400\n",
      "100/100 [==============================] - 1s 8ms/step - loss: 3.0601 - accuracy: 0.9500\n",
      "Epoch 5/400\n",
      "100/100 [==============================] - 1s 8ms/step - loss: 6.7164 - accuracy: 0.8800\n",
      "Epoch 6/400\n",
      "100/100 [==============================] - 1s 8ms/step - loss: 6.9835 - accuracy: 0.9300\n",
      "Epoch 7/400\n",
      "100/100 [==============================] - 1s 9ms/step - loss: 5.4287 - accuracy: 0.9500\n",
      "Epoch 8/400\n",
      "100/100 [==============================] - 1s 8ms/step - loss: 0.1874 - accuracy: 0.9900\n",
      "Epoch 9/400\n",
      "100/100 [==============================] - 1s 8ms/step - loss: 0.0000e+00 - accuracy: 1.0000\n",
      "(784, 290)\n",
      "Epoch 1/400\n",
      " 13/100 [==>...........................] - ETA: 0s - loss: 132.1463 - accuracy: 0.0769    "
     ]
    },
    {
     "name": "stderr",
     "output_type": "stream",
     "text": [
      "2023-04-21 12:46:50.438597: I tensorflow/core/grappler/optimizers/custom_graph_optimizer_registry.cc:113] Plugin optimizer for device_type GPU is enabled.\n"
     ]
    },
    {
     "name": "stdout",
     "output_type": "stream",
     "text": [
      "100/100 [==============================] - 1s 9ms/step - loss: 67.5810 - accuracy: 0.4800\n",
      "Epoch 2/400\n",
      "100/100 [==============================] - 1s 9ms/step - loss: 14.9224 - accuracy: 0.8600\n",
      "Epoch 3/400\n",
      "100/100 [==============================] - 1s 8ms/step - loss: 10.8571 - accuracy: 0.8600\n",
      "Epoch 4/400\n",
      "100/100 [==============================] - 1s 8ms/step - loss: 5.6928 - accuracy: 0.9300\n",
      "Epoch 5/400\n",
      "100/100 [==============================] - 1s 8ms/step - loss: 2.1135 - accuracy: 0.9500\n",
      "Epoch 6/400\n",
      "100/100 [==============================] - 1s 9ms/step - loss: 7.5845 - accuracy: 0.9600\n",
      "Epoch 7/400\n",
      "100/100 [==============================] - 1s 8ms/step - loss: 0.3702 - accuracy: 0.9800\n",
      "Epoch 8/400\n",
      "100/100 [==============================] - 1s 8ms/step - loss: 6.3055 - accuracy: 0.9300\n",
      "Epoch 9/400\n",
      "100/100 [==============================] - 1s 9ms/step - loss: 15.4347 - accuracy: 0.9100\n",
      "Epoch 10/400\n",
      "100/100 [==============================] - 1s 9ms/step - loss: 7.1612 - accuracy: 0.9500\n",
      "Epoch 11/400\n",
      "100/100 [==============================] - 1s 8ms/step - loss: 0.4004 - accuracy: 0.9900\n",
      "Epoch 12/400\n",
      "100/100 [==============================] - 1s 8ms/step - loss: 0.9456 - accuracy: 0.9900\n",
      "Epoch 13/400\n",
      "100/100 [==============================] - 1s 8ms/step - loss: 5.1312e-04 - accuracy: 1.0000\n",
      "(784, 300)\n",
      "Epoch 1/400\n",
      " 14/100 [===>..........................] - ETA: 0s - loss: 111.3383 - accuracy: 0.2857   "
     ]
    },
    {
     "name": "stderr",
     "output_type": "stream",
     "text": [
      "2023-04-21 12:47:02.238505: I tensorflow/core/grappler/optimizers/custom_graph_optimizer_registry.cc:113] Plugin optimizer for device_type GPU is enabled.\n"
     ]
    },
    {
     "name": "stdout",
     "output_type": "stream",
     "text": [
      "100/100 [==============================] - 1s 9ms/step - loss: 106.0607 - accuracy: 0.4100\n",
      "Epoch 2/400\n",
      "100/100 [==============================] - 1s 8ms/step - loss: 9.7236 - accuracy: 0.8400\n",
      "Epoch 3/400\n",
      "100/100 [==============================] - 1s 8ms/step - loss: 2.1950 - accuracy: 0.9400\n",
      "Epoch 4/400\n",
      "100/100 [==============================] - 1s 8ms/step - loss: 6.8202 - accuracy: 0.9100\n",
      "Epoch 5/400\n",
      "100/100 [==============================] - 1s 8ms/step - loss: 3.2042 - accuracy: 0.9800\n",
      "Epoch 6/400\n",
      "100/100 [==============================] - 1s 8ms/step - loss: 9.4597 - accuracy: 0.9300\n",
      "Epoch 7/400\n",
      "100/100 [==============================] - 1s 8ms/step - loss: 0.0000e+00 - accuracy: 1.0000\n",
      "(784, 310)\n",
      "Epoch 1/400\n",
      " 12/100 [==>...........................] - ETA: 0s - loss: 154.1732 - accuracy: 0.1667  "
     ]
    },
    {
     "name": "stderr",
     "output_type": "stream",
     "text": [
      "2023-04-21 12:47:08.316111: I tensorflow/core/grappler/optimizers/custom_graph_optimizer_registry.cc:113] Plugin optimizer for device_type GPU is enabled.\n"
     ]
    },
    {
     "name": "stdout",
     "output_type": "stream",
     "text": [
      "100/100 [==============================] - 1s 8ms/step - loss: 81.8105 - accuracy: 0.5000\n",
      "Epoch 2/400\n",
      "100/100 [==============================] - 1s 8ms/step - loss: 5.6613 - accuracy: 0.8900\n",
      "Epoch 3/400\n",
      "100/100 [==============================] - 1s 8ms/step - loss: 18.6823 - accuracy: 0.8600\n",
      "Epoch 4/400\n",
      "100/100 [==============================] - 1s 8ms/step - loss: 9.2413 - accuracy: 0.9100\n",
      "Epoch 5/400\n",
      "100/100 [==============================] - 1s 8ms/step - loss: 14.2264 - accuracy: 0.8800\n",
      "Epoch 6/400\n",
      "100/100 [==============================] - 1s 8ms/step - loss: 1.2258 - accuracy: 0.9700\n",
      "Epoch 7/400\n",
      "100/100 [==============================] - 1s 8ms/step - loss: 2.9077 - accuracy: 0.9600\n",
      "Epoch 8/400\n",
      "100/100 [==============================] - 1s 9ms/step - loss: 0.9736 - accuracy: 0.9700\n",
      "Epoch 9/400\n",
      "100/100 [==============================] - 1s 9ms/step - loss: 0.2983 - accuracy: 0.9800\n",
      "Epoch 10/400\n",
      "100/100 [==============================] - 1s 9ms/step - loss: 0.8452 - accuracy: 0.9700\n",
      "Epoch 11/400\n",
      "100/100 [==============================] - 1s 9ms/step - loss: 9.3859 - accuracy: 0.9200\n",
      "Epoch 12/400\n",
      "100/100 [==============================] - 1s 8ms/step - loss: 4.8004 - accuracy: 0.9300\n",
      "Epoch 13/400\n",
      "100/100 [==============================] - 1s 8ms/step - loss: 5.5270 - accuracy: 0.9600\n",
      "Epoch 14/400\n",
      "100/100 [==============================] - 1s 9ms/step - loss: 0.0000e+00 - accuracy: 1.0000\n",
      "(784, 320)\n",
      "Epoch 1/400\n",
      "  7/100 [=>............................] - ETA: 0s - loss: 91.7996 - accuracy: 0.2857      "
     ]
    },
    {
     "name": "stderr",
     "output_type": "stream",
     "text": [
      "2023-04-21 12:47:20.405017: I tensorflow/core/grappler/optimizers/custom_graph_optimizer_registry.cc:113] Plugin optimizer for device_type GPU is enabled.\n"
     ]
    },
    {
     "name": "stdout",
     "output_type": "stream",
     "text": [
      "100/100 [==============================] - 1s 9ms/step - loss: 76.1583 - accuracy: 0.5300\n",
      "Epoch 2/400\n",
      "100/100 [==============================] - 1s 9ms/step - loss: 35.7684 - accuracy: 0.7300\n",
      "Epoch 3/400\n",
      "100/100 [==============================] - 1s 8ms/step - loss: 7.7431 - accuracy: 0.8700\n",
      "Epoch 4/400\n",
      "100/100 [==============================] - 1s 9ms/step - loss: 1.6560 - accuracy: 0.9600\n",
      "Epoch 5/400\n",
      "100/100 [==============================] - 1s 8ms/step - loss: 0.8958 - accuracy: 0.9900\n",
      "Epoch 6/400\n",
      "100/100 [==============================] - 1s 8ms/step - loss: 0.8685 - accuracy: 0.9700\n",
      "Epoch 7/400\n",
      "100/100 [==============================] - 1s 9ms/step - loss: 5.5059 - accuracy: 0.8900\n",
      "Epoch 8/400\n",
      "100/100 [==============================] - 1s 9ms/step - loss: 1.6152 - accuracy: 0.9600\n",
      "Epoch 9/400\n",
      "100/100 [==============================] - 1s 9ms/step - loss: 4.9037 - accuracy: 0.9600\n",
      "Epoch 10/400\n",
      "100/100 [==============================] - 1s 8ms/step - loss: 6.2739 - accuracy: 0.9600\n",
      "Epoch 11/400\n",
      "100/100 [==============================] - 1s 9ms/step - loss: 14.1184 - accuracy: 0.8900\n",
      "Epoch 12/400\n",
      "100/100 [==============================] - 1s 8ms/step - loss: 4.1685 - accuracy: 0.9500\n",
      "Epoch 13/400\n",
      "100/100 [==============================] - 1s 8ms/step - loss: 3.1239 - accuracy: 0.9800\n",
      "Epoch 14/400\n",
      "100/100 [==============================] - 1s 8ms/step - loss: 4.9621 - accuracy: 0.9600\n",
      "Epoch 15/400\n",
      "100/100 [==============================] - 1s 9ms/step - loss: 1.5435 - accuracy: 0.9900\n",
      "Epoch 16/400\n",
      "100/100 [==============================] - 1s 8ms/step - loss: 5.9484e-07 - accuracy: 1.0000\n",
      "(784, 330)\n",
      "Epoch 1/400\n",
      " 13/100 [==>...........................] - ETA: 0s - loss: 160.4166 - accuracy: 0.3846   "
     ]
    },
    {
     "name": "stderr",
     "output_type": "stream",
     "text": [
      "2023-04-21 12:47:34.347503: I tensorflow/core/grappler/optimizers/custom_graph_optimizer_registry.cc:113] Plugin optimizer for device_type GPU is enabled.\n"
     ]
    },
    {
     "name": "stdout",
     "output_type": "stream",
     "text": [
      "100/100 [==============================] - 1s 8ms/step - loss: 88.8023 - accuracy: 0.4700\n",
      "Epoch 2/400\n",
      "100/100 [==============================] - 1s 8ms/step - loss: 13.3505 - accuracy: 0.8700\n",
      "Epoch 3/400\n",
      "100/100 [==============================] - 1s 8ms/step - loss: 13.6488 - accuracy: 0.8800\n",
      "Epoch 4/400\n",
      "100/100 [==============================] - 1s 8ms/step - loss: 10.2804 - accuracy: 0.9200\n",
      "Epoch 5/400\n",
      "100/100 [==============================] - 1s 8ms/step - loss: 0.0701 - accuracy: 0.9900\n",
      "Epoch 6/400\n",
      "100/100 [==============================] - 1s 8ms/step - loss: 0.0000e+00 - accuracy: 1.0000\n",
      "(784, 340)\n",
      "Epoch 1/400\n",
      " 13/100 [==>...........................] - ETA: 0s - loss: 172.6678 - accuracy: 0.0000e+00"
     ]
    },
    {
     "name": "stderr",
     "output_type": "stream",
     "text": [
      "2023-04-21 12:47:39.539348: I tensorflow/core/grappler/optimizers/custom_graph_optimizer_registry.cc:113] Plugin optimizer for device_type GPU is enabled.\n"
     ]
    },
    {
     "name": "stdout",
     "output_type": "stream",
     "text": [
      "100/100 [==============================] - 1s 9ms/step - loss: 75.5519 - accuracy: 0.4700\n",
      "Epoch 2/400\n",
      "100/100 [==============================] - 1s 8ms/step - loss: 30.3716 - accuracy: 0.7700\n",
      "Epoch 3/400\n",
      "100/100 [==============================] - 1s 8ms/step - loss: 4.8618 - accuracy: 0.9200\n",
      "Epoch 4/400\n",
      "100/100 [==============================] - 1s 8ms/step - loss: 3.8671 - accuracy: 0.9400\n",
      "Epoch 5/400\n",
      "100/100 [==============================] - 1s 9ms/step - loss: 9.6708 - accuracy: 0.9300\n",
      "Epoch 6/400\n",
      "100/100 [==============================] - 1s 8ms/step - loss: 2.7984 - accuracy: 0.9500\n",
      "Epoch 7/400\n",
      "100/100 [==============================] - 1s 8ms/step - loss: 6.8569 - accuracy: 0.9600\n",
      "Epoch 8/400\n",
      "100/100 [==============================] - 1s 9ms/step - loss: 2.8074 - accuracy: 0.9400\n",
      "Epoch 9/400\n",
      "100/100 [==============================] - 1s 9ms/step - loss: 0.6677 - accuracy: 0.9600\n",
      "Epoch 10/400\n",
      "100/100 [==============================] - 1s 8ms/step - loss: 11.9215 - accuracy: 0.9300\n",
      "Epoch 11/400\n",
      "100/100 [==============================] - 1s 8ms/step - loss: 11.7309 - accuracy: 0.9200\n",
      "Epoch 12/400\n",
      "100/100 [==============================] - 1s 8ms/step - loss: 7.0653 - accuracy: 0.9400\n",
      "Epoch 13/400\n",
      "100/100 [==============================] - 1s 9ms/step - loss: 0.9886 - accuracy: 0.9900\n",
      "Epoch 14/400\n",
      "100/100 [==============================] - 1s 8ms/step - loss: 0.0000e+00 - accuracy: 1.0000\n",
      "(784, 350)\n",
      "Epoch 1/400\n",
      " 14/100 [===>..........................] - ETA: 0s - loss: 123.3469 - accuracy: 0.2143   "
     ]
    },
    {
     "name": "stderr",
     "output_type": "stream",
     "text": [
      "2023-04-21 12:47:51.626489: I tensorflow/core/grappler/optimizers/custom_graph_optimizer_registry.cc:113] Plugin optimizer for device_type GPU is enabled.\n"
     ]
    },
    {
     "name": "stdout",
     "output_type": "stream",
     "text": [
      "100/100 [==============================] - 1s 8ms/step - loss: 96.2708 - accuracy: 0.3500\n",
      "Epoch 2/400\n",
      "100/100 [==============================] - 1s 8ms/step - loss: 7.5684 - accuracy: 0.9300\n",
      "Epoch 3/400\n",
      "100/100 [==============================] - 1s 9ms/step - loss: 3.8613 - accuracy: 0.9500\n",
      "Epoch 4/400\n",
      "100/100 [==============================] - 1s 8ms/step - loss: 4.4359 - accuracy: 0.9400\n",
      "Epoch 5/400\n",
      "100/100 [==============================] - 1s 8ms/step - loss: 6.9146 - accuracy: 0.9300\n",
      "Epoch 6/400\n",
      "100/100 [==============================] - 1s 8ms/step - loss: 3.0923 - accuracy: 0.9100\n",
      "Epoch 7/400\n",
      "100/100 [==============================] - 1s 8ms/step - loss: 2.5422 - accuracy: 0.9700\n",
      "Epoch 8/400\n",
      "100/100 [==============================] - 1s 9ms/step - loss: 18.7910 - accuracy: 0.9100\n",
      "Epoch 9/400\n",
      "100/100 [==============================] - 1s 8ms/step - loss: 12.5929 - accuracy: 0.9200\n",
      "Epoch 10/400\n",
      "100/100 [==============================] - 1s 8ms/step - loss: 5.1484 - accuracy: 0.9400\n",
      "Epoch 11/400\n",
      "100/100 [==============================] - 1s 9ms/step - loss: 0.7137 - accuracy: 0.9900\n",
      "Epoch 12/400\n",
      "100/100 [==============================] - 1s 8ms/step - loss: 0.0000e+00 - accuracy: 1.0000\n",
      "(784, 360)\n",
      "Epoch 1/400\n",
      " 12/100 [==>...........................] - ETA: 0s - loss: 109.0677 - accuracy: 0.2500    "
     ]
    },
    {
     "name": "stderr",
     "output_type": "stream",
     "text": [
      "2023-04-21 12:48:02.099073: I tensorflow/core/grappler/optimizers/custom_graph_optimizer_registry.cc:113] Plugin optimizer for device_type GPU is enabled.\n"
     ]
    },
    {
     "name": "stdout",
     "output_type": "stream",
     "text": [
      "100/100 [==============================] - 1s 9ms/step - loss: 100.2875 - accuracy: 0.4100\n",
      "Epoch 2/400\n",
      "100/100 [==============================] - 1s 8ms/step - loss: 8.9714 - accuracy: 0.9000\n",
      "Epoch 3/400\n",
      "100/100 [==============================] - 1s 9ms/step - loss: 8.2274 - accuracy: 0.9400\n",
      "Epoch 4/400\n",
      "100/100 [==============================] - 1s 11ms/step - loss: 14.8393 - accuracy: 0.8900\n",
      "Epoch 5/400\n",
      "100/100 [==============================] - 1s 10ms/step - loss: 5.5869 - accuracy: 0.9400\n",
      "Epoch 6/400\n",
      "100/100 [==============================] - 1s 9ms/step - loss: 0.0327 - accuracy: 0.9900\n",
      "(784, 370)\n",
      "Epoch 1/400\n",
      " 14/100 [===>..........................] - ETA: 0s - loss: 127.6933 - accuracy: 0.3571   "
     ]
    },
    {
     "name": "stderr",
     "output_type": "stream",
     "text": [
      "2023-04-21 12:48:07.825884: I tensorflow/core/grappler/optimizers/custom_graph_optimizer_registry.cc:113] Plugin optimizer for device_type GPU is enabled.\n"
     ]
    },
    {
     "name": "stdout",
     "output_type": "stream",
     "text": [
      "100/100 [==============================] - 1s 8ms/step - loss: 109.2085 - accuracy: 0.4300\n",
      "Epoch 2/400\n",
      "100/100 [==============================] - 1s 9ms/step - loss: 18.3479 - accuracy: 0.7900\n",
      "Epoch 3/400\n",
      "100/100 [==============================] - 1s 8ms/step - loss: 3.8434 - accuracy: 0.9300\n",
      "Epoch 4/400\n",
      "100/100 [==============================] - 1s 8ms/step - loss: 0.8809 - accuracy: 0.9700\n",
      "Epoch 5/400\n",
      "100/100 [==============================] - 1s 8ms/step - loss: 3.7093 - accuracy: 0.9500\n",
      "Epoch 6/400\n",
      "100/100 [==============================] - 1s 9ms/step - loss: 8.2782 - accuracy: 0.8600\n",
      "Epoch 7/400\n",
      "100/100 [==============================] - 1s 8ms/step - loss: 3.1527 - accuracy: 0.9500\n",
      "Epoch 8/400\n",
      "100/100 [==============================] - 1s 8ms/step - loss: 2.7466 - accuracy: 0.9800\n",
      "Epoch 9/400\n",
      "100/100 [==============================] - 1s 8ms/step - loss: 0.0000e+00 - accuracy: 1.0000\n",
      "(784, 380)\n",
      "Epoch 1/400\n",
      " 14/100 [===>..........................] - ETA: 0s - loss: 105.5876 - accuracy: 0.3571   "
     ]
    },
    {
     "name": "stderr",
     "output_type": "stream",
     "text": [
      "2023-04-21 12:48:15.610005: I tensorflow/core/grappler/optimizers/custom_graph_optimizer_registry.cc:113] Plugin optimizer for device_type GPU is enabled.\n"
     ]
    },
    {
     "name": "stdout",
     "output_type": "stream",
     "text": [
      "100/100 [==============================] - 1s 9ms/step - loss: 79.7226 - accuracy: 0.5000\n",
      "Epoch 2/400\n",
      "100/100 [==============================] - 1s 8ms/step - loss: 16.1713 - accuracy: 0.8300\n",
      "Epoch 3/400\n",
      "100/100 [==============================] - 1s 8ms/step - loss: 3.4611 - accuracy: 0.9400\n",
      "Epoch 4/400\n",
      "100/100 [==============================] - 1s 8ms/step - loss: 4.7674 - accuracy: 0.9100\n",
      "Epoch 5/400\n",
      "100/100 [==============================] - 1s 8ms/step - loss: 4.9884 - accuracy: 0.9200\n",
      "Epoch 6/400\n",
      "100/100 [==============================] - 1s 9ms/step - loss: 0.3121 - accuracy: 0.9800\n",
      "Epoch 7/400\n",
      "100/100 [==============================] - 1s 8ms/step - loss: 0.5689 - accuracy: 0.9900\n",
      "Epoch 8/400\n",
      "100/100 [==============================] - 1s 8ms/step - loss: 0.0000e+00 - accuracy: 1.0000\n",
      "(784, 390)\n",
      "Epoch 1/400\n",
      " 13/100 [==>...........................] - ETA: 0s - loss: 97.0898 - accuracy: 0.2308     "
     ]
    },
    {
     "name": "stderr",
     "output_type": "stream",
     "text": [
      "2023-04-21 12:48:22.571441: I tensorflow/core/grappler/optimizers/custom_graph_optimizer_registry.cc:113] Plugin optimizer for device_type GPU is enabled.\n"
     ]
    },
    {
     "name": "stdout",
     "output_type": "stream",
     "text": [
      "100/100 [==============================] - 1s 9ms/step - loss: 93.3094 - accuracy: 0.4600\n",
      "Epoch 2/400\n",
      "100/100 [==============================] - 1s 8ms/step - loss: 16.0448 - accuracy: 0.8500\n",
      "Epoch 3/400\n",
      "100/100 [==============================] - 1s 8ms/step - loss: 4.0146 - accuracy: 0.9700\n",
      "Epoch 4/400\n",
      "100/100 [==============================] - 1s 8ms/step - loss: 12.4921 - accuracy: 0.8800\n",
      "Epoch 5/400\n",
      "100/100 [==============================] - 1s 8ms/step - loss: 3.1149 - accuracy: 0.9500\n",
      "Epoch 6/400\n",
      "100/100 [==============================] - 1s 9ms/step - loss: 3.2703 - accuracy: 0.9500\n",
      "Epoch 7/400\n",
      "100/100 [==============================] - 1s 8ms/step - loss: 15.5640 - accuracy: 0.9100\n",
      "Epoch 8/400\n",
      "100/100 [==============================] - 1s 8ms/step - loss: 1.2268 - accuracy: 0.9700\n",
      "Epoch 9/400\n",
      "100/100 [==============================] - 1s 8ms/step - loss: 0.0000e+00 - accuracy: 1.0000\n",
      "(784, 400)\n",
      "Epoch 1/400\n",
      " 13/100 [==>...........................] - ETA: 0s - loss: 226.4265 - accuracy: 0.0769   "
     ]
    },
    {
     "name": "stderr",
     "output_type": "stream",
     "text": [
      "2023-04-21 12:48:30.389289: I tensorflow/core/grappler/optimizers/custom_graph_optimizer_registry.cc:113] Plugin optimizer for device_type GPU is enabled.\n"
     ]
    },
    {
     "name": "stdout",
     "output_type": "stream",
     "text": [
      "100/100 [==============================] - 1s 9ms/step - loss: 111.6205 - accuracy: 0.4800\n",
      "Epoch 2/400\n",
      "100/100 [==============================] - 1s 8ms/step - loss: 15.4873 - accuracy: 0.8200\n",
      "Epoch 3/400\n",
      "100/100 [==============================] - 1s 8ms/step - loss: 2.3454 - accuracy: 0.9800\n",
      "Epoch 4/400\n",
      "100/100 [==============================] - 1s 8ms/step - loss: 12.5947 - accuracy: 0.8900\n",
      "Epoch 5/400\n",
      "100/100 [==============================] - 1s 9ms/step - loss: 7.4628 - accuracy: 0.9100\n",
      "Epoch 6/400\n",
      "100/100 [==============================] - 1s 8ms/step - loss: 5.4893 - accuracy: 0.9700\n",
      "Epoch 7/400\n",
      "100/100 [==============================] - 1s 8ms/step - loss: 0.6261 - accuracy: 0.9700\n",
      "Epoch 8/400\n",
      "100/100 [==============================] - 1s 8ms/step - loss: 3.6874 - accuracy: 0.9900\n",
      "Epoch 9/400\n",
      "100/100 [==============================] - 1s 9ms/step - loss: 0.9179 - accuracy: 0.9900\n",
      "Epoch 10/400\n",
      "100/100 [==============================] - 1s 8ms/step - loss: 30.2748 - accuracy: 0.8500\n",
      "Epoch 11/400\n",
      "100/100 [==============================] - 1s 8ms/step - loss: 10.9150 - accuracy: 0.9300\n",
      "Epoch 12/400\n",
      "100/100 [==============================] - 1s 8ms/step - loss: 2.3872 - accuracy: 0.9700\n",
      "Epoch 13/400\n",
      "100/100 [==============================] - 1s 8ms/step - loss: 1.5348 - accuracy: 0.9700\n",
      "Epoch 14/400\n",
      "100/100 [==============================] - 1s 9ms/step - loss: 0.2640 - accuracy: 0.9900\n",
      "Epoch 15/400\n",
      "100/100 [==============================] - 1s 8ms/step - loss: 3.1049 - accuracy: 0.9700\n",
      "Epoch 16/400\n",
      "100/100 [==============================] - 1s 8ms/step - loss: 3.7193e-04 - accuracy: 1.0000\n",
      "(784, 410)\n",
      "Epoch 1/400\n",
      " 13/100 [==>...........................] - ETA: 0s - loss: 195.5398 - accuracy: 0.2308  "
     ]
    },
    {
     "name": "stderr",
     "output_type": "stream",
     "text": [
      "2023-04-21 12:48:44.157624: I tensorflow/core/grappler/optimizers/custom_graph_optimizer_registry.cc:113] Plugin optimizer for device_type GPU is enabled.\n"
     ]
    },
    {
     "name": "stdout",
     "output_type": "stream",
     "text": [
      "100/100 [==============================] - 1s 9ms/step - loss: 90.8863 - accuracy: 0.4800\n",
      "Epoch 2/400\n",
      "100/100 [==============================] - 1s 9ms/step - loss: 31.8528 - accuracy: 0.7300\n",
      "Epoch 3/400\n",
      "100/100 [==============================] - 1s 8ms/step - loss: 10.7318 - accuracy: 0.9000\n",
      "Epoch 4/400\n",
      "100/100 [==============================] - 1s 9ms/step - loss: 4.1813 - accuracy: 0.9700\n",
      "Epoch 5/400\n",
      "100/100 [==============================] - 1s 8ms/step - loss: 4.6149 - accuracy: 0.9700\n",
      "Epoch 6/400\n",
      "100/100 [==============================] - 1s 9ms/step - loss: 0.5853 - accuracy: 0.9800\n",
      "Epoch 7/400\n",
      "100/100 [==============================] - 1s 8ms/step - loss: 0.1197 - accuracy: 0.9900\n",
      "Epoch 8/400\n",
      "100/100 [==============================] - 1s 8ms/step - loss: 0.7033 - accuracy: 0.9900\n",
      "Epoch 9/400\n",
      "100/100 [==============================] - 1s 8ms/step - loss: 1.1921e-09 - accuracy: 1.0000\n",
      "(784, 420)\n",
      "Epoch 1/400\n",
      " 12/100 [==>...........................] - ETA: 0s - loss: 237.7802 - accuracy: 0.0833    "
     ]
    },
    {
     "name": "stderr",
     "output_type": "stream",
     "text": [
      "2023-04-21 12:48:52.092717: I tensorflow/core/grappler/optimizers/custom_graph_optimizer_registry.cc:113] Plugin optimizer for device_type GPU is enabled.\n"
     ]
    },
    {
     "name": "stdout",
     "output_type": "stream",
     "text": [
      "100/100 [==============================] - 1s 9ms/step - loss: 109.2140 - accuracy: 0.4500\n",
      "Epoch 2/400\n",
      "100/100 [==============================] - 1s 8ms/step - loss: 17.7042 - accuracy: 0.8400\n",
      "Epoch 3/400\n",
      "100/100 [==============================] - 1s 8ms/step - loss: 5.7370 - accuracy: 0.9200\n",
      "Epoch 4/400\n",
      "100/100 [==============================] - 1s 8ms/step - loss: 0.8540 - accuracy: 0.9900\n",
      "Epoch 5/400\n",
      "100/100 [==============================] - 1s 9ms/step - loss: 0.0000e+00 - accuracy: 1.0000\n",
      "(784, 430)\n",
      "Epoch 1/400\n",
      " 13/100 [==>...........................] - ETA: 0s - loss: 118.0942 - accuracy: 0.2308   "
     ]
    },
    {
     "name": "stderr",
     "output_type": "stream",
     "text": [
      "2023-04-21 12:48:56.588618: I tensorflow/core/grappler/optimizers/custom_graph_optimizer_registry.cc:113] Plugin optimizer for device_type GPU is enabled.\n"
     ]
    },
    {
     "name": "stdout",
     "output_type": "stream",
     "text": [
      "100/100 [==============================] - 1s 8ms/step - loss: 94.2417 - accuracy: 0.4800\n",
      "Epoch 2/400\n",
      "100/100 [==============================] - 1s 8ms/step - loss: 23.5410 - accuracy: 0.8300\n",
      "Epoch 3/400\n",
      "100/100 [==============================] - 1s 8ms/step - loss: 13.8515 - accuracy: 0.8900\n",
      "Epoch 4/400\n",
      "100/100 [==============================] - 1s 9ms/step - loss: 1.2355 - accuracy: 0.9800\n",
      "Epoch 5/400\n",
      "100/100 [==============================] - 1s 9ms/step - loss: 6.5653 - accuracy: 0.9500\n",
      "Epoch 6/400\n",
      "100/100 [==============================] - 1s 8ms/step - loss: 1.2763 - accuracy: 0.9800\n",
      "Epoch 7/400\n",
      "100/100 [==============================] - 1s 8ms/step - loss: 6.5044 - accuracy: 0.9300\n",
      "Epoch 8/400\n",
      "100/100 [==============================] - 1s 9ms/step - loss: 8.2354 - accuracy: 0.9200\n",
      "Epoch 9/400\n",
      "100/100 [==============================] - 1s 8ms/step - loss: 15.9170 - accuracy: 0.8400\n",
      "Epoch 10/400\n",
      "100/100 [==============================] - 1s 8ms/step - loss: 1.8707 - accuracy: 0.9500\n",
      "Epoch 11/400\n",
      "100/100 [==============================] - 1s 8ms/step - loss: 2.0654 - accuracy: 0.9500\n",
      "Epoch 12/400\n",
      "100/100 [==============================] - 1s 9ms/step - loss: 0.0000e+00 - accuracy: 1.0000\n",
      "(784, 440)\n",
      "Epoch 1/400\n",
      " 13/100 [==>...........................] - ETA: 0s - loss: 92.8545 - accuracy: 0.1538     "
     ]
    },
    {
     "name": "stderr",
     "output_type": "stream",
     "text": [
      "2023-04-21 12:49:07.029893: I tensorflow/core/grappler/optimizers/custom_graph_optimizer_registry.cc:113] Plugin optimizer for device_type GPU is enabled.\n"
     ]
    },
    {
     "name": "stdout",
     "output_type": "stream",
     "text": [
      "100/100 [==============================] - 1s 9ms/step - loss: 86.5575 - accuracy: 0.4700\n",
      "Epoch 2/400\n",
      "100/100 [==============================] - 1s 8ms/step - loss: 22.2077 - accuracy: 0.7800\n",
      "Epoch 3/400\n",
      "100/100 [==============================] - 1s 8ms/step - loss: 5.7740 - accuracy: 0.9200\n",
      "Epoch 4/400\n",
      "100/100 [==============================] - 1s 9ms/step - loss: 1.1866 - accuracy: 0.9800\n",
      "Epoch 5/400\n",
      "100/100 [==============================] - 1s 8ms/step - loss: 1.9438 - accuracy: 0.9600\n",
      "Epoch 6/400\n",
      "100/100 [==============================] - 1s 8ms/step - loss: 3.7343 - accuracy: 0.9700\n",
      "Epoch 7/400\n",
      "100/100 [==============================] - 1s 8ms/step - loss: 16.1350 - accuracy: 0.9000\n",
      "Epoch 8/400\n",
      "100/100 [==============================] - 1s 8ms/step - loss: 2.4598 - accuracy: 0.9700\n",
      "Epoch 9/400\n",
      "100/100 [==============================] - 1s 9ms/step - loss: 0.0000e+00 - accuracy: 1.0000\n",
      "(784, 450)\n",
      "Epoch 1/400\n",
      "  7/100 [=>............................] - ETA: 0s - loss: 169.6601 - accuracy: 0.0000e+00 "
     ]
    },
    {
     "name": "stderr",
     "output_type": "stream",
     "text": [
      "2023-04-21 12:49:14.921809: I tensorflow/core/grappler/optimizers/custom_graph_optimizer_registry.cc:113] Plugin optimizer for device_type GPU is enabled.\n"
     ]
    },
    {
     "name": "stdout",
     "output_type": "stream",
     "text": [
      "100/100 [==============================] - 1s 9ms/step - loss: 107.0564 - accuracy: 0.4400\n",
      "Epoch 2/400\n",
      "100/100 [==============================] - 1s 8ms/step - loss: 20.4323 - accuracy: 0.8600\n",
      "Epoch 3/400\n",
      "100/100 [==============================] - 1s 8ms/step - loss: 5.3410 - accuracy: 0.9100\n",
      "Epoch 4/400\n",
      "100/100 [==============================] - 1s 9ms/step - loss: 2.7857 - accuracy: 0.9500\n",
      "Epoch 5/400\n",
      "100/100 [==============================] - 1s 8ms/step - loss: 1.1921e-08 - accuracy: 1.0000\n",
      "(784, 460)\n",
      "Epoch 1/400\n",
      " 13/100 [==>...........................] - ETA: 0s - loss: 166.9704 - accuracy: 0.1538   "
     ]
    },
    {
     "name": "stderr",
     "output_type": "stream",
     "text": [
      "2023-04-21 12:49:19.420434: I tensorflow/core/grappler/optimizers/custom_graph_optimizer_registry.cc:113] Plugin optimizer for device_type GPU is enabled.\n"
     ]
    },
    {
     "name": "stdout",
     "output_type": "stream",
     "text": [
      "100/100 [==============================] - 1s 9ms/step - loss: 107.0529 - accuracy: 0.4500\n",
      "Epoch 2/400\n",
      "100/100 [==============================] - 1s 8ms/step - loss: 23.0828 - accuracy: 0.8100\n",
      "Epoch 3/400\n",
      "100/100 [==============================] - 1s 9ms/step - loss: 19.3070 - accuracy: 0.8900\n",
      "Epoch 4/400\n",
      "100/100 [==============================] - 1s 8ms/step - loss: 1.4782 - accuracy: 0.9600\n",
      "Epoch 5/400\n",
      "100/100 [==============================] - 1s 8ms/step - loss: 0.9883 - accuracy: 0.9800\n",
      "Epoch 6/400\n",
      "100/100 [==============================] - 1s 8ms/step - loss: 0.0000e+00 - accuracy: 1.0000\n",
      "(784, 470)\n",
      "Epoch 1/400\n",
      " 13/100 [==>...........................] - ETA: 0s - loss: 141.9866 - accuracy: 0.3077    "
     ]
    },
    {
     "name": "stderr",
     "output_type": "stream",
     "text": [
      "2023-04-21 12:49:24.729060: I tensorflow/core/grappler/optimizers/custom_graph_optimizer_registry.cc:113] Plugin optimizer for device_type GPU is enabled.\n"
     ]
    },
    {
     "name": "stdout",
     "output_type": "stream",
     "text": [
      "100/100 [==============================] - 1s 9ms/step - loss: 104.9550 - accuracy: 0.4800\n",
      "Epoch 2/400\n",
      "100/100 [==============================] - 1s 8ms/step - loss: 22.1338 - accuracy: 0.8300\n",
      "Epoch 3/400\n",
      "100/100 [==============================] - 1s 8ms/step - loss: 9.9342 - accuracy: 0.9300\n",
      "Epoch 4/400\n",
      "100/100 [==============================] - 1s 8ms/step - loss: 10.8653 - accuracy: 0.8700\n",
      "Epoch 5/400\n",
      "100/100 [==============================] - 1s 9ms/step - loss: 14.1699 - accuracy: 0.9500\n",
      "Epoch 6/400\n",
      "100/100 [==============================] - 1s 8ms/step - loss: 0.0000e+00 - accuracy: 1.0000\n",
      "(784, 480)\n",
      "Epoch 1/400\n",
      " 13/100 [==>...........................] - ETA: 0s - loss: 227.3946 - accuracy: 0.0769    "
     ]
    },
    {
     "name": "stderr",
     "output_type": "stream",
     "text": [
      "2023-04-21 12:49:30.056448: I tensorflow/core/grappler/optimizers/custom_graph_optimizer_registry.cc:113] Plugin optimizer for device_type GPU is enabled.\n"
     ]
    },
    {
     "name": "stdout",
     "output_type": "stream",
     "text": [
      "100/100 [==============================] - 1s 9ms/step - loss: 113.9367 - accuracy: 0.3900\n",
      "Epoch 2/400\n",
      "100/100 [==============================] - 1s 8ms/step - loss: 9.4677 - accuracy: 0.9200\n",
      "Epoch 3/400\n",
      "100/100 [==============================] - 1s 9ms/step - loss: 5.6782 - accuracy: 0.9400\n",
      "Epoch 4/400\n",
      "100/100 [==============================] - 1s 8ms/step - loss: 1.8559e-06 - accuracy: 1.0000\n",
      "(784, 490)\n",
      "Epoch 1/400\n",
      " 13/100 [==>...........................] - ETA: 0s - loss: 164.3293 - accuracy: 0.0769   "
     ]
    },
    {
     "name": "stderr",
     "output_type": "stream",
     "text": [
      "2023-04-21 12:49:33.743480: I tensorflow/core/grappler/optimizers/custom_graph_optimizer_registry.cc:113] Plugin optimizer for device_type GPU is enabled.\n"
     ]
    },
    {
     "name": "stdout",
     "output_type": "stream",
     "text": [
      "100/100 [==============================] - 1s 9ms/step - loss: 90.6776 - accuracy: 0.4400\n",
      "Epoch 2/400\n",
      "100/100 [==============================] - 1s 9ms/step - loss: 24.7959 - accuracy: 0.8500\n",
      "Epoch 3/400\n",
      "100/100 [==============================] - 1s 9ms/step - loss: 17.8389 - accuracy: 0.8300\n",
      "Epoch 4/400\n",
      "100/100 [==============================] - 1s 9ms/step - loss: 4.3192 - accuracy: 0.9300\n",
      "Epoch 5/400\n",
      "100/100 [==============================] - 1s 9ms/step - loss: 2.7251 - accuracy: 0.9700\n",
      "Epoch 6/400\n",
      "100/100 [==============================] - 1s 9ms/step - loss: 7.6972 - accuracy: 0.9600\n",
      "Epoch 7/400\n",
      "100/100 [==============================] - 1s 9ms/step - loss: 2.8616 - accuracy: 0.9800\n",
      "Epoch 8/400\n",
      "100/100 [==============================] - 1s 9ms/step - loss: 2.1267 - accuracy: 0.9900\n",
      "Epoch 9/400\n",
      "100/100 [==============================] - 1s 9ms/step - loss: 3.9817 - accuracy: 0.9800\n",
      "Epoch 10/400\n",
      "100/100 [==============================] - 1s 9ms/step - loss: 1.8822e-04 - accuracy: 1.0000\n",
      "(784, 500)\n",
      "Epoch 1/400\n",
      " 12/100 [==>...........................] - ETA: 0s - loss: 163.9037 - accuracy: 0.0000e+00"
     ]
    },
    {
     "name": "stderr",
     "output_type": "stream",
     "text": [
      "2023-04-21 12:49:42.656475: I tensorflow/core/grappler/optimizers/custom_graph_optimizer_registry.cc:113] Plugin optimizer for device_type GPU is enabled.\n"
     ]
    },
    {
     "name": "stdout",
     "output_type": "stream",
     "text": [
      "100/100 [==============================] - 1s 9ms/step - loss: 97.4365 - accuracy: 0.4500\n",
      "Epoch 2/400\n",
      "100/100 [==============================] - 1s 8ms/step - loss: 15.1760 - accuracy: 0.8400\n",
      "Epoch 3/400\n",
      "100/100 [==============================] - 1s 8ms/step - loss: 5.4290 - accuracy: 0.9400\n",
      "Epoch 4/400\n",
      "100/100 [==============================] - 1s 9ms/step - loss: 13.0494 - accuracy: 0.8900\n",
      "Epoch 5/400\n",
      "100/100 [==============================] - 1s 9ms/step - loss: 3.1790 - accuracy: 0.9600\n",
      "Epoch 6/400\n",
      "100/100 [==============================] - 1s 8ms/step - loss: 4.7650 - accuracy: 0.9600\n",
      "Epoch 7/400\n",
      "100/100 [==============================] - 1s 8ms/step - loss: 1.7022e-06 - accuracy: 1.0000\n",
      "(784, 510)\n",
      "Epoch 1/400\n",
      " 12/100 [==>...........................] - ETA: 0s - loss: 159.9657 - accuracy: 0.2500"
     ]
    },
    {
     "name": "stderr",
     "output_type": "stream",
     "text": [
      "2023-04-21 12:49:48.947584: I tensorflow/core/grappler/optimizers/custom_graph_optimizer_registry.cc:113] Plugin optimizer for device_type GPU is enabled.\n"
     ]
    },
    {
     "name": "stdout",
     "output_type": "stream",
     "text": [
      "100/100 [==============================] - 1s 10ms/step - loss: 101.2478 - accuracy: 0.4800\n",
      "Epoch 2/400\n",
      "100/100 [==============================] - 1s 9ms/step - loss: 19.4584 - accuracy: 0.8400\n",
      "Epoch 3/400\n",
      "100/100 [==============================] - 1s 9ms/step - loss: 7.6779 - accuracy: 0.9200\n",
      "Epoch 4/400\n",
      "100/100 [==============================] - 1s 9ms/step - loss: 8.2470 - accuracy: 0.9300\n",
      "Epoch 5/400\n",
      "100/100 [==============================] - 1s 10ms/step - loss: 13.1544 - accuracy: 0.8900\n",
      "Epoch 6/400\n",
      "100/100 [==============================] - 1s 9ms/step - loss: 2.3992 - accuracy: 0.9400\n",
      "Epoch 7/400\n",
      "100/100 [==============================] - 1s 10ms/step - loss: 3.9534 - accuracy: 0.9700\n",
      "Epoch 8/400\n",
      "100/100 [==============================] - 1s 9ms/step - loss: 5.2234 - accuracy: 0.9500\n",
      "Epoch 9/400\n",
      "100/100 [==============================] - 1s 9ms/step - loss: 5.3587 - accuracy: 0.9500\n",
      "Epoch 10/400\n",
      "100/100 [==============================] - 1s 9ms/step - loss: 17.9531 - accuracy: 0.8900\n",
      "Epoch 11/400\n",
      "100/100 [==============================] - 1s 9ms/step - loss: 0.2734 - accuracy: 0.9900\n",
      "Epoch 12/400\n",
      "100/100 [==============================] - 1s 9ms/step - loss: 1.0007 - accuracy: 0.9900\n",
      "Epoch 13/400\n",
      "100/100 [==============================] - 1s 9ms/step - loss: 0.0000e+00 - accuracy: 1.0000\n",
      "(784, 520)\n",
      "Epoch 1/400\n",
      " 12/100 [==>...........................] - ETA: 0s - loss: 116.7890 - accuracy: 0.0833    "
     ]
    },
    {
     "name": "stderr",
     "output_type": "stream",
     "text": [
      "2023-04-21 12:50:01.303776: I tensorflow/core/grappler/optimizers/custom_graph_optimizer_registry.cc:113] Plugin optimizer for device_type GPU is enabled.\n"
     ]
    },
    {
     "name": "stdout",
     "output_type": "stream",
     "text": [
      "100/100 [==============================] - 1s 9ms/step - loss: 110.0301 - accuracy: 0.3900\n",
      "Epoch 2/400\n",
      "100/100 [==============================] - 1s 9ms/step - loss: 10.8397 - accuracy: 0.9100\n",
      "Epoch 3/400\n",
      "100/100 [==============================] - 1s 9ms/step - loss: 6.9679 - accuracy: 0.9300\n",
      "Epoch 4/400\n",
      "100/100 [==============================] - 1s 9ms/step - loss: 12.3988 - accuracy: 0.9000\n",
      "Epoch 5/400\n",
      "100/100 [==============================] - 1s 9ms/step - loss: 6.5716 - accuracy: 0.9200\n",
      "Epoch 6/400\n",
      "100/100 [==============================] - 1s 10ms/step - loss: 6.7973 - accuracy: 0.9400\n",
      "Epoch 7/400\n",
      "100/100 [==============================] - 1s 9ms/step - loss: 3.8226 - accuracy: 0.9400\n",
      "Epoch 8/400\n",
      "100/100 [==============================] - 1s 9ms/step - loss: 12.9253 - accuracy: 0.9500\n",
      "Epoch 9/400\n",
      "100/100 [==============================] - 1s 9ms/step - loss: 3.7582 - accuracy: 0.9700\n",
      "Epoch 10/400\n",
      "100/100 [==============================] - 1s 10ms/step - loss: 1.8892 - accuracy: 0.9800\n",
      "Epoch 11/400\n",
      "100/100 [==============================] - 1s 9ms/step - loss: 3.5763e-09 - accuracy: 1.0000\n",
      "(784, 530)\n",
      "Epoch 1/400\n",
      " 12/100 [==>...........................] - ETA: 0s - loss: 136.0324 - accuracy: 0.2500   "
     ]
    },
    {
     "name": "stderr",
     "output_type": "stream",
     "text": [
      "2023-04-21 12:50:12.100967: I tensorflow/core/grappler/optimizers/custom_graph_optimizer_registry.cc:113] Plugin optimizer for device_type GPU is enabled.\n"
     ]
    },
    {
     "name": "stdout",
     "output_type": "stream",
     "text": [
      "100/100 [==============================] - 1s 9ms/step - loss: 113.5587 - accuracy: 0.5000\n",
      "Epoch 2/400\n",
      "100/100 [==============================] - 1s 10ms/step - loss: 39.1294 - accuracy: 0.8000\n",
      "Epoch 3/400\n",
      "100/100 [==============================] - 1s 9ms/step - loss: 10.2913 - accuracy: 0.8700\n",
      "Epoch 4/400\n",
      "100/100 [==============================] - 1s 9ms/step - loss: 1.8109 - accuracy: 0.9800\n",
      "Epoch 5/400\n",
      "100/100 [==============================] - 1s 9ms/step - loss: 4.4605 - accuracy: 0.9300\n",
      "Epoch 6/400\n",
      "100/100 [==============================] - 1s 9ms/step - loss: 1.0531 - accuracy: 0.9800\n",
      "Epoch 7/400\n",
      "100/100 [==============================] - 1s 9ms/step - loss: 2.8675 - accuracy: 0.9800\n",
      "Epoch 8/400\n",
      "100/100 [==============================] - 1s 9ms/step - loss: 0.0000e+00 - accuracy: 1.0000\n",
      "(784, 540)\n",
      "Epoch 1/400\n",
      " 13/100 [==>...........................] - ETA: 0s - loss: 136.3853 - accuracy: 0.1538    "
     ]
    },
    {
     "name": "stderr",
     "output_type": "stream",
     "text": [
      "2023-04-21 12:50:19.725977: I tensorflow/core/grappler/optimizers/custom_graph_optimizer_registry.cc:113] Plugin optimizer for device_type GPU is enabled.\n"
     ]
    },
    {
     "name": "stdout",
     "output_type": "stream",
     "text": [
      "100/100 [==============================] - 1s 9ms/step - loss: 99.3618 - accuracy: 0.4500\n",
      "Epoch 2/400\n",
      "100/100 [==============================] - 1s 9ms/step - loss: 14.7714 - accuracy: 0.8800\n",
      "Epoch 3/400\n",
      "100/100 [==============================] - 1s 9ms/step - loss: 12.2289 - accuracy: 0.9200\n",
      "Epoch 4/400\n",
      "100/100 [==============================] - 1s 9ms/step - loss: 5.9850 - accuracy: 0.9200\n",
      "Epoch 5/400\n",
      "100/100 [==============================] - 1s 9ms/step - loss: 8.4113 - accuracy: 0.9300\n",
      "Epoch 6/400\n",
      "100/100 [==============================] - 1s 9ms/step - loss: 8.9211 - accuracy: 0.9400\n",
      "Epoch 7/400\n",
      "100/100 [==============================] - 1s 9ms/step - loss: 0.3785 - accuracy: 0.9900\n",
      "Epoch 8/400\n",
      "100/100 [==============================] - 1s 9ms/step - loss: 1.0910 - accuracy: 0.9800\n",
      "Epoch 9/400\n",
      "100/100 [==============================] - 1s 9ms/step - loss: 4.6248 - accuracy: 0.9700\n",
      "Epoch 10/400\n",
      "100/100 [==============================] - 1s 9ms/step - loss: 0.0000e+00 - accuracy: 1.0000\n",
      "(784, 550)\n",
      "Epoch 1/400\n",
      " 13/100 [==>...........................] - ETA: 0s - loss: 156.7633 - accuracy: 0.0000e+00"
     ]
    },
    {
     "name": "stderr",
     "output_type": "stream",
     "text": [
      "2023-04-21 12:50:29.004036: I tensorflow/core/grappler/optimizers/custom_graph_optimizer_registry.cc:113] Plugin optimizer for device_type GPU is enabled.\n"
     ]
    },
    {
     "name": "stdout",
     "output_type": "stream",
     "text": [
      "100/100 [==============================] - 1s 9ms/step - loss: 95.0092 - accuracy: 0.4300\n",
      "Epoch 2/400\n",
      "100/100 [==============================] - 1s 9ms/step - loss: 20.1679 - accuracy: 0.8400\n",
      "Epoch 3/400\n",
      "100/100 [==============================] - 1s 8ms/step - loss: 11.6710 - accuracy: 0.9000\n",
      "Epoch 4/400\n",
      "100/100 [==============================] - 1s 9ms/step - loss: 0.0106 - accuracy: 0.9900\n",
      "(784, 560)\n",
      "Epoch 1/400\n",
      " 13/100 [==>...........................] - ETA: 0s - loss: 112.8890 - accuracy: 0.2308  "
     ]
    },
    {
     "name": "stderr",
     "output_type": "stream",
     "text": [
      "2023-04-21 12:50:32.704250: I tensorflow/core/grappler/optimizers/custom_graph_optimizer_registry.cc:113] Plugin optimizer for device_type GPU is enabled.\n"
     ]
    },
    {
     "name": "stdout",
     "output_type": "stream",
     "text": [
      "100/100 [==============================] - 1s 9ms/step - loss: 120.8718 - accuracy: 0.5000\n",
      "Epoch 2/400\n",
      "100/100 [==============================] - 1s 9ms/step - loss: 23.4303 - accuracy: 0.8200\n",
      "Epoch 3/400\n",
      "100/100 [==============================] - 1s 9ms/step - loss: 2.1327 - accuracy: 0.9500\n",
      "Epoch 4/400\n",
      "100/100 [==============================] - 1s 8ms/step - loss: 1.0623 - accuracy: 0.9700\n",
      "Epoch 5/400\n",
      "100/100 [==============================] - 1s 9ms/step - loss: 6.1820 - accuracy: 0.9200\n",
      "Epoch 6/400\n",
      "100/100 [==============================] - 1s 9ms/step - loss: 4.5399 - accuracy: 0.9500\n",
      "Epoch 7/400\n",
      "100/100 [==============================] - 1s 9ms/step - loss: 12.2550 - accuracy: 0.9100\n",
      "Epoch 8/400\n",
      "100/100 [==============================] - 1s 8ms/step - loss: 6.5250 - accuracy: 0.9400\n",
      "Epoch 9/400\n",
      "100/100 [==============================] - 1s 9ms/step - loss: 1.6792 - accuracy: 0.9900\n",
      "Epoch 10/400\n",
      "100/100 [==============================] - 1s 9ms/step - loss: 3.9789 - accuracy: 0.9700\n",
      "Epoch 11/400\n",
      "100/100 [==============================] - 1s 9ms/step - loss: 0.2466 - accuracy: 0.9900\n",
      "Epoch 12/400\n",
      "100/100 [==============================] - 1s 9ms/step - loss: 3.5954e-05 - accuracy: 1.0000\n",
      "(784, 570)\n",
      "Epoch 1/400\n",
      " 12/100 [==>...........................] - ETA: 0s - loss: 165.0488 - accuracy: 0.2500  "
     ]
    },
    {
     "name": "stderr",
     "output_type": "stream",
     "text": [
      "2023-04-21 12:50:43.363757: I tensorflow/core/grappler/optimizers/custom_graph_optimizer_registry.cc:113] Plugin optimizer for device_type GPU is enabled.\n"
     ]
    },
    {
     "name": "stdout",
     "output_type": "stream",
     "text": [
      "100/100 [==============================] - 1s 9ms/step - loss: 112.1749 - accuracy: 0.4500\n",
      "Epoch 2/400\n",
      "100/100 [==============================] - 1s 9ms/step - loss: 10.9297 - accuracy: 0.9100\n",
      "Epoch 3/400\n",
      "100/100 [==============================] - 1s 9ms/step - loss: 21.5601 - accuracy: 0.8700\n",
      "Epoch 4/400\n",
      "100/100 [==============================] - 1s 9ms/step - loss: 11.7928 - accuracy: 0.9300\n",
      "Epoch 5/400\n",
      "100/100 [==============================] - 1s 9ms/step - loss: 10.9060 - accuracy: 0.9100\n",
      "Epoch 6/400\n",
      "100/100 [==============================] - 1s 9ms/step - loss: 2.3591 - accuracy: 0.9500\n",
      "Epoch 7/400\n",
      "100/100 [==============================] - 1s 9ms/step - loss: 10.3898 - accuracy: 0.8900\n",
      "Epoch 8/400\n",
      "100/100 [==============================] - 1s 9ms/step - loss: 2.4024 - accuracy: 0.9600\n",
      "Epoch 9/400\n",
      "100/100 [==============================] - 1s 9ms/step - loss: 0.6635 - accuracy: 0.9800\n",
      "Epoch 10/400\n",
      "100/100 [==============================] - 1s 9ms/step - loss: 0.7685 - accuracy: 0.9900\n",
      "Epoch 11/400\n",
      "100/100 [==============================] - 1s 9ms/step - loss: 7.2550 - accuracy: 0.9300\n",
      "Epoch 12/400\n",
      "100/100 [==============================] - 1s 9ms/step - loss: 11.0762 - accuracy: 0.9600\n",
      "Epoch 13/400\n",
      "100/100 [==============================] - 1s 9ms/step - loss: 4.7737 - accuracy: 0.9800\n",
      "Epoch 14/400\n",
      "100/100 [==============================] - 1s 9ms/step - loss: 1.8467 - accuracy: 0.9800\n",
      "Epoch 15/400\n",
      "100/100 [==============================] - 1s 9ms/step - loss: 0.3093 - accuracy: 0.9900\n",
      "Epoch 16/400\n",
      "100/100 [==============================] - 1s 9ms/step - loss: 0.0000e+00 - accuracy: 1.0000\n",
      "(784, 580)\n",
      "Epoch 1/400\n",
      " 12/100 [==>...........................] - ETA: 0s - loss: 224.2147 - accuracy: 0.1667   "
     ]
    },
    {
     "name": "stderr",
     "output_type": "stream",
     "text": [
      "2023-04-21 12:50:57.626897: I tensorflow/core/grappler/optimizers/custom_graph_optimizer_registry.cc:113] Plugin optimizer for device_type GPU is enabled.\n"
     ]
    },
    {
     "name": "stdout",
     "output_type": "stream",
     "text": [
      "100/100 [==============================] - 1s 9ms/step - loss: 113.2073 - accuracy: 0.4600\n",
      "Epoch 2/400\n",
      "100/100 [==============================] - 1s 9ms/step - loss: 19.9195 - accuracy: 0.8400\n",
      "Epoch 3/400\n",
      "100/100 [==============================] - 1s 9ms/step - loss: 11.3335 - accuracy: 0.8900\n",
      "Epoch 4/400\n",
      "100/100 [==============================] - 1s 9ms/step - loss: 3.3740 - accuracy: 0.9600\n",
      "Epoch 5/400\n",
      "100/100 [==============================] - 1s 9ms/step - loss: 14.3806 - accuracy: 0.9300\n",
      "Epoch 6/400\n",
      "100/100 [==============================] - 1s 9ms/step - loss: 5.3546 - accuracy: 0.9200\n",
      "Epoch 7/400\n",
      "100/100 [==============================] - 1s 9ms/step - loss: 9.3899 - accuracy: 0.8800\n",
      "Epoch 8/400\n",
      "100/100 [==============================] - 1s 9ms/step - loss: 8.3445 - accuracy: 0.9300\n",
      "Epoch 9/400\n",
      "100/100 [==============================] - 1s 9ms/step - loss: 0.0000e+00 - accuracy: 1.0000\n",
      "(784, 590)\n",
      "Epoch 1/400\n",
      "  9/100 [=>............................] - ETA: 1s - loss: 107.3290 - accuracy: 0.1111  "
     ]
    },
    {
     "name": "stderr",
     "output_type": "stream",
     "text": [
      "2023-04-21 12:51:05.692220: I tensorflow/core/grappler/optimizers/custom_graph_optimizer_registry.cc:113] Plugin optimizer for device_type GPU is enabled.\n"
     ]
    },
    {
     "name": "stdout",
     "output_type": "stream",
     "text": [
      "100/100 [==============================] - 1s 9ms/step - loss: 117.3847 - accuracy: 0.4200\n",
      "Epoch 2/400\n",
      "100/100 [==============================] - 1s 9ms/step - loss: 22.6694 - accuracy: 0.8300\n",
      "Epoch 3/400\n",
      "100/100 [==============================] - 1s 9ms/step - loss: 4.3449 - accuracy: 0.9500\n",
      "Epoch 4/400\n",
      "100/100 [==============================] - 1s 9ms/step - loss: 10.0977 - accuracy: 0.9300\n",
      "Epoch 5/400\n",
      "100/100 [==============================] - 1s 9ms/step - loss: 14.1168 - accuracy: 0.9300\n",
      "Epoch 6/400\n",
      "100/100 [==============================] - 1s 9ms/step - loss: 6.4197 - accuracy: 0.9300\n",
      "Epoch 7/400\n",
      "100/100 [==============================] - 1s 9ms/step - loss: 2.0831 - accuracy: 0.9700\n",
      "Epoch 8/400\n",
      "100/100 [==============================] - 1s 9ms/step - loss: 13.6961 - accuracy: 0.9400\n",
      "Epoch 9/400\n",
      "100/100 [==============================] - 1s 9ms/step - loss: 3.7282e-06 - accuracy: 1.0000\n",
      "(784, 600)\n",
      "Epoch 1/400\n",
      " 13/100 [==>...........................] - ETA: 0s - loss: 133.6820 - accuracy: 0.1538    "
     ]
    },
    {
     "name": "stderr",
     "output_type": "stream",
     "text": [
      "2023-04-21 12:51:13.820149: I tensorflow/core/grappler/optimizers/custom_graph_optimizer_registry.cc:113] Plugin optimizer for device_type GPU is enabled.\n"
     ]
    },
    {
     "name": "stdout",
     "output_type": "stream",
     "text": [
      "100/100 [==============================] - 1s 9ms/step - loss: 98.7080 - accuracy: 0.4900\n",
      "Epoch 2/400\n",
      "100/100 [==============================] - 1s 9ms/step - loss: 20.6236 - accuracy: 0.8500\n",
      "Epoch 3/400\n",
      "100/100 [==============================] - 1s 9ms/step - loss: 8.1863 - accuracy: 0.9100\n",
      "Epoch 4/400\n",
      "100/100 [==============================] - 1s 9ms/step - loss: 0.4598 - accuracy: 0.9900\n",
      "Epoch 5/400\n",
      "100/100 [==============================] - 1s 9ms/step - loss: 0.8247 - accuracy: 0.9900\n",
      "Epoch 6/400\n",
      "100/100 [==============================] - 1s 9ms/step - loss: 0.0000e+00 - accuracy: 1.0000\n",
      "(784, 610)\n",
      "Epoch 1/400\n",
      " 12/100 [==>...........................] - ETA: 0s - loss: 190.8956 - accuracy: 0.0833  "
     ]
    },
    {
     "name": "stderr",
     "output_type": "stream",
     "text": [
      "2023-04-21 12:51:19.309788: I tensorflow/core/grappler/optimizers/custom_graph_optimizer_registry.cc:113] Plugin optimizer for device_type GPU is enabled.\n"
     ]
    },
    {
     "name": "stdout",
     "output_type": "stream",
     "text": [
      "100/100 [==============================] - 1s 9ms/step - loss: 130.4689 - accuracy: 0.4000\n",
      "Epoch 2/400\n",
      "100/100 [==============================] - 1s 9ms/step - loss: 14.2526 - accuracy: 0.8700\n",
      "Epoch 3/400\n",
      "100/100 [==============================] - 1s 9ms/step - loss: 10.4591 - accuracy: 0.8800\n",
      "Epoch 4/400\n",
      "100/100 [==============================] - 1s 9ms/step - loss: 4.9805 - accuracy: 0.9500\n",
      "Epoch 5/400\n",
      "100/100 [==============================] - 1s 9ms/step - loss: 16.2882 - accuracy: 0.8600\n",
      "Epoch 6/400\n",
      "100/100 [==============================] - 1s 9ms/step - loss: 12.1320 - accuracy: 0.9400\n",
      "Epoch 7/400\n",
      "100/100 [==============================] - 1s 9ms/step - loss: 7.3251e-05 - accuracy: 1.0000\n",
      "(784, 620)\n",
      "Epoch 1/400\n",
      " 12/100 [==>...........................] - ETA: 0s - loss: 135.7932 - accuracy: 0.0833    "
     ]
    },
    {
     "name": "stderr",
     "output_type": "stream",
     "text": [
      "2023-04-21 12:51:25.746976: I tensorflow/core/grappler/optimizers/custom_graph_optimizer_registry.cc:113] Plugin optimizer for device_type GPU is enabled.\n"
     ]
    },
    {
     "name": "stdout",
     "output_type": "stream",
     "text": [
      "100/100 [==============================] - 1s 9ms/step - loss: 81.6910 - accuracy: 0.5200\n",
      "Epoch 2/400\n",
      "100/100 [==============================] - 1s 9ms/step - loss: 42.7221 - accuracy: 0.8100\n",
      "Epoch 3/400\n",
      "100/100 [==============================] - 1s 9ms/step - loss: 4.9258 - accuracy: 0.9400\n",
      "Epoch 4/400\n",
      "100/100 [==============================] - 1s 9ms/step - loss: 5.3529 - accuracy: 0.9400\n",
      "Epoch 5/400\n",
      "100/100 [==============================] - 1s 9ms/step - loss: 2.4578 - accuracy: 0.9800\n",
      "Epoch 6/400\n",
      "100/100 [==============================] - 1s 9ms/step - loss: 3.1559 - accuracy: 0.9900\n",
      "Epoch 7/400\n",
      "100/100 [==============================] - 1s 9ms/step - loss: 0.0000e+00 - accuracy: 1.0000\n",
      "(784, 630)\n",
      "Epoch 1/400\n",
      "  6/100 [>.............................] - ETA: 0s - loss: 160.3971 - accuracy: 0.0000e+00"
     ]
    },
    {
     "name": "stderr",
     "output_type": "stream",
     "text": [
      "2023-04-21 12:51:32.134475: I tensorflow/core/grappler/optimizers/custom_graph_optimizer_registry.cc:113] Plugin optimizer for device_type GPU is enabled.\n"
     ]
    },
    {
     "name": "stdout",
     "output_type": "stream",
     "text": [
      "100/100 [==============================] - 1s 9ms/step - loss: 112.3693 - accuracy: 0.4200\n",
      "Epoch 2/400\n",
      "100/100 [==============================] - 1s 9ms/step - loss: 19.4069 - accuracy: 0.8500\n",
      "Epoch 3/400\n",
      "100/100 [==============================] - 1s 9ms/step - loss: 6.9072 - accuracy: 0.9300\n",
      "Epoch 4/400\n",
      "100/100 [==============================] - 1s 9ms/step - loss: 7.1117 - accuracy: 0.9000\n",
      "Epoch 5/400\n",
      "100/100 [==============================] - 1s 9ms/step - loss: 9.4105 - accuracy: 0.9200\n",
      "Epoch 6/400\n",
      "100/100 [==============================] - 1s 9ms/step - loss: 1.7269 - accuracy: 0.9400\n",
      "Epoch 7/400\n",
      "100/100 [==============================] - 1s 9ms/step - loss: 3.1022 - accuracy: 0.9600\n",
      "Epoch 8/400\n",
      "100/100 [==============================] - 1s 9ms/step - loss: 0.0000e+00 - accuracy: 1.0000\n",
      "(784, 640)\n",
      "Epoch 1/400\n",
      " 12/100 [==>...........................] - ETA: 0s - loss: 119.6074 - accuracy: 0.3333   "
     ]
    },
    {
     "name": "stderr",
     "output_type": "stream",
     "text": [
      "2023-04-21 12:51:39.471625: I tensorflow/core/grappler/optimizers/custom_graph_optimizer_registry.cc:113] Plugin optimizer for device_type GPU is enabled.\n"
     ]
    },
    {
     "name": "stdout",
     "output_type": "stream",
     "text": [
      "100/100 [==============================] - 1s 9ms/step - loss: 97.5828 - accuracy: 0.4300\n",
      "Epoch 2/400\n",
      "100/100 [==============================] - 1s 9ms/step - loss: 19.1707 - accuracy: 0.8700\n",
      "Epoch 3/400\n",
      "100/100 [==============================] - 1s 9ms/step - loss: 8.9335 - accuracy: 0.9000\n",
      "Epoch 4/400\n",
      "100/100 [==============================] - 1s 9ms/step - loss: 11.5441 - accuracy: 0.9200\n",
      "Epoch 5/400\n",
      "100/100 [==============================] - 1s 9ms/step - loss: 11.8945 - accuracy: 0.8600\n",
      "Epoch 6/400\n",
      "100/100 [==============================] - 1s 9ms/step - loss: 3.9494 - accuracy: 0.9300\n",
      "Epoch 7/400\n",
      "100/100 [==============================] - 1s 9ms/step - loss: 7.2985 - accuracy: 0.9600\n",
      "Epoch 8/400\n",
      "100/100 [==============================] - 1s 9ms/step - loss: 18.6881 - accuracy: 0.8800\n",
      "Epoch 9/400\n",
      "100/100 [==============================] - 1s 9ms/step - loss: 2.4118 - accuracy: 0.9800\n",
      "Epoch 10/400\n",
      "100/100 [==============================] - 1s 9ms/step - loss: 8.6031 - accuracy: 0.9600\n",
      "Epoch 11/400\n",
      "100/100 [==============================] - 1s 9ms/step - loss: 0.9232 - accuracy: 0.9900\n",
      "Epoch 12/400\n",
      "100/100 [==============================] - 1s 9ms/step - loss: 0.0000e+00 - accuracy: 1.0000\n",
      "(784, 650)\n",
      "Epoch 1/400\n",
      " 12/100 [==>...........................] - ETA: 0s - loss: 93.3074 - accuracy: 0.3333    "
     ]
    },
    {
     "name": "stderr",
     "output_type": "stream",
     "text": [
      "2023-04-21 12:51:50.367097: I tensorflow/core/grappler/optimizers/custom_graph_optimizer_registry.cc:113] Plugin optimizer for device_type GPU is enabled.\n"
     ]
    },
    {
     "name": "stdout",
     "output_type": "stream",
     "text": [
      "100/100 [==============================] - 1s 9ms/step - loss: 115.0872 - accuracy: 0.4600\n",
      "Epoch 2/400\n",
      "100/100 [==============================] - 1s 9ms/step - loss: 19.9701 - accuracy: 0.8300\n",
      "Epoch 3/400\n",
      "100/100 [==============================] - 1s 9ms/step - loss: 15.9856 - accuracy: 0.8800\n",
      "Epoch 4/400\n",
      "100/100 [==============================] - 1s 9ms/step - loss: 2.7873 - accuracy: 0.9400\n",
      "Epoch 5/400\n",
      "100/100 [==============================] - 1s 9ms/step - loss: 6.7257 - accuracy: 0.9600\n",
      "Epoch 6/400\n",
      "100/100 [==============================] - 1s 9ms/step - loss: 2.2739 - accuracy: 0.9400\n",
      "Epoch 7/400\n",
      "100/100 [==============================] - 1s 9ms/step - loss: 4.1982 - accuracy: 0.9400\n",
      "Epoch 8/400\n",
      "100/100 [==============================] - 1s 9ms/step - loss: 2.0234 - accuracy: 0.9800\n",
      "Epoch 9/400\n",
      "100/100 [==============================] - 1s 9ms/step - loss: 2.7784 - accuracy: 0.9900\n",
      "Epoch 10/400\n",
      "100/100 [==============================] - 1s 9ms/step - loss: 0.0000e+00 - accuracy: 1.0000\n",
      "(784, 660)\n",
      "Epoch 1/400\n",
      " 12/100 [==>...........................] - ETA: 0s - loss: 178.3895 - accuracy: 0.1667  "
     ]
    },
    {
     "name": "stderr",
     "output_type": "stream",
     "text": [
      "2023-04-21 12:51:59.489974: I tensorflow/core/grappler/optimizers/custom_graph_optimizer_registry.cc:113] Plugin optimizer for device_type GPU is enabled.\n"
     ]
    },
    {
     "name": "stdout",
     "output_type": "stream",
     "text": [
      "100/100 [==============================] - 1s 9ms/step - loss: 112.1484 - accuracy: 0.4900\n",
      "Epoch 2/400\n",
      "100/100 [==============================] - 1s 9ms/step - loss: 13.2211 - accuracy: 0.8600\n",
      "Epoch 3/400\n",
      "100/100 [==============================] - 1s 9ms/step - loss: 13.2190 - accuracy: 0.9100\n",
      "Epoch 4/400\n",
      "100/100 [==============================] - 1s 9ms/step - loss: 7.1690 - accuracy: 0.9300\n",
      "Epoch 5/400\n",
      "100/100 [==============================] - 1s 9ms/step - loss: 21.9108 - accuracy: 0.9300\n",
      "Epoch 6/400\n",
      "100/100 [==============================] - 1s 9ms/step - loss: 1.3017 - accuracy: 0.9600\n",
      "Epoch 7/400\n",
      "100/100 [==============================] - 1s 9ms/step - loss: 0.0000e+00 - accuracy: 1.0000\n",
      "(784, 670)\n",
      "Epoch 1/400\n",
      " 12/100 [==>...........................] - ETA: 0s - loss: 154.2953 - accuracy: 0.0833    "
     ]
    },
    {
     "name": "stderr",
     "output_type": "stream",
     "text": [
      "2023-04-21 12:52:05.911743: I tensorflow/core/grappler/optimizers/custom_graph_optimizer_registry.cc:113] Plugin optimizer for device_type GPU is enabled.\n"
     ]
    },
    {
     "name": "stdout",
     "output_type": "stream",
     "text": [
      "100/100 [==============================] - 1s 9ms/step - loss: 110.7821 - accuracy: 0.4500\n",
      "Epoch 2/400\n",
      "100/100 [==============================] - 1s 9ms/step - loss: 22.6146 - accuracy: 0.8100\n",
      "Epoch 3/400\n",
      "100/100 [==============================] - 1s 9ms/step - loss: 7.7875 - accuracy: 0.9300\n",
      "Epoch 4/400\n",
      "100/100 [==============================] - 1s 9ms/step - loss: 9.2734 - accuracy: 0.9400\n",
      "Epoch 5/400\n",
      "100/100 [==============================] - 1s 9ms/step - loss: 5.8580 - accuracy: 0.9500\n",
      "Epoch 6/400\n",
      "100/100 [==============================] - 1s 9ms/step - loss: 2.5162 - accuracy: 0.9500\n",
      "Epoch 7/400\n",
      "100/100 [==============================] - 1s 9ms/step - loss: 1.9437 - accuracy: 0.9800\n",
      "Epoch 8/400\n",
      "100/100 [==============================] - 1s 9ms/step - loss: 1.3129 - accuracy: 0.9600\n",
      "Epoch 9/400\n",
      "100/100 [==============================] - 1s 9ms/step - loss: 5.9484 - accuracy: 0.9500\n",
      "Epoch 10/400\n",
      "100/100 [==============================] - 1s 9ms/step - loss: 16.5262 - accuracy: 0.9400\n",
      "Epoch 11/400\n",
      "100/100 [==============================] - 1s 9ms/step - loss: 9.7590 - accuracy: 0.9400\n",
      "Epoch 12/400\n",
      "100/100 [==============================] - 1s 9ms/step - loss: 14.7026 - accuracy: 0.9700\n",
      "Epoch 13/400\n",
      "100/100 [==============================] - 1s 9ms/step - loss: 1.1035 - accuracy: 0.9800\n",
      "Epoch 14/400\n",
      "100/100 [==============================] - 1s 9ms/step - loss: 0.0000e+00 - accuracy: 1.0000\n",
      "(784, 680)\n",
      "Epoch 1/400\n",
      " 12/100 [==>...........................] - ETA: 0s - loss: 183.0949 - accuracy: 0.1667  "
     ]
    },
    {
     "name": "stderr",
     "output_type": "stream",
     "text": [
      "2023-04-21 12:52:18.647345: I tensorflow/core/grappler/optimizers/custom_graph_optimizer_registry.cc:113] Plugin optimizer for device_type GPU is enabled.\n"
     ]
    },
    {
     "name": "stdout",
     "output_type": "stream",
     "text": [
      "100/100 [==============================] - 1s 9ms/step - loss: 126.7668 - accuracy: 0.4300\n",
      "Epoch 2/400\n",
      "100/100 [==============================] - 1s 9ms/step - loss: 24.4743 - accuracy: 0.8300\n",
      "Epoch 3/400\n",
      "100/100 [==============================] - 1s 9ms/step - loss: 9.0550 - accuracy: 0.9100\n",
      "Epoch 4/400\n",
      "100/100 [==============================] - 1s 9ms/step - loss: 7.1321 - accuracy: 0.9300\n",
      "Epoch 5/400\n",
      "100/100 [==============================] - 1s 11ms/step - loss: 1.9744 - accuracy: 0.9600\n",
      "Epoch 6/400\n",
      "100/100 [==============================] - 1s 9ms/step - loss: 5.1347 - accuracy: 0.9700\n",
      "Epoch 7/400\n",
      "100/100 [==============================] - 1s 8ms/step - loss: 1.8835e-07 - accuracy: 1.0000\n",
      "(784, 690)\n",
      "Epoch 1/400\n",
      " 12/100 [==>...........................] - ETA: 0s - loss: 158.1868 - accuracy: 0.1667  "
     ]
    },
    {
     "name": "stderr",
     "output_type": "stream",
     "text": [
      "2023-04-21 12:52:25.315751: I tensorflow/core/grappler/optimizers/custom_graph_optimizer_registry.cc:113] Plugin optimizer for device_type GPU is enabled.\n"
     ]
    },
    {
     "name": "stdout",
     "output_type": "stream",
     "text": [
      "100/100 [==============================] - 1s 9ms/step - loss: 97.9240 - accuracy: 0.4800\n",
      "Epoch 2/400\n",
      "100/100 [==============================] - 1s 8ms/step - loss: 25.7410 - accuracy: 0.8300\n",
      "Epoch 3/400\n",
      "100/100 [==============================] - 1s 8ms/step - loss: 27.0991 - accuracy: 0.8500\n",
      "Epoch 4/400\n",
      "100/100 [==============================] - 1s 9ms/step - loss: 4.4630 - accuracy: 0.9500\n",
      "Epoch 5/400\n",
      "100/100 [==============================] - 1s 8ms/step - loss: 4.2800 - accuracy: 0.9500\n",
      "Epoch 6/400\n",
      "100/100 [==============================] - 1s 8ms/step - loss: 0.5484 - accuracy: 0.9700\n",
      "Epoch 7/400\n",
      "100/100 [==============================] - 1s 9ms/step - loss: 0.0000e+00 - accuracy: 1.0000\n",
      "(784, 700)\n",
      "Epoch 1/400\n",
      "  7/100 [=>............................] - ETA: 0s - loss: 222.6620 - accuracy: 0.1429     "
     ]
    },
    {
     "name": "stderr",
     "output_type": "stream",
     "text": [
      "2023-04-21 12:52:31.571343: I tensorflow/core/grappler/optimizers/custom_graph_optimizer_registry.cc:113] Plugin optimizer for device_type GPU is enabled.\n"
     ]
    },
    {
     "name": "stdout",
     "output_type": "stream",
     "text": [
      "100/100 [==============================] - 1s 8ms/step - loss: 96.9702 - accuracy: 0.5000\n",
      "Epoch 2/400\n",
      "100/100 [==============================] - 1s 8ms/step - loss: 21.9485 - accuracy: 0.8300\n",
      "Epoch 3/400\n",
      "100/100 [==============================] - 1s 8ms/step - loss: 11.8445 - accuracy: 0.9100\n",
      "Epoch 4/400\n",
      "100/100 [==============================] - 1s 9ms/step - loss: 10.0490 - accuracy: 0.9000\n",
      "Epoch 5/400\n",
      "100/100 [==============================] - 1s 8ms/step - loss: 11.5435 - accuracy: 0.8900\n",
      "Epoch 6/400\n",
      "100/100 [==============================] - 1s 8ms/step - loss: 12.4708 - accuracy: 0.9400\n",
      "Epoch 7/400\n",
      "100/100 [==============================] - 1s 8ms/step - loss: 2.8088 - accuracy: 0.9800\n",
      "Epoch 8/400\n",
      "100/100 [==============================] - 1s 8ms/step - loss: 1.6993 - accuracy: 0.9800\n",
      "Epoch 9/400\n",
      "100/100 [==============================] - 1s 9ms/step - loss: 6.4873 - accuracy: 0.9500\n",
      "Epoch 10/400\n",
      "100/100 [==============================] - 1s 8ms/step - loss: 8.2834 - accuracy: 0.9600\n",
      "Epoch 11/400\n",
      "100/100 [==============================] - 1s 8ms/step - loss: 10.6436 - accuracy: 0.9600\n",
      "Epoch 12/400\n",
      "100/100 [==============================] - 1s 9ms/step - loss: 0.0000e+00 - accuracy: 1.0000\n",
      "(784, 710)\n",
      "Epoch 1/400\n",
      " 13/100 [==>...........................] - ETA: 0s - loss: 285.1492 - accuracy: 0.1538    "
     ]
    },
    {
     "name": "stderr",
     "output_type": "stream",
     "text": [
      "2023-04-21 12:52:42.045799: I tensorflow/core/grappler/optimizers/custom_graph_optimizer_registry.cc:113] Plugin optimizer for device_type GPU is enabled.\n"
     ]
    },
    {
     "name": "stdout",
     "output_type": "stream",
     "text": [
      "100/100 [==============================] - 1s 8ms/step - loss: 126.8335 - accuracy: 0.4700\n",
      "Epoch 2/400\n",
      "100/100 [==============================] - 1s 9ms/step - loss: 21.9010 - accuracy: 0.8000\n",
      "Epoch 3/400\n",
      "100/100 [==============================] - 1s 8ms/step - loss: 10.1625 - accuracy: 0.9100\n",
      "Epoch 4/400\n",
      "100/100 [==============================] - 1s 9ms/step - loss: 2.4387 - accuracy: 0.9600\n",
      "Epoch 5/400\n",
      "100/100 [==============================] - 1s 8ms/step - loss: 10.5545 - accuracy: 0.9200\n",
      "Epoch 6/400\n",
      "100/100 [==============================] - 1s 9ms/step - loss: 6.5350 - accuracy: 0.9800\n",
      "Epoch 7/400\n",
      "100/100 [==============================] - 1s 9ms/step - loss: 4.6397 - accuracy: 0.9600\n",
      "Epoch 8/400\n",
      "100/100 [==============================] - 1s 9ms/step - loss: 5.6147 - accuracy: 0.9500\n",
      "Epoch 9/400\n",
      "100/100 [==============================] - 1s 8ms/step - loss: 0.5950 - accuracy: 0.9700\n",
      "Epoch 10/400\n",
      "100/100 [==============================] - 1s 8ms/step - loss: 9.6459 - accuracy: 0.9600\n",
      "Epoch 11/400\n",
      "100/100 [==============================] - 1s 8ms/step - loss: 7.5242 - accuracy: 0.9600\n",
      "Epoch 12/400\n",
      "100/100 [==============================] - 1s 9ms/step - loss: 8.6576 - accuracy: 0.9500\n",
      "Epoch 13/400\n",
      "100/100 [==============================] - 1s 9ms/step - loss: 13.1763 - accuracy: 0.9200\n",
      "Epoch 14/400\n",
      "100/100 [==============================] - 1s 8ms/step - loss: 4.3773 - accuracy: 0.9600\n",
      "Epoch 15/400\n",
      "100/100 [==============================] - 1s 8ms/step - loss: 2.8348 - accuracy: 0.9800\n",
      "Epoch 16/400\n",
      "100/100 [==============================] - 1s 9ms/step - loss: 1.3858 - accuracy: 0.9800\n",
      "Epoch 17/400\n",
      "100/100 [==============================] - 1s 9ms/step - loss: 0.1614 - accuracy: 0.9900\n",
      "Epoch 18/400\n",
      "100/100 [==============================] - 1s 8ms/step - loss: 2.7795 - accuracy: 0.9800\n",
      "Epoch 19/400\n",
      "100/100 [==============================] - 1s 8ms/step - loss: 0.7958 - accuracy: 0.9900\n",
      "Epoch 20/400\n",
      "100/100 [==============================] - 1s 8ms/step - loss: 4.5418 - accuracy: 0.9800\n",
      "Epoch 21/400\n",
      "100/100 [==============================] - 1s 9ms/step - loss: 12.2679 - accuracy: 0.9600\n",
      "Epoch 22/400\n",
      "100/100 [==============================] - 1s 8ms/step - loss: 5.4542 - accuracy: 0.9800\n",
      "Epoch 23/400\n",
      "100/100 [==============================] - 1s 8ms/step - loss: 0.2761 - accuracy: 0.9900\n",
      "Epoch 24/400\n",
      "100/100 [==============================] - 1s 9ms/step - loss: 0.0000e+00 - accuracy: 1.0000\n",
      "(784, 720)\n",
      "Epoch 1/400\n",
      " 13/100 [==>...........................] - ETA: 0s - loss: 120.8620 - accuracy: 0.3846    "
     ]
    },
    {
     "name": "stderr",
     "output_type": "stream",
     "text": [
      "2023-04-21 12:53:02.850351: I tensorflow/core/grappler/optimizers/custom_graph_optimizer_registry.cc:113] Plugin optimizer for device_type GPU is enabled.\n"
     ]
    },
    {
     "name": "stdout",
     "output_type": "stream",
     "text": [
      "100/100 [==============================] - 1s 9ms/step - loss: 101.0244 - accuracy: 0.5000\n",
      "Epoch 2/400\n",
      "100/100 [==============================] - 1s 9ms/step - loss: 43.4941 - accuracy: 0.8200\n",
      "Epoch 3/400\n",
      "100/100 [==============================] - 1s 9ms/step - loss: 11.9532 - accuracy: 0.8900\n",
      "Epoch 4/400\n",
      "100/100 [==============================] - 1s 8ms/step - loss: 16.5253 - accuracy: 0.8800\n",
      "Epoch 5/400\n",
      "100/100 [==============================] - 1s 8ms/step - loss: 6.5657 - accuracy: 0.9600\n",
      "Epoch 6/400\n",
      "100/100 [==============================] - 1s 8ms/step - loss: 9.2937 - accuracy: 0.9400\n",
      "Epoch 7/400\n",
      "100/100 [==============================] - 1s 9ms/step - loss: 5.0819 - accuracy: 0.9600\n",
      "Epoch 8/400\n",
      "100/100 [==============================] - 1s 8ms/step - loss: 10.6878 - accuracy: 0.9700\n",
      "Epoch 9/400\n",
      "100/100 [==============================] - 1s 8ms/step - loss: 0.0000e+00 - accuracy: 1.0000\n",
      "(784, 730)\n",
      "Epoch 1/400\n",
      " 12/100 [==>...........................] - ETA: 0s - loss: 250.2814 - accuracy: 0.1667  "
     ]
    },
    {
     "name": "stderr",
     "output_type": "stream",
     "text": [
      "2023-04-21 12:53:10.791147: I tensorflow/core/grappler/optimizers/custom_graph_optimizer_registry.cc:113] Plugin optimizer for device_type GPU is enabled.\n"
     ]
    },
    {
     "name": "stdout",
     "output_type": "stream",
     "text": [
      "100/100 [==============================] - 1s 9ms/step - loss: 106.6889 - accuracy: 0.4400\n",
      "Epoch 2/400\n",
      "100/100 [==============================] - 1s 9ms/step - loss: 24.5338 - accuracy: 0.8400\n",
      "Epoch 3/400\n",
      "100/100 [==============================] - 1s 9ms/step - loss: 19.4786 - accuracy: 0.8900\n",
      "Epoch 4/400\n",
      "100/100 [==============================] - 1s 8ms/step - loss: 8.2594 - accuracy: 0.9100\n",
      "Epoch 5/400\n",
      "100/100 [==============================] - 1s 9ms/step - loss: 3.6379 - accuracy: 0.9700\n",
      "Epoch 6/400\n",
      "100/100 [==============================] - 1s 9ms/step - loss: 1.0382 - accuracy: 0.9900\n",
      "Epoch 7/400\n",
      "100/100 [==============================] - 1s 9ms/step - loss: 0.0000e+00 - accuracy: 1.0000\n",
      "(784, 740)\n",
      "Epoch 1/400\n",
      "  6/100 [>.............................] - ETA: 1s - loss: 199.4835 - accuracy: 0.1667     "
     ]
    },
    {
     "name": "stderr",
     "output_type": "stream",
     "text": [
      "2023-04-21 12:53:17.115129: I tensorflow/core/grappler/optimizers/custom_graph_optimizer_registry.cc:113] Plugin optimizer for device_type GPU is enabled.\n"
     ]
    },
    {
     "name": "stdout",
     "output_type": "stream",
     "text": [
      "100/100 [==============================] - 1s 9ms/step - loss: 108.8945 - accuracy: 0.4700\n",
      "Epoch 2/400\n",
      "100/100 [==============================] - 1s 9ms/step - loss: 18.1454 - accuracy: 0.8200\n",
      "Epoch 3/400\n",
      "100/100 [==============================] - 1s 9ms/step - loss: 22.4331 - accuracy: 0.8500\n",
      "Epoch 4/400\n",
      "100/100 [==============================] - 1s 9ms/step - loss: 3.0893 - accuracy: 0.9700\n",
      "Epoch 5/400\n",
      "100/100 [==============================] - 1s 9ms/step - loss: 0.0819 - accuracy: 0.9900\n",
      "Epoch 6/400\n",
      "100/100 [==============================] - 1s 9ms/step - loss: 0.5269 - accuracy: 0.9900\n",
      "Epoch 7/400\n",
      "100/100 [==============================] - 1s 9ms/step - loss: 0.2794 - accuracy: 0.9900\n",
      "Epoch 8/400\n",
      "100/100 [==============================] - 1s 9ms/step - loss: 5.0486 - accuracy: 0.9400\n",
      "Epoch 9/400\n",
      "100/100 [==============================] - 1s 9ms/step - loss: 20.1153 - accuracy: 0.8600\n",
      "Epoch 10/400\n",
      "100/100 [==============================] - 1s 9ms/step - loss: 5.0602 - accuracy: 0.9600\n",
      "Epoch 11/400\n",
      "100/100 [==============================] - 1s 9ms/step - loss: 23.4760 - accuracy: 0.9100\n",
      "Epoch 12/400\n",
      "100/100 [==============================] - 1s 9ms/step - loss: 7.3159 - accuracy: 0.9700\n",
      "Epoch 13/400\n",
      "100/100 [==============================] - 1s 9ms/step - loss: 0.7919 - accuracy: 0.9800\n",
      "Epoch 14/400\n",
      "100/100 [==============================] - 1s 9ms/step - loss: 0.6943 - accuracy: 0.9700\n",
      "Epoch 15/400\n",
      "100/100 [==============================] - 1s 9ms/step - loss: 5.1493 - accuracy: 0.9800\n",
      "Epoch 16/400\n",
      "100/100 [==============================] - 1s 9ms/step - loss: 0.0000e+00 - accuracy: 1.0000\n",
      "(784, 750)\n",
      "Epoch 1/400\n",
      " 11/100 [==>...........................] - ETA: 0s - loss: 144.9303 - accuracy: 0.4545   "
     ]
    },
    {
     "name": "stderr",
     "output_type": "stream",
     "text": [
      "2023-04-21 12:53:31.528258: I tensorflow/core/grappler/optimizers/custom_graph_optimizer_registry.cc:113] Plugin optimizer for device_type GPU is enabled.\n"
     ]
    },
    {
     "name": "stdout",
     "output_type": "stream",
     "text": [
      "100/100 [==============================] - 1s 9ms/step - loss: 141.3401 - accuracy: 0.4400\n",
      "Epoch 2/400\n",
      "100/100 [==============================] - 1s 9ms/step - loss: 30.6036 - accuracy: 0.8400\n",
      "Epoch 3/400\n",
      "100/100 [==============================] - 1s 9ms/step - loss: 1.9024 - accuracy: 0.9700\n",
      "Epoch 4/400\n",
      "100/100 [==============================] - 1s 9ms/step - loss: 15.9279 - accuracy: 0.8900\n",
      "Epoch 5/400\n",
      "100/100 [==============================] - 1s 9ms/step - loss: 11.7974 - accuracy: 0.9300\n",
      "Epoch 6/400\n",
      "100/100 [==============================] - 1s 8ms/step - loss: 0.0000e+00 - accuracy: 1.0000\n",
      "(784, 760)\n",
      "Epoch 1/400\n",
      "  6/100 [>.............................] - ETA: 1s - loss: 188.8160 - accuracy: 0.0000e+00 "
     ]
    },
    {
     "name": "stderr",
     "output_type": "stream",
     "text": [
      "2023-04-21 12:53:37.628618: I tensorflow/core/grappler/optimizers/custom_graph_optimizer_registry.cc:113] Plugin optimizer for device_type GPU is enabled.\n"
     ]
    },
    {
     "name": "stdout",
     "output_type": "stream",
     "text": [
      "100/100 [==============================] - 1s 10ms/step - loss: 119.9901 - accuracy: 0.5000\n",
      "Epoch 2/400\n",
      "100/100 [==============================] - 1s 10ms/step - loss: 24.3927 - accuracy: 0.7900\n",
      "Epoch 3/400\n",
      "100/100 [==============================] - 1s 9ms/step - loss: 11.4320 - accuracy: 0.9200\n",
      "Epoch 4/400\n",
      "100/100 [==============================] - 1s 9ms/step - loss: 3.4739 - accuracy: 0.9500\n",
      "Epoch 5/400\n",
      "100/100 [==============================] - 1s 9ms/step - loss: 5.7192 - accuracy: 0.9300\n",
      "Epoch 6/400\n",
      "100/100 [==============================] - 1s 10ms/step - loss: 14.7587 - accuracy: 0.8900\n",
      "Epoch 7/400\n",
      "100/100 [==============================] - 1s 9ms/step - loss: 19.0879 - accuracy: 0.8700\n",
      "Epoch 8/400\n",
      "100/100 [==============================] - 1s 9ms/step - loss: 3.6590 - accuracy: 0.9500\n",
      "Epoch 9/400\n",
      "100/100 [==============================] - 1s 10ms/step - loss: 4.3414 - accuracy: 0.9600\n",
      "Epoch 10/400\n",
      "100/100 [==============================] - 1s 9ms/step - loss: 2.0761 - accuracy: 0.9800\n",
      "Epoch 11/400\n",
      "100/100 [==============================] - 1s 10ms/step - loss: 1.4800 - accuracy: 0.9900\n",
      "Epoch 12/400\n",
      "100/100 [==============================] - 1s 9ms/step - loss: 0.0000e+00 - accuracy: 1.0000\n",
      "(784, 770)\n",
      "Epoch 1/400\n",
      " 12/100 [==>...........................] - ETA: 0s - loss: 152.9107 - accuracy: 0.2500   "
     ]
    },
    {
     "name": "stderr",
     "output_type": "stream",
     "text": [
      "2023-04-21 12:53:49.332408: I tensorflow/core/grappler/optimizers/custom_graph_optimizer_registry.cc:113] Plugin optimizer for device_type GPU is enabled.\n"
     ]
    },
    {
     "name": "stdout",
     "output_type": "stream",
     "text": [
      "100/100 [==============================] - 1s 9ms/step - loss: 111.7950 - accuracy: 0.4900\n",
      "Epoch 2/400\n",
      "100/100 [==============================] - 1s 9ms/step - loss: 26.5555 - accuracy: 0.8400\n",
      "Epoch 3/400\n",
      "100/100 [==============================] - 1s 9ms/step - loss: 13.3279 - accuracy: 0.8800\n",
      "Epoch 4/400\n",
      "100/100 [==============================] - 1s 9ms/step - loss: 8.8296 - accuracy: 0.9400\n",
      "Epoch 5/400\n",
      "100/100 [==============================] - 1s 9ms/step - loss: 12.5574 - accuracy: 0.8900\n",
      "Epoch 6/400\n",
      "100/100 [==============================] - 1s 9ms/step - loss: 2.5529 - accuracy: 0.9800\n",
      "Epoch 7/400\n",
      "100/100 [==============================] - 1s 9ms/step - loss: 7.7958 - accuracy: 0.9500\n",
      "Epoch 8/400\n",
      "100/100 [==============================] - 1s 9ms/step - loss: 3.0438 - accuracy: 0.9600\n",
      "Epoch 9/400\n",
      "100/100 [==============================] - 1s 8ms/step - loss: 9.1546 - accuracy: 0.9300\n",
      "Epoch 10/400\n",
      "100/100 [==============================] - 1s 9ms/step - loss: 13.2932 - accuracy: 0.9600\n",
      "Epoch 11/400\n",
      "100/100 [==============================] - 1s 8ms/step - loss: 1.4111 - accuracy: 0.9800\n",
      "Epoch 12/400\n",
      "100/100 [==============================] - 1s 9ms/step - loss: 2.2498 - accuracy: 0.9800\n",
      "Epoch 13/400\n",
      "100/100 [==============================] - 1s 9ms/step - loss: 7.4384 - accuracy: 0.9700\n",
      "Epoch 14/400\n",
      "100/100 [==============================] - 1s 9ms/step - loss: 1.1069 - accuracy: 0.9900\n",
      "Epoch 15/400\n",
      "100/100 [==============================] - 1s 9ms/step - loss: 0.0000e+00 - accuracy: 1.0000\n",
      "(784, 780)\n",
      "Epoch 1/400\n",
      "  6/100 [>.............................] - ETA: 1s - loss: 173.4169 - accuracy: 0.1667     "
     ]
    },
    {
     "name": "stderr",
     "output_type": "stream",
     "text": [
      "2023-04-21 12:54:02.705420: I tensorflow/core/grappler/optimizers/custom_graph_optimizer_registry.cc:113] Plugin optimizer for device_type GPU is enabled.\n"
     ]
    },
    {
     "name": "stdout",
     "output_type": "stream",
     "text": [
      "100/100 [==============================] - 1s 9ms/step - loss: 109.1629 - accuracy: 0.5300\n",
      "Epoch 2/400\n",
      "100/100 [==============================] - 1s 9ms/step - loss: 50.0860 - accuracy: 0.7200\n",
      "Epoch 3/400\n",
      "100/100 [==============================] - 1s 9ms/step - loss: 10.8397 - accuracy: 0.9300\n",
      "Epoch 4/400\n",
      "100/100 [==============================] - 1s 9ms/step - loss: 0.7623 - accuracy: 0.9600\n",
      "Epoch 5/400\n",
      "100/100 [==============================] - 1s 8ms/step - loss: 5.5821 - accuracy: 0.9200\n",
      "Epoch 6/400\n",
      "100/100 [==============================] - 1s 9ms/step - loss: 10.3275 - accuracy: 0.9300\n",
      "Epoch 7/400\n",
      "100/100 [==============================] - 1s 9ms/step - loss: 0.0000e+00 - accuracy: 1.0000\n",
      "(784, 790)\n",
      "Epoch 1/400\n",
      " 12/100 [==>...........................] - ETA: 0s - loss: 122.6048 - accuracy: 0.3333  "
     ]
    },
    {
     "name": "stderr",
     "output_type": "stream",
     "text": [
      "2023-04-21 12:54:09.156733: I tensorflow/core/grappler/optimizers/custom_graph_optimizer_registry.cc:113] Plugin optimizer for device_type GPU is enabled.\n"
     ]
    },
    {
     "name": "stdout",
     "output_type": "stream",
     "text": [
      "100/100 [==============================] - 1s 9ms/step - loss: 110.7538 - accuracy: 0.4900\n",
      "Epoch 2/400\n",
      "100/100 [==============================] - 1s 9ms/step - loss: 30.6791 - accuracy: 0.8400\n",
      "Epoch 3/400\n",
      "100/100 [==============================] - 1s 9ms/step - loss: 9.9679 - accuracy: 0.9000\n",
      "Epoch 4/400\n",
      "100/100 [==============================] - 1s 9ms/step - loss: 6.6293 - accuracy: 0.9500\n",
      "Epoch 5/400\n",
      "100/100 [==============================] - 1s 9ms/step - loss: 3.7683 - accuracy: 0.9600\n",
      "Epoch 6/400\n",
      "100/100 [==============================] - 1s 9ms/step - loss: 5.9740 - accuracy: 0.9500\n",
      "Epoch 7/400\n",
      "100/100 [==============================] - 1s 9ms/step - loss: 5.3194 - accuracy: 0.9300\n",
      "Epoch 8/400\n",
      "100/100 [==============================] - 1s 9ms/step - loss: 10.6978 - accuracy: 0.9200\n",
      "Epoch 9/400\n",
      "100/100 [==============================] - 1s 9ms/step - loss: 2.7578 - accuracy: 0.9700\n",
      "Epoch 10/400\n",
      "100/100 [==============================] - 1s 9ms/step - loss: 0.0340 - accuracy: 0.9900\n",
      "(784, 800)\n",
      "Epoch 1/400\n",
      "  6/100 [>.............................] - ETA: 1s - loss: 131.8977 - accuracy: 0.3333     "
     ]
    },
    {
     "name": "stderr",
     "output_type": "stream",
     "text": [
      "2023-04-21 12:54:18.260780: I tensorflow/core/grappler/optimizers/custom_graph_optimizer_registry.cc:113] Plugin optimizer for device_type GPU is enabled.\n"
     ]
    },
    {
     "name": "stdout",
     "output_type": "stream",
     "text": [
      "100/100 [==============================] - 1s 9ms/step - loss: 105.5617 - accuracy: 0.5200\n",
      "Epoch 2/400\n",
      "100/100 [==============================] - 1s 9ms/step - loss: 40.2845 - accuracy: 0.8000\n",
      "Epoch 3/400\n",
      "100/100 [==============================] - 1s 9ms/step - loss: 20.1557 - accuracy: 0.9000\n",
      "Epoch 4/400\n",
      "100/100 [==============================] - 1s 9ms/step - loss: 8.5502 - accuracy: 0.9200\n",
      "Epoch 5/400\n",
      "100/100 [==============================] - 1s 9ms/step - loss: 11.1150 - accuracy: 0.9100\n",
      "Epoch 6/400\n",
      "100/100 [==============================] - 1s 9ms/step - loss: 1.7731 - accuracy: 0.9900\n",
      "Epoch 7/400\n",
      "100/100 [==============================] - 1s 9ms/step - loss: 0.0000e+00 - accuracy: 1.0000\n",
      "(784, 810)\n",
      "Epoch 1/400\n",
      "  6/100 [>.............................] - ETA: 1s - loss: 123.6371 - accuracy: 0.3333   "
     ]
    },
    {
     "name": "stderr",
     "output_type": "stream",
     "text": [
      "2023-04-21 12:54:24.794094: I tensorflow/core/grappler/optimizers/custom_graph_optimizer_registry.cc:113] Plugin optimizer for device_type GPU is enabled.\n"
     ]
    },
    {
     "name": "stdout",
     "output_type": "stream",
     "text": [
      "100/100 [==============================] - 1s 9ms/step - loss: 118.4820 - accuracy: 0.5000\n",
      "Epoch 2/400\n",
      "100/100 [==============================] - 1s 8ms/step - loss: 41.7936 - accuracy: 0.8300\n",
      "Epoch 3/400\n",
      "100/100 [==============================] - 1s 9ms/step - loss: 14.1707 - accuracy: 0.9100\n",
      "Epoch 4/400\n",
      "100/100 [==============================] - 1s 9ms/step - loss: 13.9739 - accuracy: 0.9400\n",
      "Epoch 5/400\n",
      "100/100 [==============================] - 1s 9ms/step - loss: 0.3860 - accuracy: 0.9900\n",
      "Epoch 6/400\n",
      "100/100 [==============================] - 1s 9ms/step - loss: 0.0000e+00 - accuracy: 1.0000\n",
      "(784, 820)\n",
      "Epoch 1/400\n",
      "  6/100 [>.............................] - ETA: 0s - loss: 140.1384 - accuracy: 0.1667   "
     ]
    },
    {
     "name": "stderr",
     "output_type": "stream",
     "text": [
      "2023-04-21 12:54:30.361049: I tensorflow/core/grappler/optimizers/custom_graph_optimizer_registry.cc:113] Plugin optimizer for device_type GPU is enabled.\n"
     ]
    },
    {
     "name": "stdout",
     "output_type": "stream",
     "text": [
      "100/100 [==============================] - 1s 9ms/step - loss: 142.5948 - accuracy: 0.4500\n",
      "Epoch 2/400\n",
      "100/100 [==============================] - 1s 8ms/step - loss: 24.9019 - accuracy: 0.8400\n",
      "Epoch 3/400\n",
      "100/100 [==============================] - 1s 8ms/step - loss: 6.9127 - accuracy: 0.9200\n",
      "Epoch 4/400\n",
      "100/100 [==============================] - 1s 9ms/step - loss: 5.6774 - accuracy: 0.9600\n",
      "Epoch 5/400\n",
      "100/100 [==============================] - 1s 9ms/step - loss: 1.1323 - accuracy: 0.9800\n",
      "Epoch 6/400\n",
      "100/100 [==============================] - 1s 8ms/step - loss: 3.1113e-07 - accuracy: 1.0000\n",
      "(784, 830)\n",
      "Epoch 1/400\n",
      "  6/100 [>.............................] - ETA: 1s - loss: 132.9034 - accuracy: 0.3333    "
     ]
    },
    {
     "name": "stderr",
     "output_type": "stream",
     "text": [
      "2023-04-21 12:54:35.801349: I tensorflow/core/grappler/optimizers/custom_graph_optimizer_registry.cc:113] Plugin optimizer for device_type GPU is enabled.\n"
     ]
    },
    {
     "name": "stdout",
     "output_type": "stream",
     "text": [
      "100/100 [==============================] - 1s 9ms/step - loss: 136.8086 - accuracy: 0.4500\n",
      "Epoch 2/400\n",
      "100/100 [==============================] - 1s 8ms/step - loss: 12.6087 - accuracy: 0.8400\n",
      "Epoch 3/400\n",
      "100/100 [==============================] - 1s 9ms/step - loss: 14.1959 - accuracy: 0.9100\n",
      "Epoch 4/400\n",
      "100/100 [==============================] - 1s 8ms/step - loss: 9.8588 - accuracy: 0.9400\n",
      "Epoch 5/400\n",
      "100/100 [==============================] - 1s 9ms/step - loss: 6.9845 - accuracy: 0.9100\n",
      "Epoch 6/400\n",
      "100/100 [==============================] - 1s 9ms/step - loss: 15.1810 - accuracy: 0.8800\n",
      "Epoch 7/400\n",
      "100/100 [==============================] - 1s 8ms/step - loss: 8.7708 - accuracy: 0.9600\n",
      "Epoch 8/400\n",
      "100/100 [==============================] - 1s 9ms/step - loss: 13.0434 - accuracy: 0.9500\n",
      "Epoch 9/400\n",
      "100/100 [==============================] - 1s 8ms/step - loss: 4.0161 - accuracy: 0.9500\n",
      "Epoch 10/400\n",
      "100/100 [==============================] - 1s 8ms/step - loss: 2.7831 - accuracy: 0.9800\n",
      "Epoch 11/400\n",
      "100/100 [==============================] - 1s 8ms/step - loss: 0.0000e+00 - accuracy: 1.0000\n",
      "(784, 840)\n",
      "Epoch 1/400\n",
      "  7/100 [=>............................] - ETA: 0s - loss: 157.4474 - accuracy: 0.4286    "
     ]
    },
    {
     "name": "stderr",
     "output_type": "stream",
     "text": [
      "2023-04-21 12:54:45.500820: I tensorflow/core/grappler/optimizers/custom_graph_optimizer_registry.cc:113] Plugin optimizer for device_type GPU is enabled.\n"
     ]
    },
    {
     "name": "stdout",
     "output_type": "stream",
     "text": [
      "100/100 [==============================] - 1s 9ms/step - loss: 124.0281 - accuracy: 0.4400\n",
      "Epoch 2/400\n",
      "100/100 [==============================] - 1s 8ms/step - loss: 22.4901 - accuracy: 0.8900\n",
      "Epoch 3/400\n",
      "100/100 [==============================] - 1s 8ms/step - loss: 8.8754 - accuracy: 0.9100\n",
      "Epoch 4/400\n",
      "100/100 [==============================] - 1s 9ms/step - loss: 16.2154 - accuracy: 0.9100\n",
      "Epoch 5/400\n",
      "100/100 [==============================] - 1s 9ms/step - loss: 11.8831 - accuracy: 0.9400\n",
      "Epoch 6/400\n",
      "100/100 [==============================] - 1s 9ms/step - loss: 4.0707 - accuracy: 0.9900\n",
      "Epoch 7/400\n",
      "100/100 [==============================] - 1s 8ms/step - loss: 0.0000e+00 - accuracy: 1.0000\n",
      "(784, 850)\n",
      "Epoch 1/400\n",
      "  6/100 [>.............................] - ETA: 1s - loss: 199.1549 - accuracy: 0.0000e+00 "
     ]
    },
    {
     "name": "stderr",
     "output_type": "stream",
     "text": [
      "2023-04-21 12:54:51.816484: I tensorflow/core/grappler/optimizers/custom_graph_optimizer_registry.cc:113] Plugin optimizer for device_type GPU is enabled.\n"
     ]
    },
    {
     "name": "stdout",
     "output_type": "stream",
     "text": [
      "100/100 [==============================] - 1s 9ms/step - loss: 135.4094 - accuracy: 0.4100\n",
      "Epoch 2/400\n",
      "100/100 [==============================] - 1s 9ms/step - loss: 24.7417 - accuracy: 0.8500\n",
      "Epoch 3/400\n",
      "100/100 [==============================] - 1s 8ms/step - loss: 6.8123 - accuracy: 0.9300\n",
      "Epoch 4/400\n",
      "100/100 [==============================] - 1s 8ms/step - loss: 5.4162 - accuracy: 0.9800\n",
      "Epoch 5/400\n",
      "100/100 [==============================] - 1s 9ms/step - loss: 0.3911 - accuracy: 0.9700\n",
      "Epoch 6/400\n",
      "100/100 [==============================] - 1s 9ms/step - loss: 2.7545 - accuracy: 0.9800\n",
      "Epoch 7/400\n",
      "100/100 [==============================] - 1s 9ms/step - loss: 19.6103 - accuracy: 0.9000\n",
      "Epoch 8/400\n",
      "100/100 [==============================] - 1s 8ms/step - loss: 18.9107 - accuracy: 0.9000\n",
      "Epoch 9/400\n",
      "100/100 [==============================] - 1s 9ms/step - loss: 27.4262 - accuracy: 0.8600\n",
      "Epoch 10/400\n",
      "100/100 [==============================] - 1s 8ms/step - loss: 2.8720 - accuracy: 0.9700\n",
      "Epoch 11/400\n",
      "100/100 [==============================] - 1s 9ms/step - loss: 1.8702 - accuracy: 0.9800\n",
      "Epoch 12/400\n",
      "100/100 [==============================] - 1s 9ms/step - loss: 0.8852 - accuracy: 0.9600\n",
      "Epoch 13/400\n",
      "100/100 [==============================] - 1s 9ms/step - loss: 4.3247 - accuracy: 0.9700\n",
      "Epoch 14/400\n",
      "100/100 [==============================] - 1s 9ms/step - loss: 2.5741 - accuracy: 0.9500\n",
      "Epoch 15/400\n",
      "100/100 [==============================] - 1s 9ms/step - loss: 0.0000e+00 - accuracy: 1.0000\n",
      "(784, 860)\n",
      "Epoch 1/400\n",
      "  5/100 [>.............................] - ETA: 1s - loss: 124.9713 - accuracy: 0.4000     "
     ]
    },
    {
     "name": "stderr",
     "output_type": "stream",
     "text": [
      "2023-04-21 12:55:05.084802: I tensorflow/core/grappler/optimizers/custom_graph_optimizer_registry.cc:113] Plugin optimizer for device_type GPU is enabled.\n"
     ]
    },
    {
     "name": "stdout",
     "output_type": "stream",
     "text": [
      "100/100 [==============================] - 1s 9ms/step - loss: 116.9890 - accuracy: 0.5200\n",
      "Epoch 2/400\n",
      "100/100 [==============================] - 1s 9ms/step - loss: 26.2508 - accuracy: 0.7900\n",
      "Epoch 3/400\n",
      "100/100 [==============================] - 1s 9ms/step - loss: 21.5460 - accuracy: 0.8700\n",
      "Epoch 4/400\n",
      "100/100 [==============================] - 1s 9ms/step - loss: 15.5098 - accuracy: 0.9000\n",
      "Epoch 5/400\n",
      "100/100 [==============================] - 1s 8ms/step - loss: 6.0788 - accuracy: 0.9500\n",
      "Epoch 6/400\n",
      "100/100 [==============================] - 1s 8ms/step - loss: 0.3265 - accuracy: 0.9900\n",
      "Epoch 7/400\n",
      "100/100 [==============================] - 1s 8ms/step - loss: 1.7652 - accuracy: 0.9900\n",
      "Epoch 8/400\n",
      "100/100 [==============================] - 1s 9ms/step - loss: 0.0000e+00 - accuracy: 1.0000\n",
      "(784, 870)\n",
      "Epoch 1/400\n",
      "  7/100 [=>............................] - ETA: 0s - loss: 128.9897 - accuracy: 0.0000e+00 "
     ]
    },
    {
     "name": "stderr",
     "output_type": "stream",
     "text": [
      "2023-04-21 12:55:12.306331: I tensorflow/core/grappler/optimizers/custom_graph_optimizer_registry.cc:113] Plugin optimizer for device_type GPU is enabled.\n"
     ]
    },
    {
     "name": "stdout",
     "output_type": "stream",
     "text": [
      "100/100 [==============================] - 1s 9ms/step - loss: 117.5635 - accuracy: 0.4700\n",
      "Epoch 2/400\n",
      "100/100 [==============================] - 1s 8ms/step - loss: 26.2827 - accuracy: 0.8300\n",
      "Epoch 3/400\n",
      "100/100 [==============================] - 1s 8ms/step - loss: 19.9860 - accuracy: 0.8400\n",
      "Epoch 4/400\n",
      "100/100 [==============================] - 1s 9ms/step - loss: 11.2023 - accuracy: 0.9000\n",
      "Epoch 5/400\n",
      "100/100 [==============================] - 1s 9ms/step - loss: 13.7243 - accuracy: 0.8900\n",
      "Epoch 6/400\n",
      "100/100 [==============================] - 1s 9ms/step - loss: 6.0059 - accuracy: 0.9200\n",
      "Epoch 7/400\n",
      "100/100 [==============================] - 1s 9ms/step - loss: 8.5978 - accuracy: 0.9300\n",
      "Epoch 8/400\n",
      "100/100 [==============================] - 1s 9ms/step - loss: 2.4342 - accuracy: 0.9900\n",
      "Epoch 9/400\n",
      "100/100 [==============================] - 1s 9ms/step - loss: 0.0000e+00 - accuracy: 1.0000\n",
      "(784, 880)\n",
      "Epoch 1/400\n",
      "  6/100 [>.............................] - ETA: 1s - loss: 131.6027 - accuracy: 0.1667     "
     ]
    },
    {
     "name": "stderr",
     "output_type": "stream",
     "text": [
      "2023-04-21 12:55:20.395259: I tensorflow/core/grappler/optimizers/custom_graph_optimizer_registry.cc:113] Plugin optimizer for device_type GPU is enabled.\n"
     ]
    },
    {
     "name": "stdout",
     "output_type": "stream",
     "text": [
      "100/100 [==============================] - 1s 9ms/step - loss: 116.5339 - accuracy: 0.4700\n",
      "Epoch 2/400\n",
      "100/100 [==============================] - 1s 9ms/step - loss: 25.2452 - accuracy: 0.8500\n",
      "Epoch 3/400\n",
      "100/100 [==============================] - 1s 8ms/step - loss: 3.5578 - accuracy: 0.9600\n",
      "Epoch 4/400\n",
      "100/100 [==============================] - 1s 9ms/step - loss: 4.9929 - accuracy: 0.9600\n",
      "Epoch 5/400\n",
      "100/100 [==============================] - 1s 9ms/step - loss: 18.6491 - accuracy: 0.8600\n",
      "Epoch 6/400\n",
      "100/100 [==============================] - 1s 10ms/step - loss: 28.2577 - accuracy: 0.8600\n",
      "Epoch 7/400\n",
      "100/100 [==============================] - 1s 10ms/step - loss: 6.0504 - accuracy: 0.9500\n",
      "Epoch 8/400\n",
      "100/100 [==============================] - 1s 9ms/step - loss: 4.0960 - accuracy: 0.9700\n",
      "Epoch 9/400\n",
      "100/100 [==============================] - 1s 9ms/step - loss: 0.0000e+00 - accuracy: 1.0000\n",
      "(784, 890)\n",
      "Epoch 1/400\n",
      "  6/100 [>.............................] - ETA: 1s - loss: 129.6665 - accuracy: 0.0000e+00"
     ]
    },
    {
     "name": "stderr",
     "output_type": "stream",
     "text": [
      "2023-04-21 12:55:28.840592: I tensorflow/core/grappler/optimizers/custom_graph_optimizer_registry.cc:113] Plugin optimizer for device_type GPU is enabled.\n"
     ]
    },
    {
     "name": "stdout",
     "output_type": "stream",
     "text": [
      "100/100 [==============================] - 1s 10ms/step - loss: 119.2088 - accuracy: 0.5100\n",
      "Epoch 2/400\n",
      "100/100 [==============================] - 1s 9ms/step - loss: 35.8919 - accuracy: 0.7600\n",
      "Epoch 3/400\n",
      "100/100 [==============================] - 1s 9ms/step - loss: 18.7637 - accuracy: 0.9200\n",
      "Epoch 4/400\n",
      "100/100 [==============================] - 1s 9ms/step - loss: 8.6885 - accuracy: 0.9400\n",
      "Epoch 5/400\n",
      "100/100 [==============================] - 1s 9ms/step - loss: 26.7636 - accuracy: 0.8600\n",
      "Epoch 6/400\n",
      "100/100 [==============================] - 1s 9ms/step - loss: 6.8255 - accuracy: 0.9300\n",
      "Epoch 7/400\n",
      "100/100 [==============================] - 1s 9ms/step - loss: 5.7594 - accuracy: 0.9600\n",
      "Epoch 8/400\n",
      "100/100 [==============================] - 1s 9ms/step - loss: 2.2066 - accuracy: 0.9800\n",
      "Epoch 9/400\n",
      "100/100 [==============================] - 1s 9ms/step - loss: 0.0000e+00 - accuracy: 1.0000\n",
      "(784, 900)\n",
      "Epoch 1/400\n",
      "  6/100 [>.............................] - ETA: 1s - loss: 180.0725 - accuracy: 0.3333     "
     ]
    },
    {
     "name": "stderr",
     "output_type": "stream",
     "text": [
      "2023-04-21 12:55:37.207451: I tensorflow/core/grappler/optimizers/custom_graph_optimizer_registry.cc:113] Plugin optimizer for device_type GPU is enabled.\n"
     ]
    },
    {
     "name": "stdout",
     "output_type": "stream",
     "text": [
      "100/100 [==============================] - 1s 9ms/step - loss: 119.9112 - accuracy: 0.4600\n",
      "Epoch 2/400\n",
      "100/100 [==============================] - 1s 9ms/step - loss: 20.4185 - accuracy: 0.8500\n",
      "Epoch 3/400\n",
      "100/100 [==============================] - 1s 9ms/step - loss: 12.8578 - accuracy: 0.8800\n",
      "Epoch 4/400\n",
      "100/100 [==============================] - 1s 9ms/step - loss: 12.1997 - accuracy: 0.9100\n",
      "Epoch 5/400\n",
      "100/100 [==============================] - 1s 9ms/step - loss: 7.6973 - accuracy: 0.9400\n",
      "Epoch 6/400\n",
      "100/100 [==============================] - 1s 10ms/step - loss: 10.0003 - accuracy: 0.9200\n",
      "Epoch 7/400\n",
      "100/100 [==============================] - 1s 10ms/step - loss: 1.9317 - accuracy: 0.9700\n",
      "Epoch 8/400\n",
      "100/100 [==============================] - 1s 10ms/step - loss: 6.7101 - accuracy: 0.9400\n",
      "Epoch 9/400\n",
      "100/100 [==============================] - 2s 17ms/step - loss: 7.5181 - accuracy: 0.9700\n",
      "Epoch 10/400\n",
      "100/100 [==============================] - 1s 11ms/step - loss: 21.0283 - accuracy: 0.9200\n",
      "Epoch 11/400\n",
      "100/100 [==============================] - 1s 15ms/step - loss: 16.1028 - accuracy: 0.9600\n",
      "Epoch 12/400\n",
      "100/100 [==============================] - 1s 11ms/step - loss: 2.3566 - accuracy: 0.9800\n",
      "Epoch 13/400\n",
      "100/100 [==============================] - 1s 13ms/step - loss: 3.1311 - accuracy: 0.9700\n",
      "Epoch 14/400\n",
      "100/100 [==============================] - 1s 10ms/step - loss: 4.9307 - accuracy: 0.9600\n",
      "Epoch 15/400\n",
      "100/100 [==============================] - 1s 10ms/step - loss: 5.3022 - accuracy: 0.9600\n",
      "Epoch 16/400\n",
      "100/100 [==============================] - 1s 10ms/step - loss: 11.1380 - accuracy: 0.9600\n",
      "Epoch 17/400\n",
      "100/100 [==============================] - 1s 9ms/step - loss: 1.6689e-08 - accuracy: 1.0000\n",
      "(784, 910)\n",
      "Epoch 1/400\n",
      "  5/100 [>.............................] - ETA: 1s - loss: 247.2532 - accuracy: 0.0000e+00"
     ]
    },
    {
     "name": "stderr",
     "output_type": "stream",
     "text": [
      "2023-04-21 12:55:55.859560: I tensorflow/core/grappler/optimizers/custom_graph_optimizer_registry.cc:113] Plugin optimizer for device_type GPU is enabled.\n"
     ]
    },
    {
     "name": "stdout",
     "output_type": "stream",
     "text": [
      "100/100 [==============================] - 1s 10ms/step - loss: 162.4759 - accuracy: 0.4000\n",
      "Epoch 2/400\n",
      "100/100 [==============================] - 1s 10ms/step - loss: 27.2343 - accuracy: 0.8700\n",
      "Epoch 3/400\n",
      "100/100 [==============================] - 1s 9ms/step - loss: 4.2125 - accuracy: 0.9700\n",
      "Epoch 4/400\n",
      "100/100 [==============================] - 1s 9ms/step - loss: 7.6105 - accuracy: 0.9200\n",
      "Epoch 5/400\n",
      "100/100 [==============================] - 1s 10ms/step - loss: 10.7051 - accuracy: 0.9400\n",
      "Epoch 6/400\n",
      "100/100 [==============================] - 1s 10ms/step - loss: 1.7352 - accuracy: 0.9700\n",
      "Epoch 7/400\n",
      "100/100 [==============================] - 1s 10ms/step - loss: 9.1782 - accuracy: 0.9500\n",
      "Epoch 8/400\n",
      "100/100 [==============================] - 1s 10ms/step - loss: 19.9081 - accuracy: 0.8900\n",
      "Epoch 9/400\n",
      "100/100 [==============================] - 1s 10ms/step - loss: 27.6578 - accuracy: 0.8800\n",
      "Epoch 10/400\n",
      "100/100 [==============================] - 1s 10ms/step - loss: 2.7354 - accuracy: 0.9500\n",
      "Epoch 11/400\n",
      "100/100 [==============================] - 1s 9ms/step - loss: 21.3842 - accuracy: 0.9300\n",
      "Epoch 12/400\n",
      "100/100 [==============================] - 1s 9ms/step - loss: 3.0290 - accuracy: 0.9600\n",
      "Epoch 13/400\n",
      "100/100 [==============================] - 1s 10ms/step - loss: 2.2416e-04 - accuracy: 1.0000\n",
      "(784, 920)\n",
      "Epoch 1/400\n",
      "  5/100 [>.............................] - ETA: 1s - loss: 217.9973 - accuracy: 0.4000     "
     ]
    },
    {
     "name": "stderr",
     "output_type": "stream",
     "text": [
      "2023-04-21 12:56:08.768213: I tensorflow/core/grappler/optimizers/custom_graph_optimizer_registry.cc:113] Plugin optimizer for device_type GPU is enabled.\n"
     ]
    },
    {
     "name": "stdout",
     "output_type": "stream",
     "text": [
      "100/100 [==============================] - 1s 11ms/step - loss: 124.6615 - accuracy: 0.5000\n",
      "Epoch 2/400\n",
      "100/100 [==============================] - 1s 9ms/step - loss: 14.2887 - accuracy: 0.9100\n",
      "Epoch 3/400\n",
      "100/100 [==============================] - 1s 9ms/step - loss: 17.6902 - accuracy: 0.8700\n",
      "Epoch 4/400\n",
      "100/100 [==============================] - 1s 10ms/step - loss: 18.2400 - accuracy: 0.9000\n",
      "Epoch 5/400\n",
      "100/100 [==============================] - 1s 10ms/step - loss: 3.5204 - accuracy: 0.9600\n",
      "Epoch 6/400\n",
      "100/100 [==============================] - 1s 10ms/step - loss: 3.5932 - accuracy: 0.9500\n",
      "Epoch 7/400\n",
      "100/100 [==============================] - 1s 9ms/step - loss: 1.4495 - accuracy: 0.9700\n",
      "Epoch 8/400\n",
      "100/100 [==============================] - 1s 10ms/step - loss: 0.8711 - accuracy: 0.9900\n",
      "Epoch 9/400\n",
      "100/100 [==============================] - 1s 9ms/step - loss: 0.0932 - accuracy: 0.9900\n",
      "Epoch 10/400\n",
      "100/100 [==============================] - 1s 10ms/step - loss: 3.4249 - accuracy: 0.9600\n",
      "Epoch 11/400\n",
      "100/100 [==============================] - 1s 9ms/step - loss: 14.4962 - accuracy: 0.9200\n",
      "Epoch 12/400\n",
      "100/100 [==============================] - 1s 9ms/step - loss: 18.0449 - accuracy: 0.9600\n",
      "Epoch 13/400\n",
      "100/100 [==============================] - 1s 9ms/step - loss: 5.6809 - accuracy: 0.9700\n",
      "Epoch 14/400\n",
      "100/100 [==============================] - 1s 10ms/step - loss: 3.0524 - accuracy: 0.9800\n",
      "Epoch 15/400\n",
      "100/100 [==============================] - 1s 10ms/step - loss: 0.3221 - accuracy: 0.9900\n",
      "Epoch 16/400\n",
      "100/100 [==============================] - 1s 10ms/step - loss: 0.0000e+00 - accuracy: 1.0000\n",
      "(784, 930)\n",
      "Epoch 1/400\n",
      "  6/100 [>.............................] - ETA: 1s - loss: 130.5368 - accuracy: 0.0000e+00"
     ]
    },
    {
     "name": "stderr",
     "output_type": "stream",
     "text": [
      "2023-04-21 12:56:24.525814: I tensorflow/core/grappler/optimizers/custom_graph_optimizer_registry.cc:113] Plugin optimizer for device_type GPU is enabled.\n"
     ]
    },
    {
     "name": "stdout",
     "output_type": "stream",
     "text": [
      "100/100 [==============================] - 1s 10ms/step - loss: 118.4808 - accuracy: 0.5100\n",
      "Epoch 2/400\n",
      "100/100 [==============================] - 1s 10ms/step - loss: 40.4254 - accuracy: 0.7700\n",
      "Epoch 3/400\n",
      "100/100 [==============================] - 1s 9ms/step - loss: 23.4833 - accuracy: 0.8800\n",
      "Epoch 4/400\n",
      "100/100 [==============================] - 1s 9ms/step - loss: 5.0315 - accuracy: 0.9400\n",
      "Epoch 5/400\n",
      "100/100 [==============================] - 1s 10ms/step - loss: 3.4392 - accuracy: 0.9500\n",
      "Epoch 6/400\n",
      "100/100 [==============================] - 1s 9ms/step - loss: 0.0000e+00 - accuracy: 1.0000\n",
      "(784, 940)\n",
      "Epoch 1/400\n",
      "  6/100 [>.............................] - ETA: 1s - loss: 100.3135 - accuracy: 0.1667    "
     ]
    },
    {
     "name": "stderr",
     "output_type": "stream",
     "text": [
      "2023-04-21 12:56:30.579763: I tensorflow/core/grappler/optimizers/custom_graph_optimizer_registry.cc:113] Plugin optimizer for device_type GPU is enabled.\n"
     ]
    },
    {
     "name": "stdout",
     "output_type": "stream",
     "text": [
      "100/100 [==============================] - 1s 10ms/step - loss: 146.0500 - accuracy: 0.4300\n",
      "Epoch 2/400\n",
      "100/100 [==============================] - 1s 9ms/step - loss: 9.8065 - accuracy: 0.8900\n",
      "Epoch 3/400\n",
      "100/100 [==============================] - 1s 9ms/step - loss: 10.9240 - accuracy: 0.9100\n",
      "Epoch 4/400\n",
      "100/100 [==============================] - 1s 9ms/step - loss: 7.3894 - accuracy: 0.9200\n",
      "Epoch 5/400\n",
      "100/100 [==============================] - 1s 9ms/step - loss: 13.3680 - accuracy: 0.9300\n",
      "Epoch 6/400\n",
      "100/100 [==============================] - 1s 10ms/step - loss: 8.2620 - accuracy: 0.9300\n",
      "Epoch 7/400\n",
      "100/100 [==============================] - 1s 9ms/step - loss: 2.2051 - accuracy: 0.9800\n",
      "Epoch 8/400\n",
      "100/100 [==============================] - 1s 10ms/step - loss: 17.3863 - accuracy: 0.9400\n",
      "Epoch 9/400\n",
      "100/100 [==============================] - 1s 9ms/step - loss: 13.5282 - accuracy: 0.9200\n",
      "Epoch 10/400\n",
      "100/100 [==============================] - 1s 9ms/step - loss: 19.8885 - accuracy: 0.9200\n",
      "Epoch 11/400\n",
      "100/100 [==============================] - 1s 9ms/step - loss: 9.8160 - accuracy: 0.9600\n",
      "Epoch 12/400\n",
      "100/100 [==============================] - 1s 9ms/step - loss: 15.8411 - accuracy: 0.9400\n",
      "Epoch 13/400\n",
      "100/100 [==============================] - 1s 10ms/step - loss: 0.0000e+00 - accuracy: 1.0000\n",
      "(784, 950)\n",
      "Epoch 1/400\n",
      "  6/100 [>.............................] - ETA: 1s - loss: 123.9448 - accuracy: 0.3333   "
     ]
    },
    {
     "name": "stderr",
     "output_type": "stream",
     "text": [
      "2023-04-21 12:56:43.275774: I tensorflow/core/grappler/optimizers/custom_graph_optimizer_registry.cc:113] Plugin optimizer for device_type GPU is enabled.\n"
     ]
    },
    {
     "name": "stdout",
     "output_type": "stream",
     "text": [
      "100/100 [==============================] - 1s 10ms/step - loss: 117.0269 - accuracy: 0.4400\n",
      "Epoch 2/400\n",
      "100/100 [==============================] - 1s 9ms/step - loss: 30.2594 - accuracy: 0.8700\n",
      "Epoch 3/400\n",
      "100/100 [==============================] - 1s 9ms/step - loss: 12.7841 - accuracy: 0.8800\n",
      "Epoch 4/400\n",
      "100/100 [==============================] - 1s 10ms/step - loss: 14.8695 - accuracy: 0.8800\n",
      "Epoch 5/400\n",
      "100/100 [==============================] - 1s 9ms/step - loss: 2.6937 - accuracy: 0.9700\n",
      "Epoch 6/400\n",
      "100/100 [==============================] - 1s 9ms/step - loss: 6.4192 - accuracy: 0.9900\n",
      "Epoch 7/400\n",
      "100/100 [==============================] - 1s 10ms/step - loss: 0.0071 - accuracy: 0.9900\n",
      "(784, 960)\n",
      "Epoch 1/400\n",
      "  6/100 [>.............................] - ETA: 1s - loss: 88.6320 - accuracy: 0.5000      "
     ]
    },
    {
     "name": "stderr",
     "output_type": "stream",
     "text": [
      "2023-04-21 12:56:50.267898: I tensorflow/core/grappler/optimizers/custom_graph_optimizer_registry.cc:113] Plugin optimizer for device_type GPU is enabled.\n"
     ]
    },
    {
     "name": "stdout",
     "output_type": "stream",
     "text": [
      "100/100 [==============================] - 1s 9ms/step - loss: 144.3409 - accuracy: 0.5000\n",
      "Epoch 2/400\n",
      "100/100 [==============================] - 1s 9ms/step - loss: 30.2183 - accuracy: 0.8200\n",
      "Epoch 3/400\n",
      "100/100 [==============================] - 1s 10ms/step - loss: 14.6970 - accuracy: 0.9000\n",
      "Epoch 4/400\n",
      "100/100 [==============================] - 1s 9ms/step - loss: 2.9441 - accuracy: 0.9400\n",
      "Epoch 5/400\n",
      "100/100 [==============================] - 1s 9ms/step - loss: 10.9000 - accuracy: 0.9100\n",
      "Epoch 6/400\n",
      "100/100 [==============================] - 1s 9ms/step - loss: 13.0250 - accuracy: 0.9000\n",
      "Epoch 7/400\n",
      "100/100 [==============================] - 1s 9ms/step - loss: 14.0803 - accuracy: 0.9200\n",
      "Epoch 8/400\n",
      "100/100 [==============================] - 1s 9ms/step - loss: 5.3539 - accuracy: 0.9600\n",
      "Epoch 9/400\n",
      "100/100 [==============================] - 1s 9ms/step - loss: 7.4963e-05 - accuracy: 1.0000\n",
      "(784, 970)\n",
      "Epoch 1/400\n",
      "  6/100 [>.............................] - ETA: 1s - loss: 90.7026 - accuracy: 0.5000      "
     ]
    },
    {
     "name": "stderr",
     "output_type": "stream",
     "text": [
      "2023-04-21 12:56:58.939063: I tensorflow/core/grappler/optimizers/custom_graph_optimizer_registry.cc:113] Plugin optimizer for device_type GPU is enabled.\n"
     ]
    },
    {
     "name": "stdout",
     "output_type": "stream",
     "text": [
      "100/100 [==============================] - 1s 9ms/step - loss: 138.6452 - accuracy: 0.4300\n",
      "Epoch 2/400\n",
      "100/100 [==============================] - 1s 9ms/step - loss: 17.2352 - accuracy: 0.8500\n",
      "Epoch 3/400\n",
      "100/100 [==============================] - 1s 9ms/step - loss: 12.0222 - accuracy: 0.9100\n",
      "Epoch 4/400\n",
      "100/100 [==============================] - 1s 9ms/step - loss: 10.4064 - accuracy: 0.9200\n",
      "Epoch 5/400\n",
      "100/100 [==============================] - 1s 9ms/step - loss: 12.6359 - accuracy: 0.9200\n",
      "Epoch 6/400\n",
      "100/100 [==============================] - 1s 9ms/step - loss: 1.5401 - accuracy: 0.9700\n",
      "Epoch 7/400\n",
      "100/100 [==============================] - 1s 9ms/step - loss: 3.4504 - accuracy: 0.9600\n",
      "Epoch 8/400\n",
      "100/100 [==============================] - 1s 10ms/step - loss: 4.3644 - accuracy: 0.9600\n",
      "Epoch 9/400\n",
      "100/100 [==============================] - 1s 9ms/step - loss: 5.7361 - accuracy: 0.9800\n",
      "Epoch 10/400\n",
      "100/100 [==============================] - 1s 9ms/step - loss: 0.0000e+00 - accuracy: 1.0000\n",
      "(784, 980)\n",
      "Epoch 1/400\n",
      " 11/100 [==>...........................] - ETA: 0s - loss: 214.0400 - accuracy: 0.1818    "
     ]
    },
    {
     "name": "stderr",
     "output_type": "stream",
     "text": [
      "2023-04-21 12:57:08.476772: I tensorflow/core/grappler/optimizers/custom_graph_optimizer_registry.cc:113] Plugin optimizer for device_type GPU is enabled.\n"
     ]
    },
    {
     "name": "stdout",
     "output_type": "stream",
     "text": [
      "100/100 [==============================] - 1s 9ms/step - loss: 136.6662 - accuracy: 0.4100\n",
      "Epoch 2/400\n",
      "100/100 [==============================] - 1s 9ms/step - loss: 22.2317 - accuracy: 0.8700\n",
      "Epoch 3/400\n",
      "100/100 [==============================] - 1s 10ms/step - loss: 5.0504 - accuracy: 0.9500\n",
      "Epoch 4/400\n",
      "100/100 [==============================] - 1s 10ms/step - loss: 10.1111 - accuracy: 0.9200\n",
      "Epoch 5/400\n",
      "100/100 [==============================] - 1s 9ms/step - loss: 1.2531 - accuracy: 0.9800\n",
      "Epoch 6/400\n",
      "100/100 [==============================] - 1s 9ms/step - loss: 9.4090 - accuracy: 0.9000\n",
      "Epoch 7/400\n",
      "100/100 [==============================] - 1s 9ms/step - loss: 18.3400 - accuracy: 0.9100\n",
      "Epoch 8/400\n",
      "100/100 [==============================] - 1s 10ms/step - loss: 15.8053 - accuracy: 0.9100\n",
      "Epoch 9/400\n",
      "100/100 [==============================] - 1s 9ms/step - loss: 7.3009 - accuracy: 0.9500\n",
      "Epoch 10/400\n",
      "100/100 [==============================] - 1s 9ms/step - loss: 4.4591 - accuracy: 0.9500\n",
      "Epoch 11/400\n",
      "100/100 [==============================] - 1s 10ms/step - loss: 6.2784 - accuracy: 0.9800\n",
      "Epoch 12/400\n",
      "100/100 [==============================] - 1s 10ms/step - loss: 13.8585 - accuracy: 0.9500\n",
      "Epoch 13/400\n",
      "100/100 [==============================] - 1s 9ms/step - loss: 0.0000e+00 - accuracy: 1.0000\n",
      "(784, 990)\n",
      "Epoch 1/400\n",
      "  5/100 [>.............................] - ETA: 1s - loss: 196.5914 - accuracy: 0.0000e+00"
     ]
    },
    {
     "name": "stderr",
     "output_type": "stream",
     "text": [
      "2023-04-21 12:57:21.808952: I tensorflow/core/grappler/optimizers/custom_graph_optimizer_registry.cc:113] Plugin optimizer for device_type GPU is enabled.\n"
     ]
    },
    {
     "name": "stdout",
     "output_type": "stream",
     "text": [
      "100/100 [==============================] - 1s 10ms/step - loss: 116.8030 - accuracy: 0.4700\n",
      "Epoch 2/400\n",
      "100/100 [==============================] - 1s 10ms/step - loss: 22.7962 - accuracy: 0.8400\n",
      "Epoch 3/400\n",
      "100/100 [==============================] - 1s 10ms/step - loss: 22.3869 - accuracy: 0.8800\n",
      "Epoch 4/400\n",
      "100/100 [==============================] - 1s 10ms/step - loss: 2.4740 - accuracy: 0.9600\n",
      "Epoch 5/400\n",
      "100/100 [==============================] - 1s 10ms/step - loss: 0.0000e+00 - accuracy: 1.0000\n",
      "(784, 1000)\n",
      "Epoch 1/400\n",
      "  6/100 [>.............................] - ETA: 1s - loss: 126.1473 - accuracy: 0.0000e+00"
     ]
    },
    {
     "name": "stderr",
     "output_type": "stream",
     "text": [
      "2023-04-21 12:57:27.066838: I tensorflow/core/grappler/optimizers/custom_graph_optimizer_registry.cc:113] Plugin optimizer for device_type GPU is enabled.\n"
     ]
    },
    {
     "name": "stdout",
     "output_type": "stream",
     "text": [
      "100/100 [==============================] - 1s 9ms/step - loss: 121.9717 - accuracy: 0.4300\n",
      "Epoch 2/400\n",
      "100/100 [==============================] - 1s 10ms/step - loss: 13.8927 - accuracy: 0.9100\n",
      "Epoch 3/400\n",
      "100/100 [==============================] - 1s 9ms/step - loss: 9.2368 - accuracy: 0.9100\n",
      "Epoch 4/400\n",
      "100/100 [==============================] - 1s 9ms/step - loss: 36.8126 - accuracy: 0.8000\n",
      "Epoch 5/400\n",
      "100/100 [==============================] - 1s 9ms/step - loss: 10.3583 - accuracy: 0.9400\n",
      "Epoch 6/400\n",
      "100/100 [==============================] - 1s 10ms/step - loss: 2.7759 - accuracy: 0.9800\n",
      "Epoch 7/400\n",
      "100/100 [==============================] - 1s 10ms/step - loss: 2.3382 - accuracy: 0.9800\n",
      "Epoch 8/400\n",
      "100/100 [==============================] - 1s 9ms/step - loss: 2.9322 - accuracy: 0.9600\n",
      "Epoch 9/400\n",
      "100/100 [==============================] - 1s 9ms/step - loss: 19.1828 - accuracy: 0.8900\n",
      "Epoch 10/400\n",
      "100/100 [==============================] - 1s 10ms/step - loss: 15.6697 - accuracy: 0.9200\n",
      "Epoch 11/400\n",
      "100/100 [==============================] - 1s 10ms/step - loss: 3.3457 - accuracy: 0.9700\n",
      "Epoch 12/400\n",
      "100/100 [==============================] - 1s 10ms/step - loss: 16.6434 - accuracy: 0.9500\n",
      "Epoch 13/400\n",
      "100/100 [==============================] - 1s 9ms/step - loss: 2.5278 - accuracy: 0.9800\n",
      "Epoch 14/400\n",
      "100/100 [==============================] - 1s 9ms/step - loss: 0.0011 - accuracy: 1.0000\n"
     ]
    }
   ],
   "source": [
    "for units in unit_range:\n",
    "    print(\"units = \", units)\n",
    "    model = tf.keras.Sequential([\n",
    "        tf.keras.layers.Flatten(input_shape = (28, 28, 1)),\n",
    "        tf.keras.layers.Dense(units = units, activation = 'relu'),\n",
    "        tf.keras.layers.Dense(units = 10, activation = 'softmax')\n",
    "    ])\n",
    "    initial_weights.append(model.layers[1].get_weights()[0])\n",
    "\n",
    "    my_callback = MyThresholdCallback(threshold=0.05)\n",
    "\n",
    "    model.compile(loss='categorical_crossentropy', optimizer='adam', metrics=['accuracy'])\n",
    "    model.fit(X, y, epochs = 400, batch_size = 1, callbacks = [my_callback], verbose = 0)\n",
    "\n",
    "    final_weights.append(model.layers[1].get_weights()[0])"
   ]
  },
  {
   "cell_type": "code",
   "execution_count": 79,
   "metadata": {},
   "outputs": [],
   "source": [
    "for i in range(len(initial_weights)):\n",
    "    diff_weights.append(final_weights[i] - initial_weights[i])"
   ]
  },
  {
   "cell_type": "code",
   "execution_count": 84,
   "metadata": {},
   "outputs": [
    {
     "name": "stdout",
     "output_type": "stream",
     "text": [
      "[array([[0., 0., 0., ..., 0., 0., 0.],\n",
      "       [0., 0., 0., ..., 0., 0., 0.],\n",
      "       [0., 0., 0., ..., 0., 0., 0.],\n",
      "       ...,\n",
      "       [0., 0., 0., ..., 0., 0., 0.],\n",
      "       [0., 0., 0., ..., 0., 0., 0.],\n",
      "       [0., 0., 0., ..., 0., 0., 0.]], dtype=float32), array([[0., 0., 0., ..., 0., 0., 0.],\n",
      "       [0., 0., 0., ..., 0., 0., 0.],\n",
      "       [0., 0., 0., ..., 0., 0., 0.],\n",
      "       ...,\n",
      "       [0., 0., 0., ..., 0., 0., 0.],\n",
      "       [0., 0., 0., ..., 0., 0., 0.],\n",
      "       [0., 0., 0., ..., 0., 0., 0.]], dtype=float32), array([[0., 0., 0., ..., 0., 0., 0.],\n",
      "       [0., 0., 0., ..., 0., 0., 0.],\n",
      "       [0., 0., 0., ..., 0., 0., 0.],\n",
      "       ...,\n",
      "       [0., 0., 0., ..., 0., 0., 0.],\n",
      "       [0., 0., 0., ..., 0., 0., 0.],\n",
      "       [0., 0., 0., ..., 0., 0., 0.]], dtype=float32), array([[0., 0., 0., ..., 0., 0., 0.],\n",
      "       [0., 0., 0., ..., 0., 0., 0.],\n",
      "       [0., 0., 0., ..., 0., 0., 0.],\n",
      "       ...,\n",
      "       [0., 0., 0., ..., 0., 0., 0.],\n",
      "       [0., 0., 0., ..., 0., 0., 0.],\n",
      "       [0., 0., 0., ..., 0., 0., 0.]], dtype=float32), array([[0., 0., 0., ..., 0., 0., 0.],\n",
      "       [0., 0., 0., ..., 0., 0., 0.],\n",
      "       [0., 0., 0., ..., 0., 0., 0.],\n",
      "       ...,\n",
      "       [0., 0., 0., ..., 0., 0., 0.],\n",
      "       [0., 0., 0., ..., 0., 0., 0.],\n",
      "       [0., 0., 0., ..., 0., 0., 0.]], dtype=float32), array([[0., 0., 0., ..., 0., 0., 0.],\n",
      "       [0., 0., 0., ..., 0., 0., 0.],\n",
      "       [0., 0., 0., ..., 0., 0., 0.],\n",
      "       ...,\n",
      "       [0., 0., 0., ..., 0., 0., 0.],\n",
      "       [0., 0., 0., ..., 0., 0., 0.],\n",
      "       [0., 0., 0., ..., 0., 0., 0.]], dtype=float32), array([[0., 0., 0., ..., 0., 0., 0.],\n",
      "       [0., 0., 0., ..., 0., 0., 0.],\n",
      "       [0., 0., 0., ..., 0., 0., 0.],\n",
      "       ...,\n",
      "       [0., 0., 0., ..., 0., 0., 0.],\n",
      "       [0., 0., 0., ..., 0., 0., 0.],\n",
      "       [0., 0., 0., ..., 0., 0., 0.]], dtype=float32), array([[0., 0., 0., ..., 0., 0., 0.],\n",
      "       [0., 0., 0., ..., 0., 0., 0.],\n",
      "       [0., 0., 0., ..., 0., 0., 0.],\n",
      "       ...,\n",
      "       [0., 0., 0., ..., 0., 0., 0.],\n",
      "       [0., 0., 0., ..., 0., 0., 0.],\n",
      "       [0., 0., 0., ..., 0., 0., 0.]], dtype=float32), array([[0., 0., 0., ..., 0., 0., 0.],\n",
      "       [0., 0., 0., ..., 0., 0., 0.],\n",
      "       [0., 0., 0., ..., 0., 0., 0.],\n",
      "       ...,\n",
      "       [0., 0., 0., ..., 0., 0., 0.],\n",
      "       [0., 0., 0., ..., 0., 0., 0.],\n",
      "       [0., 0., 0., ..., 0., 0., 0.]], dtype=float32), array([[0., 0., 0., ..., 0., 0., 0.],\n",
      "       [0., 0., 0., ..., 0., 0., 0.],\n",
      "       [0., 0., 0., ..., 0., 0., 0.],\n",
      "       ...,\n",
      "       [0., 0., 0., ..., 0., 0., 0.],\n",
      "       [0., 0., 0., ..., 0., 0., 0.],\n",
      "       [0., 0., 0., ..., 0., 0., 0.]], dtype=float32), array([[0., 0., 0., ..., 0., 0., 0.],\n",
      "       [0., 0., 0., ..., 0., 0., 0.],\n",
      "       [0., 0., 0., ..., 0., 0., 0.],\n",
      "       ...,\n",
      "       [0., 0., 0., ..., 0., 0., 0.],\n",
      "       [0., 0., 0., ..., 0., 0., 0.],\n",
      "       [0., 0., 0., ..., 0., 0., 0.]], dtype=float32), array([[0., 0., 0., ..., 0., 0., 0.],\n",
      "       [0., 0., 0., ..., 0., 0., 0.],\n",
      "       [0., 0., 0., ..., 0., 0., 0.],\n",
      "       ...,\n",
      "       [0., 0., 0., ..., 0., 0., 0.],\n",
      "       [0., 0., 0., ..., 0., 0., 0.],\n",
      "       [0., 0., 0., ..., 0., 0., 0.]], dtype=float32), array([[0., 0., 0., ..., 0., 0., 0.],\n",
      "       [0., 0., 0., ..., 0., 0., 0.],\n",
      "       [0., 0., 0., ..., 0., 0., 0.],\n",
      "       ...,\n",
      "       [0., 0., 0., ..., 0., 0., 0.],\n",
      "       [0., 0., 0., ..., 0., 0., 0.],\n",
      "       [0., 0., 0., ..., 0., 0., 0.]], dtype=float32), array([[0., 0., 0., ..., 0., 0., 0.],\n",
      "       [0., 0., 0., ..., 0., 0., 0.],\n",
      "       [0., 0., 0., ..., 0., 0., 0.],\n",
      "       ...,\n",
      "       [0., 0., 0., ..., 0., 0., 0.],\n",
      "       [0., 0., 0., ..., 0., 0., 0.],\n",
      "       [0., 0., 0., ..., 0., 0., 0.]], dtype=float32), array([[0., 0., 0., ..., 0., 0., 0.],\n",
      "       [0., 0., 0., ..., 0., 0., 0.],\n",
      "       [0., 0., 0., ..., 0., 0., 0.],\n",
      "       ...,\n",
      "       [0., 0., 0., ..., 0., 0., 0.],\n",
      "       [0., 0., 0., ..., 0., 0., 0.],\n",
      "       [0., 0., 0., ..., 0., 0., 0.]], dtype=float32), array([[0., 0., 0., ..., 0., 0., 0.],\n",
      "       [0., 0., 0., ..., 0., 0., 0.],\n",
      "       [0., 0., 0., ..., 0., 0., 0.],\n",
      "       ...,\n",
      "       [0., 0., 0., ..., 0., 0., 0.],\n",
      "       [0., 0., 0., ..., 0., 0., 0.],\n",
      "       [0., 0., 0., ..., 0., 0., 0.]], dtype=float32), array([[0., 0., 0., ..., 0., 0., 0.],\n",
      "       [0., 0., 0., ..., 0., 0., 0.],\n",
      "       [0., 0., 0., ..., 0., 0., 0.],\n",
      "       ...,\n",
      "       [0., 0., 0., ..., 0., 0., 0.],\n",
      "       [0., 0., 0., ..., 0., 0., 0.],\n",
      "       [0., 0., 0., ..., 0., 0., 0.]], dtype=float32), array([[0., 0., 0., ..., 0., 0., 0.],\n",
      "       [0., 0., 0., ..., 0., 0., 0.],\n",
      "       [0., 0., 0., ..., 0., 0., 0.],\n",
      "       ...,\n",
      "       [0., 0., 0., ..., 0., 0., 0.],\n",
      "       [0., 0., 0., ..., 0., 0., 0.],\n",
      "       [0., 0., 0., ..., 0., 0., 0.]], dtype=float32), array([[0., 0., 0., ..., 0., 0., 0.],\n",
      "       [0., 0., 0., ..., 0., 0., 0.],\n",
      "       [0., 0., 0., ..., 0., 0., 0.],\n",
      "       ...,\n",
      "       [0., 0., 0., ..., 0., 0., 0.],\n",
      "       [0., 0., 0., ..., 0., 0., 0.],\n",
      "       [0., 0., 0., ..., 0., 0., 0.]], dtype=float32), array([[0., 0., 0., ..., 0., 0., 0.],\n",
      "       [0., 0., 0., ..., 0., 0., 0.],\n",
      "       [0., 0., 0., ..., 0., 0., 0.],\n",
      "       ...,\n",
      "       [0., 0., 0., ..., 0., 0., 0.],\n",
      "       [0., 0., 0., ..., 0., 0., 0.],\n",
      "       [0., 0., 0., ..., 0., 0., 0.]], dtype=float32), array([[0., 0., 0., ..., 0., 0., 0.],\n",
      "       [0., 0., 0., ..., 0., 0., 0.],\n",
      "       [0., 0., 0., ..., 0., 0., 0.],\n",
      "       ...,\n",
      "       [0., 0., 0., ..., 0., 0., 0.],\n",
      "       [0., 0., 0., ..., 0., 0., 0.],\n",
      "       [0., 0., 0., ..., 0., 0., 0.]], dtype=float32), array([[0., 0., 0., ..., 0., 0., 0.],\n",
      "       [0., 0., 0., ..., 0., 0., 0.],\n",
      "       [0., 0., 0., ..., 0., 0., 0.],\n",
      "       ...,\n",
      "       [0., 0., 0., ..., 0., 0., 0.],\n",
      "       [0., 0., 0., ..., 0., 0., 0.],\n",
      "       [0., 0., 0., ..., 0., 0., 0.]], dtype=float32), array([[0., 0., 0., ..., 0., 0., 0.],\n",
      "       [0., 0., 0., ..., 0., 0., 0.],\n",
      "       [0., 0., 0., ..., 0., 0., 0.],\n",
      "       ...,\n",
      "       [0., 0., 0., ..., 0., 0., 0.],\n",
      "       [0., 0., 0., ..., 0., 0., 0.],\n",
      "       [0., 0., 0., ..., 0., 0., 0.]], dtype=float32), array([[0., 0., 0., ..., 0., 0., 0.],\n",
      "       [0., 0., 0., ..., 0., 0., 0.],\n",
      "       [0., 0., 0., ..., 0., 0., 0.],\n",
      "       ...,\n",
      "       [0., 0., 0., ..., 0., 0., 0.],\n",
      "       [0., 0., 0., ..., 0., 0., 0.],\n",
      "       [0., 0., 0., ..., 0., 0., 0.]], dtype=float32), array([[0., 0., 0., ..., 0., 0., 0.],\n",
      "       [0., 0., 0., ..., 0., 0., 0.],\n",
      "       [0., 0., 0., ..., 0., 0., 0.],\n",
      "       ...,\n",
      "       [0., 0., 0., ..., 0., 0., 0.],\n",
      "       [0., 0., 0., ..., 0., 0., 0.],\n",
      "       [0., 0., 0., ..., 0., 0., 0.]], dtype=float32), array([[0., 0., 0., ..., 0., 0., 0.],\n",
      "       [0., 0., 0., ..., 0., 0., 0.],\n",
      "       [0., 0., 0., ..., 0., 0., 0.],\n",
      "       ...,\n",
      "       [0., 0., 0., ..., 0., 0., 0.],\n",
      "       [0., 0., 0., ..., 0., 0., 0.],\n",
      "       [0., 0., 0., ..., 0., 0., 0.]], dtype=float32), array([[0., 0., 0., ..., 0., 0., 0.],\n",
      "       [0., 0., 0., ..., 0., 0., 0.],\n",
      "       [0., 0., 0., ..., 0., 0., 0.],\n",
      "       ...,\n",
      "       [0., 0., 0., ..., 0., 0., 0.],\n",
      "       [0., 0., 0., ..., 0., 0., 0.],\n",
      "       [0., 0., 0., ..., 0., 0., 0.]], dtype=float32), array([[0., 0., 0., ..., 0., 0., 0.],\n",
      "       [0., 0., 0., ..., 0., 0., 0.],\n",
      "       [0., 0., 0., ..., 0., 0., 0.],\n",
      "       ...,\n",
      "       [0., 0., 0., ..., 0., 0., 0.],\n",
      "       [0., 0., 0., ..., 0., 0., 0.],\n",
      "       [0., 0., 0., ..., 0., 0., 0.]], dtype=float32), array([[0., 0., 0., ..., 0., 0., 0.],\n",
      "       [0., 0., 0., ..., 0., 0., 0.],\n",
      "       [0., 0., 0., ..., 0., 0., 0.],\n",
      "       ...,\n",
      "       [0., 0., 0., ..., 0., 0., 0.],\n",
      "       [0., 0., 0., ..., 0., 0., 0.],\n",
      "       [0., 0., 0., ..., 0., 0., 0.]], dtype=float32), array([[0., 0., 0., ..., 0., 0., 0.],\n",
      "       [0., 0., 0., ..., 0., 0., 0.],\n",
      "       [0., 0., 0., ..., 0., 0., 0.],\n",
      "       ...,\n",
      "       [0., 0., 0., ..., 0., 0., 0.],\n",
      "       [0., 0., 0., ..., 0., 0., 0.],\n",
      "       [0., 0., 0., ..., 0., 0., 0.]], dtype=float32), array([[0., 0., 0., ..., 0., 0., 0.],\n",
      "       [0., 0., 0., ..., 0., 0., 0.],\n",
      "       [0., 0., 0., ..., 0., 0., 0.],\n",
      "       ...,\n",
      "       [0., 0., 0., ..., 0., 0., 0.],\n",
      "       [0., 0., 0., ..., 0., 0., 0.],\n",
      "       [0., 0., 0., ..., 0., 0., 0.]], dtype=float32), array([[0., 0., 0., ..., 0., 0., 0.],\n",
      "       [0., 0., 0., ..., 0., 0., 0.],\n",
      "       [0., 0., 0., ..., 0., 0., 0.],\n",
      "       ...,\n",
      "       [0., 0., 0., ..., 0., 0., 0.],\n",
      "       [0., 0., 0., ..., 0., 0., 0.],\n",
      "       [0., 0., 0., ..., 0., 0., 0.]], dtype=float32), array([[0., 0., 0., ..., 0., 0., 0.],\n",
      "       [0., 0., 0., ..., 0., 0., 0.],\n",
      "       [0., 0., 0., ..., 0., 0., 0.],\n",
      "       ...,\n",
      "       [0., 0., 0., ..., 0., 0., 0.],\n",
      "       [0., 0., 0., ..., 0., 0., 0.],\n",
      "       [0., 0., 0., ..., 0., 0., 0.]], dtype=float32), array([[0., 0., 0., ..., 0., 0., 0.],\n",
      "       [0., 0., 0., ..., 0., 0., 0.],\n",
      "       [0., 0., 0., ..., 0., 0., 0.],\n",
      "       ...,\n",
      "       [0., 0., 0., ..., 0., 0., 0.],\n",
      "       [0., 0., 0., ..., 0., 0., 0.],\n",
      "       [0., 0., 0., ..., 0., 0., 0.]], dtype=float32), array([[0., 0., 0., ..., 0., 0., 0.],\n",
      "       [0., 0., 0., ..., 0., 0., 0.],\n",
      "       [0., 0., 0., ..., 0., 0., 0.],\n",
      "       ...,\n",
      "       [0., 0., 0., ..., 0., 0., 0.],\n",
      "       [0., 0., 0., ..., 0., 0., 0.],\n",
      "       [0., 0., 0., ..., 0., 0., 0.]], dtype=float32), array([[0., 0., 0., ..., 0., 0., 0.],\n",
      "       [0., 0., 0., ..., 0., 0., 0.],\n",
      "       [0., 0., 0., ..., 0., 0., 0.],\n",
      "       ...,\n",
      "       [0., 0., 0., ..., 0., 0., 0.],\n",
      "       [0., 0., 0., ..., 0., 0., 0.],\n",
      "       [0., 0., 0., ..., 0., 0., 0.]], dtype=float32), array([[0., 0., 0., ..., 0., 0., 0.],\n",
      "       [0., 0., 0., ..., 0., 0., 0.],\n",
      "       [0., 0., 0., ..., 0., 0., 0.],\n",
      "       ...,\n",
      "       [0., 0., 0., ..., 0., 0., 0.],\n",
      "       [0., 0., 0., ..., 0., 0., 0.],\n",
      "       [0., 0., 0., ..., 0., 0., 0.]], dtype=float32), array([[0., 0., 0., ..., 0., 0., 0.],\n",
      "       [0., 0., 0., ..., 0., 0., 0.],\n",
      "       [0., 0., 0., ..., 0., 0., 0.],\n",
      "       ...,\n",
      "       [0., 0., 0., ..., 0., 0., 0.],\n",
      "       [0., 0., 0., ..., 0., 0., 0.],\n",
      "       [0., 0., 0., ..., 0., 0., 0.]], dtype=float32), array([[0., 0., 0., ..., 0., 0., 0.],\n",
      "       [0., 0., 0., ..., 0., 0., 0.],\n",
      "       [0., 0., 0., ..., 0., 0., 0.],\n",
      "       ...,\n",
      "       [0., 0., 0., ..., 0., 0., 0.],\n",
      "       [0., 0., 0., ..., 0., 0., 0.],\n",
      "       [0., 0., 0., ..., 0., 0., 0.]], dtype=float32), array([[0., 0., 0., ..., 0., 0., 0.],\n",
      "       [0., 0., 0., ..., 0., 0., 0.],\n",
      "       [0., 0., 0., ..., 0., 0., 0.],\n",
      "       ...,\n",
      "       [0., 0., 0., ..., 0., 0., 0.],\n",
      "       [0., 0., 0., ..., 0., 0., 0.],\n",
      "       [0., 0., 0., ..., 0., 0., 0.]], dtype=float32), array([[0., 0., 0., ..., 0., 0., 0.],\n",
      "       [0., 0., 0., ..., 0., 0., 0.],\n",
      "       [0., 0., 0., ..., 0., 0., 0.],\n",
      "       ...,\n",
      "       [0., 0., 0., ..., 0., 0., 0.],\n",
      "       [0., 0., 0., ..., 0., 0., 0.],\n",
      "       [0., 0., 0., ..., 0., 0., 0.]], dtype=float32), array([[0., 0., 0., ..., 0., 0., 0.],\n",
      "       [0., 0., 0., ..., 0., 0., 0.],\n",
      "       [0., 0., 0., ..., 0., 0., 0.],\n",
      "       ...,\n",
      "       [0., 0., 0., ..., 0., 0., 0.],\n",
      "       [0., 0., 0., ..., 0., 0., 0.],\n",
      "       [0., 0., 0., ..., 0., 0., 0.]], dtype=float32), array([[0., 0., 0., ..., 0., 0., 0.],\n",
      "       [0., 0., 0., ..., 0., 0., 0.],\n",
      "       [0., 0., 0., ..., 0., 0., 0.],\n",
      "       ...,\n",
      "       [0., 0., 0., ..., 0., 0., 0.],\n",
      "       [0., 0., 0., ..., 0., 0., 0.],\n",
      "       [0., 0., 0., ..., 0., 0., 0.]], dtype=float32), array([[0., 0., 0., ..., 0., 0., 0.],\n",
      "       [0., 0., 0., ..., 0., 0., 0.],\n",
      "       [0., 0., 0., ..., 0., 0., 0.],\n",
      "       ...,\n",
      "       [0., 0., 0., ..., 0., 0., 0.],\n",
      "       [0., 0., 0., ..., 0., 0., 0.],\n",
      "       [0., 0., 0., ..., 0., 0., 0.]], dtype=float32), array([[0., 0., 0., ..., 0., 0., 0.],\n",
      "       [0., 0., 0., ..., 0., 0., 0.],\n",
      "       [0., 0., 0., ..., 0., 0., 0.],\n",
      "       ...,\n",
      "       [0., 0., 0., ..., 0., 0., 0.],\n",
      "       [0., 0., 0., ..., 0., 0., 0.],\n",
      "       [0., 0., 0., ..., 0., 0., 0.]], dtype=float32), array([[0., 0., 0., ..., 0., 0., 0.],\n",
      "       [0., 0., 0., ..., 0., 0., 0.],\n",
      "       [0., 0., 0., ..., 0., 0., 0.],\n",
      "       ...,\n",
      "       [0., 0., 0., ..., 0., 0., 0.],\n",
      "       [0., 0., 0., ..., 0., 0., 0.],\n",
      "       [0., 0., 0., ..., 0., 0., 0.]], dtype=float32), array([[0., 0., 0., ..., 0., 0., 0.],\n",
      "       [0., 0., 0., ..., 0., 0., 0.],\n",
      "       [0., 0., 0., ..., 0., 0., 0.],\n",
      "       ...,\n",
      "       [0., 0., 0., ..., 0., 0., 0.],\n",
      "       [0., 0., 0., ..., 0., 0., 0.],\n",
      "       [0., 0., 0., ..., 0., 0., 0.]], dtype=float32), array([[0., 0., 0., ..., 0., 0., 0.],\n",
      "       [0., 0., 0., ..., 0., 0., 0.],\n",
      "       [0., 0., 0., ..., 0., 0., 0.],\n",
      "       ...,\n",
      "       [0., 0., 0., ..., 0., 0., 0.],\n",
      "       [0., 0., 0., ..., 0., 0., 0.],\n",
      "       [0., 0., 0., ..., 0., 0., 0.]], dtype=float32), array([[0., 0., 0., ..., 0., 0., 0.],\n",
      "       [0., 0., 0., ..., 0., 0., 0.],\n",
      "       [0., 0., 0., ..., 0., 0., 0.],\n",
      "       ...,\n",
      "       [0., 0., 0., ..., 0., 0., 0.],\n",
      "       [0., 0., 0., ..., 0., 0., 0.],\n",
      "       [0., 0., 0., ..., 0., 0., 0.]], dtype=float32), array([[0., 0., 0., ..., 0., 0., 0.],\n",
      "       [0., 0., 0., ..., 0., 0., 0.],\n",
      "       [0., 0., 0., ..., 0., 0., 0.],\n",
      "       ...,\n",
      "       [0., 0., 0., ..., 0., 0., 0.],\n",
      "       [0., 0., 0., ..., 0., 0., 0.],\n",
      "       [0., 0., 0., ..., 0., 0., 0.]], dtype=float32), array([[0., 0., 0., ..., 0., 0., 0.],\n",
      "       [0., 0., 0., ..., 0., 0., 0.],\n",
      "       [0., 0., 0., ..., 0., 0., 0.],\n",
      "       ...,\n",
      "       [0., 0., 0., ..., 0., 0., 0.],\n",
      "       [0., 0., 0., ..., 0., 0., 0.],\n",
      "       [0., 0., 0., ..., 0., 0., 0.]], dtype=float32), array([[0., 0., 0., ..., 0., 0., 0.],\n",
      "       [0., 0., 0., ..., 0., 0., 0.],\n",
      "       [0., 0., 0., ..., 0., 0., 0.],\n",
      "       ...,\n",
      "       [0., 0., 0., ..., 0., 0., 0.],\n",
      "       [0., 0., 0., ..., 0., 0., 0.],\n",
      "       [0., 0., 0., ..., 0., 0., 0.]], dtype=float32), array([[0., 0., 0., ..., 0., 0., 0.],\n",
      "       [0., 0., 0., ..., 0., 0., 0.],\n",
      "       [0., 0., 0., ..., 0., 0., 0.],\n",
      "       ...,\n",
      "       [0., 0., 0., ..., 0., 0., 0.],\n",
      "       [0., 0., 0., ..., 0., 0., 0.],\n",
      "       [0., 0., 0., ..., 0., 0., 0.]], dtype=float32), array([[0., 0., 0., ..., 0., 0., 0.],\n",
      "       [0., 0., 0., ..., 0., 0., 0.],\n",
      "       [0., 0., 0., ..., 0., 0., 0.],\n",
      "       ...,\n",
      "       [0., 0., 0., ..., 0., 0., 0.],\n",
      "       [0., 0., 0., ..., 0., 0., 0.],\n",
      "       [0., 0., 0., ..., 0., 0., 0.]], dtype=float32), array([[0., 0., 0., ..., 0., 0., 0.],\n",
      "       [0., 0., 0., ..., 0., 0., 0.],\n",
      "       [0., 0., 0., ..., 0., 0., 0.],\n",
      "       ...,\n",
      "       [0., 0., 0., ..., 0., 0., 0.],\n",
      "       [0., 0., 0., ..., 0., 0., 0.],\n",
      "       [0., 0., 0., ..., 0., 0., 0.]], dtype=float32), array([[0., 0., 0., ..., 0., 0., 0.],\n",
      "       [0., 0., 0., ..., 0., 0., 0.],\n",
      "       [0., 0., 0., ..., 0., 0., 0.],\n",
      "       ...,\n",
      "       [0., 0., 0., ..., 0., 0., 0.],\n",
      "       [0., 0., 0., ..., 0., 0., 0.],\n",
      "       [0., 0., 0., ..., 0., 0., 0.]], dtype=float32), array([[0., 0., 0., ..., 0., 0., 0.],\n",
      "       [0., 0., 0., ..., 0., 0., 0.],\n",
      "       [0., 0., 0., ..., 0., 0., 0.],\n",
      "       ...,\n",
      "       [0., 0., 0., ..., 0., 0., 0.],\n",
      "       [0., 0., 0., ..., 0., 0., 0.],\n",
      "       [0., 0., 0., ..., 0., 0., 0.]], dtype=float32), array([[0., 0., 0., ..., 0., 0., 0.],\n",
      "       [0., 0., 0., ..., 0., 0., 0.],\n",
      "       [0., 0., 0., ..., 0., 0., 0.],\n",
      "       ...,\n",
      "       [0., 0., 0., ..., 0., 0., 0.],\n",
      "       [0., 0., 0., ..., 0., 0., 0.],\n",
      "       [0., 0., 0., ..., 0., 0., 0.]], dtype=float32), array([[0., 0., 0., ..., 0., 0., 0.],\n",
      "       [0., 0., 0., ..., 0., 0., 0.],\n",
      "       [0., 0., 0., ..., 0., 0., 0.],\n",
      "       ...,\n",
      "       [0., 0., 0., ..., 0., 0., 0.],\n",
      "       [0., 0., 0., ..., 0., 0., 0.],\n",
      "       [0., 0., 0., ..., 0., 0., 0.]], dtype=float32), array([[0., 0., 0., ..., 0., 0., 0.],\n",
      "       [0., 0., 0., ..., 0., 0., 0.],\n",
      "       [0., 0., 0., ..., 0., 0., 0.],\n",
      "       ...,\n",
      "       [0., 0., 0., ..., 0., 0., 0.],\n",
      "       [0., 0., 0., ..., 0., 0., 0.],\n",
      "       [0., 0., 0., ..., 0., 0., 0.]], dtype=float32), array([[0., 0., 0., ..., 0., 0., 0.],\n",
      "       [0., 0., 0., ..., 0., 0., 0.],\n",
      "       [0., 0., 0., ..., 0., 0., 0.],\n",
      "       ...,\n",
      "       [0., 0., 0., ..., 0., 0., 0.],\n",
      "       [0., 0., 0., ..., 0., 0., 0.],\n",
      "       [0., 0., 0., ..., 0., 0., 0.]], dtype=float32), array([[0., 0., 0., ..., 0., 0., 0.],\n",
      "       [0., 0., 0., ..., 0., 0., 0.],\n",
      "       [0., 0., 0., ..., 0., 0., 0.],\n",
      "       ...,\n",
      "       [0., 0., 0., ..., 0., 0., 0.],\n",
      "       [0., 0., 0., ..., 0., 0., 0.],\n",
      "       [0., 0., 0., ..., 0., 0., 0.]], dtype=float32), array([[0., 0., 0., ..., 0., 0., 0.],\n",
      "       [0., 0., 0., ..., 0., 0., 0.],\n",
      "       [0., 0., 0., ..., 0., 0., 0.],\n",
      "       ...,\n",
      "       [0., 0., 0., ..., 0., 0., 0.],\n",
      "       [0., 0., 0., ..., 0., 0., 0.],\n",
      "       [0., 0., 0., ..., 0., 0., 0.]], dtype=float32), array([[0., 0., 0., ..., 0., 0., 0.],\n",
      "       [0., 0., 0., ..., 0., 0., 0.],\n",
      "       [0., 0., 0., ..., 0., 0., 0.],\n",
      "       ...,\n",
      "       [0., 0., 0., ..., 0., 0., 0.],\n",
      "       [0., 0., 0., ..., 0., 0., 0.],\n",
      "       [0., 0., 0., ..., 0., 0., 0.]], dtype=float32), array([[0., 0., 0., ..., 0., 0., 0.],\n",
      "       [0., 0., 0., ..., 0., 0., 0.],\n",
      "       [0., 0., 0., ..., 0., 0., 0.],\n",
      "       ...,\n",
      "       [0., 0., 0., ..., 0., 0., 0.],\n",
      "       [0., 0., 0., ..., 0., 0., 0.],\n",
      "       [0., 0., 0., ..., 0., 0., 0.]], dtype=float32), array([[0., 0., 0., ..., 0., 0., 0.],\n",
      "       [0., 0., 0., ..., 0., 0., 0.],\n",
      "       [0., 0., 0., ..., 0., 0., 0.],\n",
      "       ...,\n",
      "       [0., 0., 0., ..., 0., 0., 0.],\n",
      "       [0., 0., 0., ..., 0., 0., 0.],\n",
      "       [0., 0., 0., ..., 0., 0., 0.]], dtype=float32), array([[0., 0., 0., ..., 0., 0., 0.],\n",
      "       [0., 0., 0., ..., 0., 0., 0.],\n",
      "       [0., 0., 0., ..., 0., 0., 0.],\n",
      "       ...,\n",
      "       [0., 0., 0., ..., 0., 0., 0.],\n",
      "       [0., 0., 0., ..., 0., 0., 0.],\n",
      "       [0., 0., 0., ..., 0., 0., 0.]], dtype=float32), array([[0., 0., 0., ..., 0., 0., 0.],\n",
      "       [0., 0., 0., ..., 0., 0., 0.],\n",
      "       [0., 0., 0., ..., 0., 0., 0.],\n",
      "       ...,\n",
      "       [0., 0., 0., ..., 0., 0., 0.],\n",
      "       [0., 0., 0., ..., 0., 0., 0.],\n",
      "       [0., 0., 0., ..., 0., 0., 0.]], dtype=float32), array([[0., 0., 0., ..., 0., 0., 0.],\n",
      "       [0., 0., 0., ..., 0., 0., 0.],\n",
      "       [0., 0., 0., ..., 0., 0., 0.],\n",
      "       ...,\n",
      "       [0., 0., 0., ..., 0., 0., 0.],\n",
      "       [0., 0., 0., ..., 0., 0., 0.],\n",
      "       [0., 0., 0., ..., 0., 0., 0.]], dtype=float32), array([[0., 0., 0., ..., 0., 0., 0.],\n",
      "       [0., 0., 0., ..., 0., 0., 0.],\n",
      "       [0., 0., 0., ..., 0., 0., 0.],\n",
      "       ...,\n",
      "       [0., 0., 0., ..., 0., 0., 0.],\n",
      "       [0., 0., 0., ..., 0., 0., 0.],\n",
      "       [0., 0., 0., ..., 0., 0., 0.]], dtype=float32), array([[0., 0., 0., ..., 0., 0., 0.],\n",
      "       [0., 0., 0., ..., 0., 0., 0.],\n",
      "       [0., 0., 0., ..., 0., 0., 0.],\n",
      "       ...,\n",
      "       [0., 0., 0., ..., 0., 0., 0.],\n",
      "       [0., 0., 0., ..., 0., 0., 0.],\n",
      "       [0., 0., 0., ..., 0., 0., 0.]], dtype=float32), array([[0., 0., 0., ..., 0., 0., 0.],\n",
      "       [0., 0., 0., ..., 0., 0., 0.],\n",
      "       [0., 0., 0., ..., 0., 0., 0.],\n",
      "       ...,\n",
      "       [0., 0., 0., ..., 0., 0., 0.],\n",
      "       [0., 0., 0., ..., 0., 0., 0.],\n",
      "       [0., 0., 0., ..., 0., 0., 0.]], dtype=float32), array([[0., 0., 0., ..., 0., 0., 0.],\n",
      "       [0., 0., 0., ..., 0., 0., 0.],\n",
      "       [0., 0., 0., ..., 0., 0., 0.],\n",
      "       ...,\n",
      "       [0., 0., 0., ..., 0., 0., 0.],\n",
      "       [0., 0., 0., ..., 0., 0., 0.],\n",
      "       [0., 0., 0., ..., 0., 0., 0.]], dtype=float32), array([[0., 0., 0., ..., 0., 0., 0.],\n",
      "       [0., 0., 0., ..., 0., 0., 0.],\n",
      "       [0., 0., 0., ..., 0., 0., 0.],\n",
      "       ...,\n",
      "       [0., 0., 0., ..., 0., 0., 0.],\n",
      "       [0., 0., 0., ..., 0., 0., 0.],\n",
      "       [0., 0., 0., ..., 0., 0., 0.]], dtype=float32), array([[0., 0., 0., ..., 0., 0., 0.],\n",
      "       [0., 0., 0., ..., 0., 0., 0.],\n",
      "       [0., 0., 0., ..., 0., 0., 0.],\n",
      "       ...,\n",
      "       [0., 0., 0., ..., 0., 0., 0.],\n",
      "       [0., 0., 0., ..., 0., 0., 0.],\n",
      "       [0., 0., 0., ..., 0., 0., 0.]], dtype=float32), array([[0., 0., 0., ..., 0., 0., 0.],\n",
      "       [0., 0., 0., ..., 0., 0., 0.],\n",
      "       [0., 0., 0., ..., 0., 0., 0.],\n",
      "       ...,\n",
      "       [0., 0., 0., ..., 0., 0., 0.],\n",
      "       [0., 0., 0., ..., 0., 0., 0.],\n",
      "       [0., 0., 0., ..., 0., 0., 0.]], dtype=float32), array([[0., 0., 0., ..., 0., 0., 0.],\n",
      "       [0., 0., 0., ..., 0., 0., 0.],\n",
      "       [0., 0., 0., ..., 0., 0., 0.],\n",
      "       ...,\n",
      "       [0., 0., 0., ..., 0., 0., 0.],\n",
      "       [0., 0., 0., ..., 0., 0., 0.],\n",
      "       [0., 0., 0., ..., 0., 0., 0.]], dtype=float32), array([[0., 0., 0., ..., 0., 0., 0.],\n",
      "       [0., 0., 0., ..., 0., 0., 0.],\n",
      "       [0., 0., 0., ..., 0., 0., 0.],\n",
      "       ...,\n",
      "       [0., 0., 0., ..., 0., 0., 0.],\n",
      "       [0., 0., 0., ..., 0., 0., 0.],\n",
      "       [0., 0., 0., ..., 0., 0., 0.]], dtype=float32), array([[0., 0., 0., ..., 0., 0., 0.],\n",
      "       [0., 0., 0., ..., 0., 0., 0.],\n",
      "       [0., 0., 0., ..., 0., 0., 0.],\n",
      "       ...,\n",
      "       [0., 0., 0., ..., 0., 0., 0.],\n",
      "       [0., 0., 0., ..., 0., 0., 0.],\n",
      "       [0., 0., 0., ..., 0., 0., 0.]], dtype=float32), array([[0., 0., 0., ..., 0., 0., 0.],\n",
      "       [0., 0., 0., ..., 0., 0., 0.],\n",
      "       [0., 0., 0., ..., 0., 0., 0.],\n",
      "       ...,\n",
      "       [0., 0., 0., ..., 0., 0., 0.],\n",
      "       [0., 0., 0., ..., 0., 0., 0.],\n",
      "       [0., 0., 0., ..., 0., 0., 0.]], dtype=float32), array([[0., 0., 0., ..., 0., 0., 0.],\n",
      "       [0., 0., 0., ..., 0., 0., 0.],\n",
      "       [0., 0., 0., ..., 0., 0., 0.],\n",
      "       ...,\n",
      "       [0., 0., 0., ..., 0., 0., 0.],\n",
      "       [0., 0., 0., ..., 0., 0., 0.],\n",
      "       [0., 0., 0., ..., 0., 0., 0.]], dtype=float32), array([[0., 0., 0., ..., 0., 0., 0.],\n",
      "       [0., 0., 0., ..., 0., 0., 0.],\n",
      "       [0., 0., 0., ..., 0., 0., 0.],\n",
      "       ...,\n",
      "       [0., 0., 0., ..., 0., 0., 0.],\n",
      "       [0., 0., 0., ..., 0., 0., 0.],\n",
      "       [0., 0., 0., ..., 0., 0., 0.]], dtype=float32), array([[0., 0., 0., ..., 0., 0., 0.],\n",
      "       [0., 0., 0., ..., 0., 0., 0.],\n",
      "       [0., 0., 0., ..., 0., 0., 0.],\n",
      "       ...,\n",
      "       [0., 0., 0., ..., 0., 0., 0.],\n",
      "       [0., 0., 0., ..., 0., 0., 0.],\n",
      "       [0., 0., 0., ..., 0., 0., 0.]], dtype=float32), array([[0., 0., 0., ..., 0., 0., 0.],\n",
      "       [0., 0., 0., ..., 0., 0., 0.],\n",
      "       [0., 0., 0., ..., 0., 0., 0.],\n",
      "       ...,\n",
      "       [0., 0., 0., ..., 0., 0., 0.],\n",
      "       [0., 0., 0., ..., 0., 0., 0.],\n",
      "       [0., 0., 0., ..., 0., 0., 0.]], dtype=float32), array([[0., 0., 0., ..., 0., 0., 0.],\n",
      "       [0., 0., 0., ..., 0., 0., 0.],\n",
      "       [0., 0., 0., ..., 0., 0., 0.],\n",
      "       ...,\n",
      "       [0., 0., 0., ..., 0., 0., 0.],\n",
      "       [0., 0., 0., ..., 0., 0., 0.],\n",
      "       [0., 0., 0., ..., 0., 0., 0.]], dtype=float32), array([[0., 0., 0., ..., 0., 0., 0.],\n",
      "       [0., 0., 0., ..., 0., 0., 0.],\n",
      "       [0., 0., 0., ..., 0., 0., 0.],\n",
      "       ...,\n",
      "       [0., 0., 0., ..., 0., 0., 0.],\n",
      "       [0., 0., 0., ..., 0., 0., 0.],\n",
      "       [0., 0., 0., ..., 0., 0., 0.]], dtype=float32), array([[0., 0., 0., ..., 0., 0., 0.],\n",
      "       [0., 0., 0., ..., 0., 0., 0.],\n",
      "       [0., 0., 0., ..., 0., 0., 0.],\n",
      "       ...,\n",
      "       [0., 0., 0., ..., 0., 0., 0.],\n",
      "       [0., 0., 0., ..., 0., 0., 0.],\n",
      "       [0., 0., 0., ..., 0., 0., 0.]], dtype=float32), array([[0., 0., 0., ..., 0., 0., 0.],\n",
      "       [0., 0., 0., ..., 0., 0., 0.],\n",
      "       [0., 0., 0., ..., 0., 0., 0.],\n",
      "       ...,\n",
      "       [0., 0., 0., ..., 0., 0., 0.],\n",
      "       [0., 0., 0., ..., 0., 0., 0.],\n",
      "       [0., 0., 0., ..., 0., 0., 0.]], dtype=float32), array([[0., 0., 0., ..., 0., 0., 0.],\n",
      "       [0., 0., 0., ..., 0., 0., 0.],\n",
      "       [0., 0., 0., ..., 0., 0., 0.],\n",
      "       ...,\n",
      "       [0., 0., 0., ..., 0., 0., 0.],\n",
      "       [0., 0., 0., ..., 0., 0., 0.],\n",
      "       [0., 0., 0., ..., 0., 0., 0.]], dtype=float32), array([[0., 0., 0., ..., 0., 0., 0.],\n",
      "       [0., 0., 0., ..., 0., 0., 0.],\n",
      "       [0., 0., 0., ..., 0., 0., 0.],\n",
      "       ...,\n",
      "       [0., 0., 0., ..., 0., 0., 0.],\n",
      "       [0., 0., 0., ..., 0., 0., 0.],\n",
      "       [0., 0., 0., ..., 0., 0., 0.]], dtype=float32), array([[0., 0., 0., ..., 0., 0., 0.],\n",
      "       [0., 0., 0., ..., 0., 0., 0.],\n",
      "       [0., 0., 0., ..., 0., 0., 0.],\n",
      "       ...,\n",
      "       [0., 0., 0., ..., 0., 0., 0.],\n",
      "       [0., 0., 0., ..., 0., 0., 0.],\n",
      "       [0., 0., 0., ..., 0., 0., 0.]], dtype=float32)]\n"
     ]
    }
   ],
   "source": [
    "print(diff_weights)"
   ]
  },
  {
   "cell_type": "code",
   "execution_count": null,
   "metadata": {},
   "outputs": [],
   "source": []
  }
 ],
 "metadata": {
  "kernelspec": {
   "display_name": "tf",
   "language": "python",
   "name": "python3"
  },
  "language_info": {
   "codemirror_mode": {
    "name": "ipython",
    "version": 3
   },
   "file_extension": ".py",
   "mimetype": "text/x-python",
   "name": "python",
   "nbconvert_exporter": "python",
   "pygments_lexer": "ipython3",
   "version": "3.9.16"
  },
  "orig_nbformat": 4
 },
 "nbformat": 4,
 "nbformat_minor": 2
}
